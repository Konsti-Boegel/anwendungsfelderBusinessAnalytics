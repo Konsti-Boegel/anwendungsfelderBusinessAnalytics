{
 "cells": [
  {
   "cell_type": "markdown",
   "source": [
    "<h1>Import Libraries<h1>"
   ],
   "metadata": {
    "collapsed": false
   },
   "id": "4a6ce4eedb10e3e0"
  },
  {
   "cell_type": "markdown",
   "source": [
    "<h1> Titel: Machine Learning Projekt im Bereich Direct Mail Marketing <h1>"
   ],
   "metadata": {
    "collapsed": false
   },
   "id": "b3e5cdf6750f6b8e"
  },
  {
   "cell_type": "code",
   "execution_count": 36,
   "outputs": [],
   "source": [
    "import pandas as pd\n",
    "import numpy as np\n",
    "import matplotlib.pyplot as plt\n",
    "from sklearn.ensemble import RandomForestClassifier\n",
    "from sklearn.model_selection import train_test_split\n",
    "from sklearn.metrics import accuracy_score, precision_score, recall_score, f1_score\n",
    "from sklearn.metrics import confusion_matrix, ConfusionMatrixDisplay\n",
    "from pprint import pprint\n",
    "from sklearn.model_selection import GridSearchCV\n",
    "from sklearn.metrics import make_scorer\n",
    "from sklearn.metrics import roc_curve, auc"
   ],
   "metadata": {
    "collapsed": false,
    "ExecuteTime": {
     "end_time": "2024-01-06T18:16:19.777261800Z",
     "start_time": "2024-01-06T18:16:18.352616700Z"
    }
   },
   "id": "83492495e8444036"
  },
  {
   "cell_type": "code",
   "execution_count": 37,
   "outputs": [],
   "source": [
    "import warnings\n",
    "warnings.filterwarnings(\"ignore\", category=FutureWarning)"
   ],
   "metadata": {
    "collapsed": false,
    "ExecuteTime": {
     "end_time": "2024-01-06T18:16:19.799715200Z",
     "start_time": "2024-01-06T18:16:18.380430200Z"
    }
   },
   "id": "65de95927fdc9695"
  },
  {
   "cell_type": "markdown",
   "source": [
    "<h1>Datensatz einlesen<h1>"
   ],
   "metadata": {
    "collapsed": false
   },
   "id": "230839d8bcfd5174"
  },
  {
   "cell_type": "code",
   "execution_count": 38,
   "outputs": [],
   "source": [
    "path = r'./out/df_clean.csv'\n",
    "df = pd.read_csv(path, sep=';', decimal=',')"
   ],
   "metadata": {
    "collapsed": false,
    "ExecuteTime": {
     "end_time": "2024-01-06T18:16:20.343682400Z",
     "start_time": "2024-01-06T18:16:18.397315600Z"
    }
   },
   "id": "fbbd6c5f49c385c9"
  },
  {
   "cell_type": "markdown",
   "source": [
    "<h1>Erläuterung der Datenspalten und Betrachtung einzelner Features<h1>"
   ],
   "metadata": {
    "collapsed": false
   },
   "id": "ba4113ebe137e91f"
  },
  {
   "cell_type": "markdown",
   "source": [
    "*   ZIP_CODE -> *Postleitzahl*\n",
    "*   DAYS_SINCE_PURCHASE -> *Tage seit Kaufdatum*\n",
    "*   PURCHASE_VISITS -> *Anzahl der Kaufbesuche*\n",
    "*   TOTAL_NET_SALES -> *Gesamtnettoumsatz*\n",
    "*   CC_CARD -> *Kreditkartenbenutzung*\n",
    "*   AVE_AMOUNT_SPENT -> *Durchschnittlicher Betrag, der pro Besuch ausgegeben wird*\n",
    "*   AMSPEND -> *im Franchise AM ausgegebener Betrag*\n",
    "*   PSSPEND -> *im Franchise PS ausgegebener Betrag*\n",
    "*   CCSPEND -> *im Franchise CC ausgegebener Betrag*\n",
    "*   AXSPEND -> *im Franchise AX ausgegebener Betrag*\n",
    "*   OMONSPEND -> *im letzten Monat ausgegebener Betrag*\n",
    "*   TMONSPEND -> *in den letzten drei Monaten ausgegebener Betrag*\n",
    "*   SMONSPEND -> *in den letzten sechs Monaten ausgegebener Betrag*\n",
    "*   PREVPD -> *im gleichen Zeitraum des letzten Jahres ausgegebener Betrag*\n",
    "*   GMP -> *Prozentsatz der Bruttomarge*\n",
    "*   PROMOS -> *Anzahl der gespeicherten Marketingaktionen*\n",
    "*   DAYS -> *Anzahl der Tage, in denen der Kunde registriert war*\n",
    "*   FREDAYS -> *Anzahl der Tage zwischen den Käufen*\n",
    "*   MARKDOWN -> *Abschlagsprozentsatz auf Kundenkäufe*\n",
    "*   CLASSES -> *Anzahl der gekauften unterschiedlichen Produktklassen*\n",
    "*   COUPONS -> *Anzahl der vom Kunden verwendeten Coupons*\n",
    "*   STYLES -> *Gesamtzahl der vom Kunden gekauften Einzalartikel*\n",
    "*   STORES -> *Anzahl der Geschäfte, in denen der Kunde eingekauft hat*\n",
    "*   VALPHON -> *gültige Telefonnummer hinterlegt*\n",
    "*   WEB -> *WEB-Shopper*\n",
    "*   MAILED -> *Anzahl der im vergangenen Jahr verschickten Werbeaktionen*\n",
    "*   RESPONDED -> *Anzahl der Werbeaktion, auf die im vergangenen Jahr reagiert wurde*\n",
    "*   RESPONSERATE -> *Aktionsrücklauf für das vergangene Jahr*\n",
    "*   HI -> *Produkteinheitlichkeit (niedriger Wert = unterschiedlicher Ausgabemuster)*\n",
    "*   LTFREDAY -> *Lebenslage durchschnittliche Zeit zwischen Besuchen*\n",
    "*   CLUSTYPE -> *Clusterzugehörigkeit*\n",
    "*   PERCRET -> *Prozentsatz an Rückläufern*\n",
    "*   RESP -> *Reaktion auf Promo*"
   ],
   "metadata": {
    "collapsed": false
   },
   "id": "3ebf5b7e33e09bb7"
  },
  {
   "cell_type": "markdown",
   "source": [
    "<h1>Funktionen<h1>"
   ],
   "metadata": {
    "collapsed": false
   },
   "id": "87645e9c4b129e37"
  },
  {
   "cell_type": "markdown",
   "source": [
    "<h3>Funktion für den Train Test Validation Split<h3>"
   ],
   "metadata": {
    "collapsed": false
   },
   "id": "ee40a94d5936924b"
  },
  {
   "cell_type": "code",
   "execution_count": 40,
   "outputs": [],
   "source": [
    "#nimmt Dataframe entgegen und gibt Trainings-, Test- und Validationdataframes im Verhältnins (80%,20%,5%) zurück\n",
    "def split_train_test(df):\n",
    "    random_state = 4711\n",
    "    features = [x for x in df.columns if x!= \"RESP\"]\n",
    "    X = df[features]\n",
    "    y = df[\"RESP\"]\n",
    "    X_train, X_test_2, y_train, y_test_2 = train_test_split(X, y, test_size = 0.05, random_state=random_state)\n",
    "    X_train, X_test_1, y_train, y_test_1 = train_test_split(X_train, y_train, test_size = 0.2, random_state=random_state)\n",
    "    return X_train, X_test_2, y_train, y_test_2, X_test_1, y_test_1"
   ],
   "metadata": {
    "collapsed": false,
    "ExecuteTime": {
     "end_time": "2024-01-06T18:16:20.343682400Z",
     "start_time": "2024-01-06T18:16:19.625338Z"
    }
   },
   "id": "23743b49b2426294"
  },
  {
   "cell_type": "markdown",
   "source": [
    "<h3>Funktion für die Errechnung des Gewinns/Verlustes auf Grundlage der Gewinn-/Verlustmatrix<h3>"
   ],
   "metadata": {
    "collapsed": false
   },
   "id": "a85f125fa87c9fa5"
  },
  {
   "cell_type": "code",
   "execution_count": 41,
   "outputs": [],
   "source": [
    "#nimmt die tatsächlichen und die vorhergesagten Werte als Series entgegen und gibt den auf Grundlage der Aufgabenstellung errechneten Gewinn/Verlust zurück\n",
    "def get_result_score(y_true, y_predicted):\n",
    "    TP = 0\n",
    "    FP = 0\n",
    "    TN = 0\n",
    "    FN = 0\n",
    "\n",
    "    print(\"Y-true Typ: \", type(y_true))\n",
    "    print(\"y_predicted Typ: \", type(y_predicted))\n",
    "\n",
    "    y_true = y_true.to_list()\n",
    "    y_predicted = y_predicted.tolist()\n",
    "\n",
    "    print(\"y_true: \", y_true)\n",
    "    print(\"y_predicted: \", y_predicted)\n",
    "\n",
    "    for i in range(len(y_predicted)):\n",
    "        if y_true[i]==y_predicted[i]==1:\n",
    "            TP += 1\n",
    "        if y_predicted[i]==1 and y_true[i]!=y_predicted[i]:\n",
    "            FP += 1\n",
    "        if y_true[i]==y_predicted[i]==0:\n",
    "            TN += 1\n",
    "        if y_predicted[i]==0 and y_true[i]!=y_predicted[i]:\n",
    "            FN += 1\n",
    "\n",
    "    print(\"TP: \",TP)\n",
    "    print(\"FP: \",FP)\n",
    "    print(\"TN: \",TN)\n",
    "    print(\"FN: \",FN)\n",
    "\n",
    "\n",
    "    return (TP*16+FP*(-2)+TN*(0)+FN*(-16))"
   ],
   "metadata": {
    "collapsed": false,
    "ExecuteTime": {
     "end_time": "2024-01-06T18:16:20.343682400Z",
     "start_time": "2024-01-06T18:16:19.625338Z"
    }
   },
   "id": "2995149185746d8b"
  },
  {
   "cell_type": "markdown",
   "source": [
    "<h1>Random Forest Classifier<h1>"
   ],
   "metadata": {
    "collapsed": false
   },
   "id": "b8cff00e26d72e1"
  },
  {
   "cell_type": "markdown",
   "source": [
    "**Betrachtete Hyperparameter Random Forest**\n",
    "\n",
    "*   n_estimators: Anzahl erstellter Entscheidungsbäume innerhalb des Random Forest \n",
    "*   max_features: Maximale Anzahl an Features, für die Erstellung eines Entscheidungsbaums\n",
    "*   max_depth: Maximale Tiefe jedes Entscheidungsbaums innerhalb des Random Forest\n",
    "*   bootstrap: Mit oder ohne Zurücklegen, bei der zufälligen Auswahl der subsamples"
   ],
   "metadata": {
    "collapsed": false
   },
   "id": "839146f0ea49744a"
  },
  {
   "cell_type": "markdown",
   "source": [
    "<h3>Beispiel: Erster Random Forest Classifier mit einer maximalen Tiefe von 4<h3>"
   ],
   "metadata": {
    "collapsed": false
   },
   "id": "7874865bb95d26fe"
  },
  {
   "cell_type": "code",
   "execution_count": 42,
   "outputs": [
    {
     "name": "stdout",
     "output_type": "stream",
     "text": [
      "Accuracy:  84.70104091019124 %\n",
      "Recall:  18.207282913165265 %\n",
      "Precision:  73.03370786516854 %\n",
      "F1 Score:  29.14798206278027 %\n"
     ]
    },
    {
     "data": {
      "text/plain": "<Figure size 640x480 with 2 Axes>",
      "image/png": "[encoded data removed]"
     },
     "metadata": {},
     "output_type": "display_data"
    }
   ],
   "source": [
    "X_train, X_test_2, y_train, y_test_2, X_test_1, y_test_1 = split_train_test(df) #Train-,Test-,Validationsplit\n",
    "rf = RandomForestClassifier(max_depth=4, random_state=4711) #Classifier Instanz erstellen\n",
    "rf.fit(X_train, y_train) #Trainieren mit Train Datasplit\n",
    "y_predict = rf.predict(X_test_1) #Klassifikation der Test1 Daten\n",
    "\n",
    "accuracy = accuracy_score(y_test_1, y_predict) #Errechnung des accuracy Scores der Vorhersage: Accuracy = (TP+TN)/(TP+TN+FP+FN)\n",
    "precision = precision_score(y_test_1, y_predict) #Errechnung des precision Scores der Vorhersage: Precision = TP/(TP+FP)\n",
    "recall = recall_score(y_test_1, y_predict) #Errechnung des recall Scores der Vorhersage: Recall = TP/(TP+FN)\n",
    "f1score = f1_score(y_test_1, y_predict) #Errechnung des F1Scores der Vorhersage: F1Score = ((1/Precision+1/Recall)/2)^-1\n",
    "\n",
    "print(\"Accuracy: \",accuracy*100, \"%\")\n",
    "print(\"Recall: \", recall*100, \"%\")\n",
    "print(\"Precision: \", precision*100, \"%\")\n",
    "print(\"F1 Score: \", f1score*100, \"%\")\n",
    "\n",
    "## Confusion Matrix der Klassifizierung ausgeben\n",
    "matrix = confusion_matrix(y_test_1,y_predict,labels=rf.classes_)\n",
    "disp = ConfusionMatrixDisplay(confusion_matrix=matrix, display_labels=rf.classes_)\n",
    "disp.plot()\n",
    "plt.grid(False)\n",
    "plt.title(\"Random Forest Modells mit einer maximalen Baumtiefe von 4\")\n",
    "plt.show()"
   ],
   "metadata": {
    "collapsed": false,
    "ExecuteTime": {
     "end_time": "2024-01-06T18:16:25.872310400Z",
     "start_time": "2024-01-06T18:16:19.625338Z"
    }
   },
   "id": "246a96a659c02697"
  },
  {
   "cell_type": "markdown",
   "source": [
    "<h3>Dabei von dem Random Forest Classifier genutzte Parameter<h3>"
   ],
   "metadata": {
    "collapsed": false
   },
   "id": "82928fb8681aca33"
  },
  {
   "cell_type": "code",
   "execution_count": 43,
   "outputs": [
    {
     "name": "stdout",
     "output_type": "stream",
     "text": [
      "Parameters currently in use:\n",
      "\n",
      "{'bootstrap': True,\n",
      " 'ccp_alpha': 0.0,\n",
      " 'class_weight': None,\n",
      " 'criterion': 'gini',\n",
      " 'max_depth': 4,\n",
      " 'max_features': 'auto',\n",
      " 'max_leaf_nodes': None,\n",
      " 'max_samples': None,\n",
      " 'min_impurity_decrease': 0.0,\n",
      " 'min_samples_leaf': 1,\n",
      " 'min_samples_split': 2,\n",
      " 'min_weight_fraction_leaf': 0.0,\n",
      " 'n_estimators': 100,\n",
      " 'n_jobs': None,\n",
      " 'oob_score': False,\n",
      " 'random_state': 4711,\n",
      " 'verbose': 0,\n",
      " 'warm_start': False}\n"
     ]
    }
   ],
   "source": [
    "print(\"Parameters currently in use:\\n\")\n",
    "pprint(rf.get_params())"
   ],
   "metadata": {
    "collapsed": false,
    "ExecuteTime": {
     "end_time": "2024-01-06T18:16:25.872310400Z",
     "start_time": "2024-01-06T18:16:25.833318900Z"
    }
   },
   "id": "5c9055d3908279d3"
  },
  {
   "cell_type": "markdown",
   "source": [
    "<h4>Betrachtung der 10 Features, die bei diesem Random Forest Classifier am stärksten zur Klassifizierung beigetragen haben.<h4>"
   ],
   "metadata": {
    "collapsed": false
   },
   "id": "57254422ef4dc19f"
  },
  {
   "cell_type": "markdown",
   "source": [
    "<h4>Erstellen von Arrays mit Hyperparameterwerten, die für die GridSearch genutzt werden sollen<h4>"
   ],
   "metadata": {
    "collapsed": false
   },
   "id": "835dcfafa8920453"
  },
  {
   "cell_type": "code",
   "execution_count": 44,
   "outputs": [
    {
     "name": "stderr",
     "output_type": "stream",
     "text": [
      "C:\\Users\\svenb\\AppData\\Local\\Temp\\ipykernel_2528\\126204600.py:8: SettingWithCopyWarning: \n",
      "A value is trying to be set on a copy of a slice from a DataFrame.\n",
      "Try using .loc[row_indexer,col_indexer] = value instead\n",
      "\n",
      "See the caveats in the documentation: https://pandas.pydata.org/pandas-docs/stable/user_guide/indexing.html#returning-a-view-versus-a-copy\n",
      "  df_important_features[\"RESP\"] = df[\"RESP\"]\n"
     ]
    },
    {
     "name": "stdout",
     "output_type": "stream",
     "text": [
      "{'bootstrap': [True, False],\n",
      " 'max_depth': [5, 10, 15, 20, 25, 30, 35, 40, 45, 50],\n",
      " 'max_features': ['auto', 'sqrt'],\n",
      " 'n_estimators': [100, 200, 300, 400, 500, 600, 700, 800, 900, 1000]}\n"
     ]
    },
    {
     "data": {
      "text/plain": "<Figure size 640x480 with 1 Axes>",
      "image/png": "[encoded data removed]"
     },
     "metadata": {},
     "output_type": "display_data"
    }
   ],
   "source": [
    "#Ausgabe der Top 10 Features auf Grundlage des Mean Decrease in Impurity (MDI)\n",
    "feat_importances = pd.Series(rf.feature_importances_, index=X_train.columns) #Erstellen einer Series mit MDI Werten und zugehörigen feature Namen\n",
    "feat_importances.nlargest(10).plot(kind='barh', title = \"Important features - Random Forest Classifier\") #Darstellen der nach MDI Wert 10 wichtigsten Features bei der Erstellung des Random Forest Classifiers\n",
    "\n",
    "\n",
    "#Erstellen von Train-,Test- und Validationsplits nur mit den 10 wichtigsten Features\n",
    "important_features = feat_importances.nlargest(10).index \n",
    "df_important_features = df[important_features]\n",
    "df_important_features[\"RESP\"] = df[\"RESP\"]\n",
    "X_train, X_test_2, y_train, y_test_2, X_test_1, y_test_1 = split_train_test(df_important_features)\n",
    "\n",
    "# Lösungsraum für die Hyperparameteroptimierung festlegen\n",
    "# Anzahl erstellter Entscheidungsbäume\n",
    "n_estimators = [int(x) for x in np.linspace(start=100, stop=1000, num=10)]\n",
    "# Maximale Anzahl an Features, für die Erstellung eines Entscheidungsbaums\n",
    "max_features = [\"auto\", \"sqrt\"]\n",
    "# Maximale Tiefe jedes Entscheidungsbaums\n",
    "max_depth = [int(x) for x in np.linspace(5, 50, num = 10)]\n",
    "# Mit oder ohne Zurücklegen, bei der zufälligen Auswahl der Subsamples\n",
    "bootstrap = [True, False]\n",
    "\n",
    "# Erstellen des grids\n",
    "grid = {\"n_estimators\":n_estimators,\n",
    "               \"max_features\":max_features,\n",
    "               \"max_depth\":max_depth,\n",
    "               \"bootstrap\":bootstrap}\n",
    "pprint(grid)"
   ],
   "metadata": {
    "collapsed": false,
    "ExecuteTime": {
     "end_time": "2024-01-06T18:16:27.595198900Z",
     "start_time": "2024-01-06T18:16:25.869694200Z"
    }
   },
   "id": "95e7bd21b6ce2e8a"
  },
  {
   "cell_type": "markdown",
   "source": [
    "<h2>Erneute Klassifizierung anhand eines Random Forest Classifiers, mit vorangegangener GridSearch der zuvor bestimmten Hyperparameter(werten) und Optimierung auf Grundlage der Ergebnisse der definierten individuellen Scorer Funktion<h2>"
   ],
   "metadata": {
    "collapsed": false
   },
   "id": "fc1f413e03e4647d"
  },
  {
   "cell_type": "code",
   "execution_count": 46,
   "outputs": [
    {
     "name": "stdout",
     "output_type": "stream",
     "text": [
      "Fitting 3 folds for each of 400 candidates, totalling 1200 fits\n"
     ]
    },
    {
     "ename": "KeyboardInterrupt",
     "evalue": "",
     "output_type": "error",
     "traceback": [
      "\u001B[1;31m---------------------------------------------------------------------------\u001B[0m",
      "\u001B[1;31mKeyboardInterrupt\u001B[0m                         Traceback (most recent call last)",
      "\u001B[1;32m~\\AppData\\Local\\Temp\\ipykernel_2528\\3832623077.py\u001B[0m in \u001B[0;36m<module>\u001B[1;34m\u001B[0m\n\u001B[0;32m     21\u001B[0m \u001B[1;34m\"\"\"Andere Scorer Funktionen prüfen!!!\"\"\"\u001B[0m\u001B[1;33m\u001B[0m\u001B[1;33m\u001B[0m\u001B[0m\n\u001B[0;32m     22\u001B[0m \u001B[1;33m\u001B[0m\u001B[0m\n\u001B[1;32m---> 23\u001B[1;33m \u001B[0mrf_random_result_score_res\u001B[0m \u001B[1;33m=\u001B[0m \u001B[0mrf_random_result_score\u001B[0m\u001B[1;33m.\u001B[0m\u001B[0mfit\u001B[0m\u001B[1;33m(\u001B[0m\u001B[0mX_train\u001B[0m\u001B[1;33m,\u001B[0m \u001B[0my_train\u001B[0m\u001B[1;33m)\u001B[0m\u001B[1;33m\u001B[0m\u001B[1;33m\u001B[0m\u001B[0m\n\u001B[0m\u001B[0;32m     24\u001B[0m \u001B[0mrf_random_result_accuracy_res\u001B[0m \u001B[1;33m=\u001B[0m \u001B[0mrf_random_result_accuracy\u001B[0m\u001B[1;33m.\u001B[0m\u001B[0mfit\u001B[0m\u001B[1;33m(\u001B[0m\u001B[0mX_train\u001B[0m\u001B[1;33m,\u001B[0m \u001B[0my_train\u001B[0m\u001B[1;33m)\u001B[0m\u001B[1;33m\u001B[0m\u001B[1;33m\u001B[0m\u001B[0m\n\u001B[0;32m     25\u001B[0m \u001B[0mrf_random_result_recall_res\u001B[0m \u001B[1;33m=\u001B[0m \u001B[0mrf_random_result_recall\u001B[0m\u001B[1;33m.\u001B[0m\u001B[0mfit\u001B[0m\u001B[1;33m(\u001B[0m\u001B[0mX_train\u001B[0m\u001B[1;33m,\u001B[0m \u001B[0my_train\u001B[0m\u001B[1;33m)\u001B[0m\u001B[1;33m\u001B[0m\u001B[1;33m\u001B[0m\u001B[0m\n",
      "\u001B[1;32m~\\anaconda3\\lib\\site-packages\\sklearn\\model_selection\\_search.py\u001B[0m in \u001B[0;36mfit\u001B[1;34m(self, X, y, groups, **fit_params)\u001B[0m\n\u001B[0;32m    889\u001B[0m                 \u001B[1;32mreturn\u001B[0m \u001B[0mresults\u001B[0m\u001B[1;33m\u001B[0m\u001B[1;33m\u001B[0m\u001B[0m\n\u001B[0;32m    890\u001B[0m \u001B[1;33m\u001B[0m\u001B[0m\n\u001B[1;32m--> 891\u001B[1;33m             \u001B[0mself\u001B[0m\u001B[1;33m.\u001B[0m\u001B[0m_run_search\u001B[0m\u001B[1;33m(\u001B[0m\u001B[0mevaluate_candidates\u001B[0m\u001B[1;33m)\u001B[0m\u001B[1;33m\u001B[0m\u001B[1;33m\u001B[0m\u001B[0m\n\u001B[0m\u001B[0;32m    892\u001B[0m \u001B[1;33m\u001B[0m\u001B[0m\n\u001B[0;32m    893\u001B[0m             \u001B[1;31m# multimetric is determined here because in the case of a callable\u001B[0m\u001B[1;33m\u001B[0m\u001B[1;33m\u001B[0m\u001B[0m\n",
      "\u001B[1;32m~\\anaconda3\\lib\\site-packages\\sklearn\\model_selection\\_search.py\u001B[0m in \u001B[0;36m_run_search\u001B[1;34m(self, evaluate_candidates)\u001B[0m\n\u001B[0;32m   1390\u001B[0m     \u001B[1;32mdef\u001B[0m \u001B[0m_run_search\u001B[0m\u001B[1;33m(\u001B[0m\u001B[0mself\u001B[0m\u001B[1;33m,\u001B[0m \u001B[0mevaluate_candidates\u001B[0m\u001B[1;33m)\u001B[0m\u001B[1;33m:\u001B[0m\u001B[1;33m\u001B[0m\u001B[1;33m\u001B[0m\u001B[0m\n\u001B[0;32m   1391\u001B[0m         \u001B[1;34m\"\"\"Search all candidates in param_grid\"\"\"\u001B[0m\u001B[1;33m\u001B[0m\u001B[1;33m\u001B[0m\u001B[0m\n\u001B[1;32m-> 1392\u001B[1;33m         \u001B[0mevaluate_candidates\u001B[0m\u001B[1;33m(\u001B[0m\u001B[0mParameterGrid\u001B[0m\u001B[1;33m(\u001B[0m\u001B[0mself\u001B[0m\u001B[1;33m.\u001B[0m\u001B[0mparam_grid\u001B[0m\u001B[1;33m)\u001B[0m\u001B[1;33m)\u001B[0m\u001B[1;33m\u001B[0m\u001B[1;33m\u001B[0m\u001B[0m\n\u001B[0m\u001B[0;32m   1393\u001B[0m \u001B[1;33m\u001B[0m\u001B[0m\n\u001B[0;32m   1394\u001B[0m \u001B[1;33m\u001B[0m\u001B[0m\n",
      "\u001B[1;32m~\\anaconda3\\lib\\site-packages\\sklearn\\model_selection\\_search.py\u001B[0m in \u001B[0;36mevaluate_candidates\u001B[1;34m(candidate_params, cv, more_results)\u001B[0m\n\u001B[0;32m    836\u001B[0m                     )\n\u001B[0;32m    837\u001B[0m \u001B[1;33m\u001B[0m\u001B[0m\n\u001B[1;32m--> 838\u001B[1;33m                 out = parallel(\n\u001B[0m\u001B[0;32m    839\u001B[0m                     delayed(_fit_and_score)(\n\u001B[0;32m    840\u001B[0m                         \u001B[0mclone\u001B[0m\u001B[1;33m(\u001B[0m\u001B[0mbase_estimator\u001B[0m\u001B[1;33m)\u001B[0m\u001B[1;33m,\u001B[0m\u001B[1;33m\u001B[0m\u001B[1;33m\u001B[0m\u001B[0m\n",
      "\u001B[1;32m~\\anaconda3\\lib\\site-packages\\joblib\\parallel.py\u001B[0m in \u001B[0;36m__call__\u001B[1;34m(self, iterable)\u001B[0m\n\u001B[0;32m   1054\u001B[0m \u001B[1;33m\u001B[0m\u001B[0m\n\u001B[0;32m   1055\u001B[0m             \u001B[1;32mwith\u001B[0m \u001B[0mself\u001B[0m\u001B[1;33m.\u001B[0m\u001B[0m_backend\u001B[0m\u001B[1;33m.\u001B[0m\u001B[0mretrieval_context\u001B[0m\u001B[1;33m(\u001B[0m\u001B[1;33m)\u001B[0m\u001B[1;33m:\u001B[0m\u001B[1;33m\u001B[0m\u001B[1;33m\u001B[0m\u001B[0m\n\u001B[1;32m-> 1056\u001B[1;33m                 \u001B[0mself\u001B[0m\u001B[1;33m.\u001B[0m\u001B[0mretrieve\u001B[0m\u001B[1;33m(\u001B[0m\u001B[1;33m)\u001B[0m\u001B[1;33m\u001B[0m\u001B[1;33m\u001B[0m\u001B[0m\n\u001B[0m\u001B[0;32m   1057\u001B[0m             \u001B[1;31m# Make sure that we get a last message telling us we are done\u001B[0m\u001B[1;33m\u001B[0m\u001B[1;33m\u001B[0m\u001B[0m\n\u001B[0;32m   1058\u001B[0m             \u001B[0melapsed_time\u001B[0m \u001B[1;33m=\u001B[0m \u001B[0mtime\u001B[0m\u001B[1;33m.\u001B[0m\u001B[0mtime\u001B[0m\u001B[1;33m(\u001B[0m\u001B[1;33m)\u001B[0m \u001B[1;33m-\u001B[0m \u001B[0mself\u001B[0m\u001B[1;33m.\u001B[0m\u001B[0m_start_time\u001B[0m\u001B[1;33m\u001B[0m\u001B[1;33m\u001B[0m\u001B[0m\n",
      "\u001B[1;32m~\\anaconda3\\lib\\site-packages\\joblib\\parallel.py\u001B[0m in \u001B[0;36mretrieve\u001B[1;34m(self)\u001B[0m\n\u001B[0;32m    933\u001B[0m             \u001B[1;32mtry\u001B[0m\u001B[1;33m:\u001B[0m\u001B[1;33m\u001B[0m\u001B[1;33m\u001B[0m\u001B[0m\n\u001B[0;32m    934\u001B[0m                 \u001B[1;32mif\u001B[0m \u001B[0mgetattr\u001B[0m\u001B[1;33m(\u001B[0m\u001B[0mself\u001B[0m\u001B[1;33m.\u001B[0m\u001B[0m_backend\u001B[0m\u001B[1;33m,\u001B[0m \u001B[1;34m'supports_timeout'\u001B[0m\u001B[1;33m,\u001B[0m \u001B[1;32mFalse\u001B[0m\u001B[1;33m)\u001B[0m\u001B[1;33m:\u001B[0m\u001B[1;33m\u001B[0m\u001B[1;33m\u001B[0m\u001B[0m\n\u001B[1;32m--> 935\u001B[1;33m                     \u001B[0mself\u001B[0m\u001B[1;33m.\u001B[0m\u001B[0m_output\u001B[0m\u001B[1;33m.\u001B[0m\u001B[0mextend\u001B[0m\u001B[1;33m(\u001B[0m\u001B[0mjob\u001B[0m\u001B[1;33m.\u001B[0m\u001B[0mget\u001B[0m\u001B[1;33m(\u001B[0m\u001B[0mtimeout\u001B[0m\u001B[1;33m=\u001B[0m\u001B[0mself\u001B[0m\u001B[1;33m.\u001B[0m\u001B[0mtimeout\u001B[0m\u001B[1;33m)\u001B[0m\u001B[1;33m)\u001B[0m\u001B[1;33m\u001B[0m\u001B[1;33m\u001B[0m\u001B[0m\n\u001B[0m\u001B[0;32m    936\u001B[0m                 \u001B[1;32melse\u001B[0m\u001B[1;33m:\u001B[0m\u001B[1;33m\u001B[0m\u001B[1;33m\u001B[0m\u001B[0m\n\u001B[0;32m    937\u001B[0m                     \u001B[0mself\u001B[0m\u001B[1;33m.\u001B[0m\u001B[0m_output\u001B[0m\u001B[1;33m.\u001B[0m\u001B[0mextend\u001B[0m\u001B[1;33m(\u001B[0m\u001B[0mjob\u001B[0m\u001B[1;33m.\u001B[0m\u001B[0mget\u001B[0m\u001B[1;33m(\u001B[0m\u001B[1;33m)\u001B[0m\u001B[1;33m)\u001B[0m\u001B[1;33m\u001B[0m\u001B[1;33m\u001B[0m\u001B[0m\n",
      "\u001B[1;32m~\\anaconda3\\lib\\site-packages\\joblib\\_parallel_backends.py\u001B[0m in \u001B[0;36mwrap_future_result\u001B[1;34m(future, timeout)\u001B[0m\n\u001B[0;32m    540\u001B[0m         AsyncResults.get from multiprocessing.\"\"\"\n\u001B[0;32m    541\u001B[0m         \u001B[1;32mtry\u001B[0m\u001B[1;33m:\u001B[0m\u001B[1;33m\u001B[0m\u001B[1;33m\u001B[0m\u001B[0m\n\u001B[1;32m--> 542\u001B[1;33m             \u001B[1;32mreturn\u001B[0m \u001B[0mfuture\u001B[0m\u001B[1;33m.\u001B[0m\u001B[0mresult\u001B[0m\u001B[1;33m(\u001B[0m\u001B[0mtimeout\u001B[0m\u001B[1;33m=\u001B[0m\u001B[0mtimeout\u001B[0m\u001B[1;33m)\u001B[0m\u001B[1;33m\u001B[0m\u001B[1;33m\u001B[0m\u001B[0m\n\u001B[0m\u001B[0;32m    543\u001B[0m         \u001B[1;32mexcept\u001B[0m \u001B[0mCfTimeoutError\u001B[0m \u001B[1;32mas\u001B[0m \u001B[0me\u001B[0m\u001B[1;33m:\u001B[0m\u001B[1;33m\u001B[0m\u001B[1;33m\u001B[0m\u001B[0m\n\u001B[0;32m    544\u001B[0m             \u001B[1;32mraise\u001B[0m \u001B[0mTimeoutError\u001B[0m \u001B[1;32mfrom\u001B[0m \u001B[0me\u001B[0m\u001B[1;33m\u001B[0m\u001B[1;33m\u001B[0m\u001B[0m\n",
      "\u001B[1;32m~\\anaconda3\\lib\\concurrent\\futures\\_base.py\u001B[0m in \u001B[0;36mresult\u001B[1;34m(self, timeout)\u001B[0m\n\u001B[0;32m    439\u001B[0m                     \u001B[1;32mreturn\u001B[0m \u001B[0mself\u001B[0m\u001B[1;33m.\u001B[0m\u001B[0m__get_result\u001B[0m\u001B[1;33m(\u001B[0m\u001B[1;33m)\u001B[0m\u001B[1;33m\u001B[0m\u001B[1;33m\u001B[0m\u001B[0m\n\u001B[0;32m    440\u001B[0m \u001B[1;33m\u001B[0m\u001B[0m\n\u001B[1;32m--> 441\u001B[1;33m                 \u001B[0mself\u001B[0m\u001B[1;33m.\u001B[0m\u001B[0m_condition\u001B[0m\u001B[1;33m.\u001B[0m\u001B[0mwait\u001B[0m\u001B[1;33m(\u001B[0m\u001B[0mtimeout\u001B[0m\u001B[1;33m)\u001B[0m\u001B[1;33m\u001B[0m\u001B[1;33m\u001B[0m\u001B[0m\n\u001B[0m\u001B[0;32m    442\u001B[0m \u001B[1;33m\u001B[0m\u001B[0m\n\u001B[0;32m    443\u001B[0m                 \u001B[1;32mif\u001B[0m \u001B[0mself\u001B[0m\u001B[1;33m.\u001B[0m\u001B[0m_state\u001B[0m \u001B[1;32min\u001B[0m \u001B[1;33m[\u001B[0m\u001B[0mCANCELLED\u001B[0m\u001B[1;33m,\u001B[0m \u001B[0mCANCELLED_AND_NOTIFIED\u001B[0m\u001B[1;33m]\u001B[0m\u001B[1;33m:\u001B[0m\u001B[1;33m\u001B[0m\u001B[1;33m\u001B[0m\u001B[0m\n",
      "\u001B[1;32m~\\anaconda3\\lib\\threading.py\u001B[0m in \u001B[0;36mwait\u001B[1;34m(self, timeout)\u001B[0m\n\u001B[0;32m    310\u001B[0m         \u001B[1;32mtry\u001B[0m\u001B[1;33m:\u001B[0m    \u001B[1;31m# restore state no matter what (e.g., KeyboardInterrupt)\u001B[0m\u001B[1;33m\u001B[0m\u001B[1;33m\u001B[0m\u001B[0m\n\u001B[0;32m    311\u001B[0m             \u001B[1;32mif\u001B[0m \u001B[0mtimeout\u001B[0m \u001B[1;32mis\u001B[0m \u001B[1;32mNone\u001B[0m\u001B[1;33m:\u001B[0m\u001B[1;33m\u001B[0m\u001B[1;33m\u001B[0m\u001B[0m\n\u001B[1;32m--> 312\u001B[1;33m                 \u001B[0mwaiter\u001B[0m\u001B[1;33m.\u001B[0m\u001B[0macquire\u001B[0m\u001B[1;33m(\u001B[0m\u001B[1;33m)\u001B[0m\u001B[1;33m\u001B[0m\u001B[1;33m\u001B[0m\u001B[0m\n\u001B[0m\u001B[0;32m    313\u001B[0m                 \u001B[0mgotit\u001B[0m \u001B[1;33m=\u001B[0m \u001B[1;32mTrue\u001B[0m\u001B[1;33m\u001B[0m\u001B[1;33m\u001B[0m\u001B[0m\n\u001B[0;32m    314\u001B[0m             \u001B[1;32melse\u001B[0m\u001B[1;33m:\u001B[0m\u001B[1;33m\u001B[0m\u001B[1;33m\u001B[0m\u001B[0m\n",
      "\u001B[1;31mKeyboardInterrupt\u001B[0m: "
     ]
    }
   ],
   "source": [
    "# Zuvor erstelltes grid für die Hyperparameteroptimierung nutzen\n",
    "rf = RandomForestClassifier(random_state = 4711)\n",
    "\n",
    "#eigene Funktion als Scorer für die GridSearch\n",
    "result_scorer = make_scorer(get_result_score)       \n",
    "\n",
    "# GirdSearch mit 3 fold cross validation, Suche über die zuvor definierten Parameter\n",
    "\n",
    "#Suche nach optimalen Parametern unter Berücksichtigung des Gewinns/Erlöses\n",
    "rf_random_result_score = GridSearchCV(estimator = rf, param_grid = grid,\n",
    "                                      cv = 3, verbose = 2,\n",
    "                                      n_jobs = -1, scoring = result_scorer)\n",
    "\n",
    "#Suche nach optimalen Parametern unter Berücksichtigung der Accuracy\n",
    "rf_random_result_accuracy = GridSearchCV(estimator = rf, param_grid = grid,\n",
    "                                         cv = 3, verbose = 2,\n",
    "                                         n_jobs = -1)\n",
    "\n",
    "#Suche nach optimalen Parametern unter Berücksichtigung des Recalls\n",
    "rf_random_result_recall = GridSearchCV(estimator = rf, param_grid = grid, \n",
    "                                       cv = 3, verbose = 2, \n",
    "                                       n_jobs = -1, scoring = \"recall\")\n",
    "\n",
    "# GridSearch Instanzen mit Trainingsdaten fitten\n",
    "rf_random_result_score_res = rf_random_result_score.fit(X_train, y_train)\n",
    "rf_random_result_accuracy_res = rf_random_result_accuracy.fit(X_train, y_train)\n",
    "rf_random_result_recall_res = rf_random_result_recall.fit(X_train, y_train)\n",
    "\n",
    "# Ausgabe des jeweils besten Scores und der optimalen dafür genutzten Parameter\n",
    "print(\"Bester Score nach Gewinn/Verlust mit eigener Funktion: \",rf_random_result_score_res.best_score_)\n",
    "print(\"Mit besten Parametern: \",rf_random_result_score_res.best_params_)\n",
    "print(\"Bester Score nach Accuracy: \",rf_random_result_accuracy_res.best_score_)\n",
    "print(\"Mit besten Parametern: \",rf_random_result_accuracy_res.best_params_)\n",
    "print(\"Bester Score nach Recall: \",rf_random_result_recall_res.best_score_)\n",
    "print(\"Mit besten Parametern: \",rf_random_result_recall_res.best_params_)"
   ],
   "metadata": {
    "collapsed": false,
    "ExecuteTime": {
     "end_time": "2024-01-06T18:16:53.052325100Z",
     "start_time": "2024-01-06T18:16:27.661115900Z"
    }
   },
   "id": "3433a94c05e8d825"
  },
  {
   "cell_type": "code",
   "execution_count": null,
   "outputs": [],
   "source": [
    "# Erstellen einer neuen Modellinstanz mit den zuvor ermittelten besten Hyperparametern bei Berücksichtung des Gewinns/Verlusts\n",
    "rf = RandomForestClassifier(random_state=4711, max_depth=40, n_estimators=200, max_features=\"auto\",bootstrap=\"False\")\n",
    "# Trainieren des Modells mit Trainingsdaten\n",
    "rf.fit(X_train,y_train)\n",
    "# Ermitteln der Wahrscheinlichkeiten die von dem Calssifier für eine Vorhersage der Klasse 1 (Kunde reagiert) ermittelt wurden\n",
    "y_probabilities = rf.predict_proba(X_test_1)[:, 1]\n",
    "# Klassifikation der Test1 Daten\n",
    "y_predicted = rf.predict(X_test_1)\n",
    "\n",
    "#Berechnen der ROC-Kurve und des AUC-Werts\n",
    "fpr, tpr, thresholds = roc_curve(y_test_1, y_probabilities) #fpr-FalsePositiveRate, tpr-TruePositiveRate\n",
    "roc_auc = auc(fpr, tpr)\n",
    "\n",
    "#Plot der ROC-Kurve\n",
    "plt.figure(figsize=(8, 8))\n",
    "plt.plot(fpr, tpr, color='darkorange', lw=2, label=f'ROC curve (AUC = {roc_auc:.2f})')\n",
    "plt.plot([0, 1], [0, 1], color='navy', lw=2, linestyle='--')\n",
    "plt.xlim([0.0, 1.0])\n",
    "plt.ylim([0.0, 1.05])\n",
    "plt.xlabel('False Positive Rate')\n",
    "plt.ylabel('True Positive Rate')\n",
    "plt.title('Receiver Operating Characteristic (ROC) Curve')\n",
    "plt.legend(loc=\"lower right\")\n",
    "plt.show()\n",
    "\n",
    "# Ermitteln der Accuracy, Precision, Recall, F1Score und Gewinn/Verlusts\n",
    "accuracy = accuracy_score(y_test_1, y_predicted)\n",
    "precision = precision_score(y_test_1, y_predicted)\n",
    "recall = recall_score(y_test_1, y_predicted)\n",
    "f1score = f1_score(y_test_1, y_predicted)\n",
    "score = get_result_score(y_test_1, y_predicted)\n",
    "\n",
    "#Ausgabe der Werte\n",
    "print(\"Accuracy: \",accuracy*100, \"%\")\n",
    "print(\"Recall: \", recall*100, \"%\")\n",
    "print(\"Precision: \", precision*100, \"%\")\n",
    "print(\"F1 Score: \", f1score*100, \"%\")\n",
    "print(\"Score: \", score)\n",
    "\n",
    "#Ausgabe der zugehörigen Confusion Matrix\n",
    "matrix = confusion_matrix(y_test_1,y_predicted,labels=rf.classes_)\n",
    "disp = ConfusionMatrixDisplay(confusion_matrix=matrix, display_labels=rf.classes_)\n",
    "disp.plot()\n",
    "plt.grid(False)\n",
    "plt.show()"
   ],
   "metadata": {
    "collapsed": false,
    "ExecuteTime": {
     "end_time": "2024-01-06T18:16:53.134633700Z",
     "start_time": "2024-01-06T18:16:53.068310900Z"
    }
   },
   "id": "992e41eb07cb01b6"
  },
  {
   "cell_type": "markdown",
   "source": [
    "<h2>Threshold Tuning<h2>"
   ],
   "metadata": {
    "collapsed": false
   },
   "id": "19cce95bc8a8b872"
  },
  {
   "cell_type": "code",
   "execution_count": null,
   "outputs": [],
   "source": [
    "# Funktion die der Threshold Wert und die Wahrscheinlichkeit der Klassenzugehörigkeit 1 entgegennimmt und einen diesen zurückgibt, solange die Wahrscheinlichkeit der Klassenzugehörigkeit über dem Threshold liegt (sonst 0)\n",
    "def to_labels(probabilities, threshold):\n",
    "    return(probabilities >= threshold).astype(\"int\")\n",
    "\n",
    "# Erstellen einer neuen Modellinstanz mit den zuvor ermittelten besten Hyperparametern bei Berücksichtung des Gewinns/Verlusts\n",
    "rf = RandomForestClassifier(random_state=4711, max_depth=40, n_estimators=200, max_features=\"auto\",bootstrap=\"False\")\n",
    "# Trainieren des Modells mit Trainingsdaten\n",
    "rf.fit(X_train,y_train)\n",
    "# Vorhersage der Zielvariablen auf für die Test1 Daten\n",
    "y_predicted = rf.predict_proba(X_test_1)\n",
    "# Ermitteln der Wahrscheinlichkeiten mit denen eine Klassifiaktion der Klasse 1 (Kunde reagiert) erfolgt\n",
    "probs = y_predicted[:,1]\n",
    "# Darstellung der Wahrscheinlichkeiten in einem Histogramm\n",
    "plt.hist(probs, bins=25, edgecolor='black')\n",
    "plt.xlabel('Wahrscheinlichkeit der Klassenzugehörigkeit 1')\n",
    "plt.ylabel('Anzahl Predictions')\n",
    "plt.title('Histogramm')\n",
    "plt.show()\n",
    "\n",
    "# Liste mit Thresholds von 0 bis 1 in 0.001 Steps\n",
    "thresholds = np.arange(0,1,0.001)\n",
    "# Ermitteln der Scores unter Berücksichtigung der unterschiedlichen Thresholds\n",
    "scores = [get_result_score(y_test_1,to_labels(probs,t)) for t in thresholds]\n",
    "# Ermitteln des List Indexes an dem der Gewinn/Erlös am größten ist\n",
    "max_threshold = np.argmax(scores)\n",
    "# Ausgabe des besten Gewinns/Verlusts mit optimalen Threshold\n",
    "print(\"Threshold= \",thresholds[max_threshold],\"Score-Wert= \",scores[max_threshold])\n",
    "# Darstellung des Gewinns/Verlusts unter Berücksichtigung der Thresholds\n",
    "plt.plot(np.arange(0,1,0.001), scores)\n",
    "plt.xticks(np.arange(0,1,0.1))\n",
    "plt.title(\"Score-Wert in Abhängigkeit vom Classification Threshold\")\n",
    "plt.xlabel(\"Threshold\")\n",
    "plt.ylabel('Score')\n",
    "plt.show()"
   ],
   "metadata": {
    "collapsed": false,
    "ExecuteTime": {
     "start_time": "2024-01-06T18:16:53.076307900Z"
    }
   },
   "id": "871fc42424441e03"
  },
  {
   "cell_type": "code",
   "execution_count": null,
   "outputs": [],
   "source": [
    "# Erstellen und Trainieren einer neuen Modellinstanz\n",
    "rf = RandomForestClassifier(random_state=4711, max_depth=40, n_estimators=200, max_features=\"auto\",bootstrap=\"False\")\n",
    "rf.fit(X_train,y_train)\n",
    "# Vorhersage der Klasse für die finalen Test2 Daten unter Berücksichtigung eines Classification Thresholds von 8,5%\n",
    "y_predicted = (rf.predict_proba(X_test_2)[:,1]>=0.085).astype(bool)\n",
    "# Ermitteln der Accuracy, Precision, Recall, F1Score und Gewinn/Erlös\n",
    "accuracy = accuracy_score(y_test_2, y_predicted)\n",
    "precision = precision_score(y_test_2, y_predicted)\n",
    "recall = recall_score(y_test_2, y_predicted)\n",
    "f1score = f1_score(y_test_2, y_predicted)\n",
    "score = get_result_score(y_test_2, y_predicted)\n",
    "\n",
    "#Berechnen der ROC-Kurve und des AUC-Werts\n",
    "fpr, tpr, thresholds = roc_curve(y_test_2, y_predicted)\n",
    "roc_auc = auc(fpr, tpr)\n",
    "\n",
    "#Plot der ROC-Kurve\n",
    "plt.figure(figsize=(8, 8))\n",
    "plt.plot(fpr, tpr, color='darkorange', lw=2, label=f'ROC curve (AUC = {roc_auc:.2f})')\n",
    "plt.plot([0, 1], [0, 1], color='navy', lw=2, linestyle='--')\n",
    "plt.xlim([0.0, 1.0])\n",
    "plt.ylim([0.0, 1.05])\n",
    "plt.xlabel('False Positive Rate')\n",
    "plt.ylabel('True Positive Rate')\n",
    "plt.title('Receiver Operating Characteristic (ROC) Curve')\n",
    "plt.legend(loc=\"lower right\")\n",
    "plt.show()\n",
    "\n",
    "# Ausgabe der Scores\n",
    "print(\"Accuracy: \",accuracy*100, \"%\")\n",
    "print(\"Recall: \", recall*100, \"%\")\n",
    "print(\"Precision: \", precision*100, \"%\")\n",
    "print(\"F1 Score: \", f1score*100, \"%\")\n",
    "print(\"Score: \", score)\n",
    "\n",
    "# Darstellung der Confusion Matrix\n",
    "matrix = confusion_matrix(y_test_2,y_predicted,labels=rf.classes_)\n",
    "disp = ConfusionMatrixDisplay(confusion_matrix=matrix, display_labels=rf.classes_)\n",
    "disp.plot()\n",
    "plt.grid(False)\n",
    "plt.show()"
   ],
   "metadata": {
    "collapsed": false,
    "ExecuteTime": {
     "end_time": "2024-01-06T18:16:53.254534900Z",
     "start_time": "2024-01-06T18:16:53.198580400Z"
    }
   },
   "id": "2a4af5c0956884f9"
  },
  {
   "cell_type": "markdown",
   "source": [
    "<h2>Baseline Strategie<h2>"
   ],
   "metadata": {
    "collapsed": false
   },
   "id": "ff32468a1bbdd0e9"
  },
  {
   "cell_type": "code",
   "execution_count": null,
   "outputs": [],
   "source": [
    "# Errechnung des Gewinn/Verlusts bei Befolgung der Baseline Strategie\n",
    "len(y_test_2)\n",
    "count_RESP_yes = sum(y_test_2)\n",
    "count_RESP_no = len(y_test_2) - sum(y_test_2)\n",
    "baseline = (count_RESP_yes*16)+(count_RESP_no*(-2))\n",
    "print(baseline)"
   ],
   "metadata": {
    "collapsed": false,
    "ExecuteTime": {
     "start_time": "2024-01-06T18:16:53.214567800Z"
    }
   },
   "id": "6321f66c910665a2"
  },
  {
   "cell_type": "markdown",
   "source": [],
   "metadata": {
    "collapsed": false
   },
   "id": "71ce6de05c0777e5"
  }
 ],
 "metadata": {
  "kernelspec": {
   "display_name": "Python 3",
   "language": "python",
   "name": "python3"
  },
  "language_info": {
   "codemirror_mode": {
    "name": "ipython",
    "version": 2
   },
   "file_extension": ".py",
   "mimetype": "text/x-python",
   "name": "python",
   "nbconvert_exporter": "python",
   "pygments_lexer": "ipython2",
   "version": "2.7.6"
  }
 },
 "nbformat": 4,
 "nbformat_minor": 5
}
