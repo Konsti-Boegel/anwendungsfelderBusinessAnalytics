{
 "cells": [
  {
   "cell_type": "markdown",
   "source": [
    "<h1>Import Libraries<h1>"
   ],
   "metadata": {
    "collapsed": false
   },
   "id": "4a6ce4eedb10e3e0"
  },
  {
   "cell_type": "markdown",
   "source": [
    "<h1> Titel: Machine Learning Projekt im Bereich Direct Mail Marketing <h1>"
   ],
   "metadata": {
    "collapsed": false
   },
   "id": "b3e5cdf6750f6b8e"
  },
  {
   "cell_type": "markdown",
   "source": [
    "<h3>Deckblatt, Fußnoten mit Datum und Seitenzahlen, Einleitung mit Ziel des machine Learning Projekts, Vorgehen, methodische Unterstützung (Crisp-DM), Fazit: Was hat das Projekt gebracht und welche EMpfehlungen machen wir/ Reflexion (was würden wir anders machen wenn wir neu starten würden?), keine vielen Dank für Ihre Aufmerksamtkeit-Folie, Grundlagen gerne mit Formeln (z.B: Verlustfunktion formulieren)<h3>"
   ],
   "metadata": {
    "collapsed": false
   },
   "id": "b83fdf8ecd230a20"
  },
  {
   "cell_type": "markdown",
   "source": [
    "<h2>Hauptkomponentenanalyse auf Pipeline<h2>"
   ],
   "metadata": {
    "collapsed": false
   },
   "id": "bc700a222519c3dd"
  },
  {
   "cell_type": "code",
   "execution_count": 53,
   "outputs": [],
   "source": [
    "import pandas as pd\n",
    "import seaborn as sns\n",
    "import numpy as np\n",
    "import matplotlib.pyplot as plt\n",
    "from sklearn.ensemble import RandomForestClassifier\n",
    "from sklearn.model_selection import train_test_split\n",
    "from sklearn.metrics import accuracy_score, precision_score, recall_score, f1_score\n",
    "from sklearn.metrics import confusion_matrix, ConfusionMatrixDisplay\n",
    "from sklearn.neighbors import KNeighborsClassifier\n",
    "from sklearn.naive_bayes import GaussianNB\n",
    "from pprint import pprint\n",
    "from sklearn.model_selection import RandomizedSearchCV\n",
    "from sklearn.model_selection import GridSearchCV\n",
    "from sklearn.metrics import make_scorer\n",
    "from sklearn.feature_selection import chi2, SelectKBest, f_classif\n",
    "from sklearn import preprocessing\n",
    "from sklearn import metrics"
   ],
   "metadata": {
    "collapsed": false,
    "ExecuteTime": {
     "end_time": "2023-12-01T18:09:16.661616400Z",
     "start_time": "2023-12-01T18:09:14.598462900Z"
    }
   },
   "id": "83492495e8444036"
  },
  {
   "cell_type": "code",
   "execution_count": 54,
   "outputs": [],
   "source": [
    "import warnings\n",
    "warnings.filterwarnings(\"ignore\", category=FutureWarning)"
   ],
   "metadata": {
    "collapsed": false,
    "ExecuteTime": {
     "end_time": "2023-12-01T18:09:17.685744Z",
     "start_time": "2023-12-01T18:09:14.634223600Z"
    }
   },
   "id": "65de95927fdc9695"
  },
  {
   "cell_type": "markdown",
   "source": [
    "<h1>Datensatz einlesen<h1>"
   ],
   "metadata": {
    "collapsed": false
   },
   "id": "230839d8bcfd5174"
  },
  {
   "cell_type": "code",
   "execution_count": 55,
   "outputs": [],
   "source": [
    "path = r'./out/df_clean.csv'\n",
    "df = pd.read_csv(path, sep=';', decimal=',')"
   ],
   "metadata": {
    "collapsed": false,
    "ExecuteTime": {
     "end_time": "2023-12-01T18:09:23.187817200Z",
     "start_time": "2023-12-01T18:09:14.716670500Z"
    }
   },
   "id": "fbbd6c5f49c385c9"
  },
  {
   "cell_type": "markdown",
   "source": [
    "<h1>Erläuterung der Datenspalten und Betrachtung einzelner Features<h1>"
   ],
   "metadata": {
    "collapsed": false
   },
   "id": "ba4113ebe137e91f"
  },
  {
   "cell_type": "markdown",
   "source": [
    "*   ZIP_CODE -> *Postleitzahl*\n",
    "*   DAYS_SINCE_PURCHASE -> *Tage seit Kaufdatum*\n",
    "*   PURCHASE_VISITS -> *Anzahl der Kaufbesuche*\n",
    "*   TOTAL_NET_SALES -> *Gesamtnettoumsatz*\n",
    "*   CC_CARD -> *Kreditkartenbenutzung*\n",
    "*   AVE_AMOUNT_SPENT -> *Durchschnittlicher Betrag, der pro Besuch ausgegeben wird*\n",
    "*   AMSPEND -> *im Franchise AM ausgegebener Betrag*\n",
    "*   PSSPEND -> *im Franchise PS ausgegebener Betrag*\n",
    "*   CCSPEND -> *im Franchise CC ausgegebener Betrag*\n",
    "*   AXSPEND -> *im Franchise AX ausgegebener Betrag*\n",
    "*   OMONSPEND -> *im letzten Monat ausgegebener Betrag*\n",
    "*   TMONSPEND -> *in den letzten drei Monaten ausgegebener Betrag*\n",
    "*   SMONSPEND -> *in den letzten sechs Monaten ausgegebener Betrag*\n",
    "*   PREVPD -> *im gleichen Zeitraum des letzten Jahres ausgegebener Betrag*\n",
    "*   GMP -> *Prozentsatz der Bruttomarge*\n",
    "*   PROMOS -> *Anzahl der gespeicherten Marketingaktionen*\n",
    "*   DAYS -> *Anzahl der Tage, in denen der Kunde registriert war*\n",
    "*   FREDAYS -> *Anzahl der Tage zwischen den Käufen*\n",
    "*   MARKDOWN -> *Abschlagsprozentsatz auf Kundenkäufe*\n",
    "*   CLASSES -> *Anzahl der gekauften unterschiedlichen Produktklassen*\n",
    "*   COUPONS -> *Anzahl der vom Kunden verwendeten Coupons*\n",
    "*   STYLES -> *Gesamtzahl der vom Kunden gekauften Einzalartikel*\n",
    "*   STORES -> *Anzahl der Geschäfte, in denen der Kunde eingekauft hat*\n",
    "*   VALPHON -> *gültige Telefonnummer hinterlegt*\n",
    "*   WEB -> *WEB-Shopper*\n",
    "*   MAILED -> *Anzahl der im vergangenen Jahr verschickten Werbeaktionen*\n",
    "*   RESPONDED -> *Anzahl der Werbeaktion, auf die im vergangenen Jahr reagiert wurde*\n",
    "*   RESPONSERATE -> *Aktionsrücklauf für das vergangene Jahr*\n",
    "*   HI -> *Produkteinheitlichkeit (niedriger Wert = unterschiedlicher Ausgabemuster)*\n",
    "*   LTFREDAY -> *Lebenslage durchschnittliche Zeit zwischen Besuchen*\n",
    "*   CLUSTYPE -> *Clusterzugehörigkeit*\n",
    "*   PERCRET -> *Prozentsatz an Rückläufern*\n",
    "*   RESP -> *Reaktion auf Promo*"
   ],
   "metadata": {
    "collapsed": false
   },
   "id": "3ebf5b7e33e09bb7"
  },
  {
   "cell_type": "code",
   "execution_count": 56,
   "outputs": [],
   "source": [
    "am = df[\"AMSPEND\"].sum()\n",
    "ps = df[\"PSSPEND\"].sum()\n",
    "cc = df[\"CCSPEND\"].sum()\n",
    "ax = df[\"AXSPEND\"].sum()\n",
    "liste = [am,ps,cc,ax]"
   ],
   "metadata": {
    "collapsed": false,
    "ExecuteTime": {
     "end_time": "2023-12-01T18:09:23.187817200Z",
     "start_time": "2023-12-01T18:09:17.111596900Z"
    }
   },
   "id": "c32a2eba915f44c3"
  },
  {
   "cell_type": "markdown",
   "source": [
    "<h1>Funktion für den Train Test Validation Split<h1>"
   ],
   "metadata": {
    "collapsed": false
   },
   "id": "87645e9c4b129e37"
  },
  {
   "cell_type": "code",
   "execution_count": 57,
   "outputs": [],
   "source": [
    "def split_train_test(df):\n",
    "    random_state = 4711\n",
    "    features = [x for x in df.columns if x!= \"RESP\"]\n",
    "    X = df[features]\n",
    "    y = df[\"RESP\"]\n",
    "    X_train, X_test_2, y_train, y_test_2 = train_test_split(X, y, test_size = 0.05, random_state=random_state)\n",
    "    X_train, X_test_1, y_train, y_test_1 = train_test_split(X_train, y_train, test_size = 0.2, random_state=random_state)\n",
    "    return X_train, X_test_2, y_train, y_test_2, X_test_1, y_test_1"
   ],
   "metadata": {
    "collapsed": false,
    "ExecuteTime": {
     "end_time": "2023-12-01T18:09:23.187817200Z",
     "start_time": "2023-12-01T18:09:17.188083200Z"
    }
   },
   "id": "23743b49b2426294"
  },
  {
   "cell_type": "code",
   "execution_count": 58,
   "outputs": [],
   "source": [
    "def get_result(y_true, y_predicted):\n",
    "    TP = 0\n",
    "    FP = 0\n",
    "    TN = 0\n",
    "    FN = 0\n",
    "\n",
    "    print(\"Y-true Typ: \", type(y_true))\n",
    "    print(\"y_predicted Typ: \", type(y_predicted))\n",
    "\n",
    "    y_true = y_true.to_list()\n",
    "    y_predicted = y_predicted.tolist()\n",
    "\n",
    "    print(\"y_true: \", y_true)\n",
    "    print(\"y_predicted: \", y_predicted)\n",
    "\n",
    "    for i in range(len(y_predicted)):\n",
    "        if y_true[i]==y_predicted[i]==1:\n",
    "            TP += 1\n",
    "        if y_predicted[i]==1 and y_true[i]!=y_predicted[i]:\n",
    "            FP += 1\n",
    "        if y_true[i]==y_predicted[i]==0:\n",
    "            TN += 1\n",
    "        if y_predicted[i]==0 and y_true[i]!=y_predicted[i]:\n",
    "            FN += 1\n",
    "\n",
    "    print(\"TP: \",TP)\n",
    "    print(\"FP: \",FP)\n",
    "    print(\"TN: \",TN)\n",
    "    print(\"FN: \",FN)\n",
    "\n",
    "\n",
    "    return (TP*16+FP*(-2)+TN*(0)+FN*(-16))"
   ],
   "metadata": {
    "collapsed": false,
    "ExecuteTime": {
     "end_time": "2023-12-01T18:09:23.188810900Z",
     "start_time": "2023-12-01T18:09:17.275497200Z"
    }
   },
   "id": "2995149185746d8b"
  },
  {
   "cell_type": "markdown",
   "source": [
    "<h1>Random Forest Classifier<h1>"
   ],
   "metadata": {
    "collapsed": false
   },
   "id": "b8cff00e26d72e1"
  },
  {
   "cell_type": "markdown",
   "source": [
    "**Hyperparameter Random Forest**\n",
    "\n",
    "*   n_estimators = number of trees in the forest\n",
    "*   max_features = max number of features considered for splitting a node\n",
    "*   max_depth = max number of levels in each decision tree\n",
    "*   min_samples_split = min number of data points placed in a node before the   node is split\n",
    "*   min_sample_leaf = min number of data points allowed in a leaf node\n",
    "*   bootstrap = method for sampling data points (with or without replacement)"
   ],
   "metadata": {
    "collapsed": false
   },
   "id": "984f5d42422abfad"
  },
  {
   "cell_type": "markdown",
   "source": [
    "**Best Hyperparameters so far:** n_estimators = 1200, min_samples_split = 10, min_samples_leaf = 4, max_features = \"auto\", max_depth = 50, bootstrap = True"
   ],
   "metadata": {
    "collapsed": false
   },
   "id": "c1b12d3a3ec2ade"
  },
  {
   "cell_type": "markdown",
   "source": [
    "**Hyperparameter Random Forest**\n",
    "\n",
    "*   n_estimators = number of trees in the forest\n",
    "*   max_features = max number of features considered for splitting a node\n",
    "*   max_depth = max number of levels in each decision tree\n",
    "*   min_samples_split = min number of data points placed in a node before the   node is split\n",
    "*   min_sample_leaf = min number of data points allowed in a leaf node\n",
    "*   bootstrap = method for sampling data points (with or without replacement)"
   ],
   "metadata": {
    "collapsed": false
   },
   "id": "839146f0ea49744a"
  },
  {
   "cell_type": "markdown",
   "source": [
    "<h2>Beispiel: Erster Random Forest Classifier mit einer maximalen Tiefe von 4<h2>"
   ],
   "metadata": {
    "collapsed": false
   },
   "id": "7874865bb95d26fe"
  },
  {
   "cell_type": "code",
   "execution_count": 59,
   "outputs": [
    {
     "name": "stdout",
     "output_type": "stream",
     "text": [
      "Accuracy:  84.65262648269184 %\n",
      "Recall:  17.086834733893557 %\n",
      "Precision:  74.39024390243902 %\n",
      "F1 Score:  27.790432801822323 %\n"
     ]
    },
    {
     "data": {
      "text/plain": "<Figure size 640x480 with 2 Axes>",
      "image/png": "[encoded data removed]"
     },
     "metadata": {},
     "output_type": "display_data"
    }
   ],
   "source": [
    "max_depth = 4\n",
    "X_train, X_test_2, y_train, y_test_2, X_test_1, y_test_1 = split_train_test(df)\n",
    "rf = RandomForestClassifier(max_depth=max_depth)\n",
    "rf.fit(X_train, y_train)\n",
    "y_predict = rf.predict(X_test_1)\n",
    "\n",
    "accuracy = accuracy_score(y_test_1, y_predict)\n",
    "precision = precision_score(y_test_1, y_predict)\n",
    "recall = recall_score(y_test_1, y_predict)\n",
    "f1score = f1_score(y_test_1, y_predict)\n",
    "\n",
    "print(\"Accuracy: \",accuracy*100, \"%\")\n",
    "print(\"Recall: \", recall*100, \"%\")\n",
    "print(\"Precision: \", precision*100, \"%\")\n",
    "print(\"F1 Score: \", f1score*100, \"%\")\n",
    "## Confusion Matrix\n",
    "matrix = confusion_matrix(y_test_1,y_predict,labels=rf.classes_)\n",
    "disp = ConfusionMatrixDisplay(confusion_matrix=matrix, display_labels=rf.classes_)\n",
    "disp.plot()\n",
    "plt.show()"
   ],
   "metadata": {
    "collapsed": false,
    "ExecuteTime": {
     "end_time": "2023-12-01T18:09:27.940916700Z",
     "start_time": "2023-12-01T18:09:17.410589800Z"
    }
   },
   "id": "246a96a659c02697"
  },
  {
   "cell_type": "markdown",
   "source": [
    "<h2>Dabei von dem Random Forest Classifier genutzte Parameter<h2>"
   ],
   "metadata": {
    "collapsed": false
   },
   "id": "82928fb8681aca33"
  },
  {
   "cell_type": "code",
   "execution_count": 60,
   "outputs": [
    {
     "name": "stdout",
     "output_type": "stream",
     "text": [
      "Parameters currently in use:\n",
      "\n",
      "{'bootstrap': True,\n",
      " 'ccp_alpha': 0.0,\n",
      " 'class_weight': None,\n",
      " 'criterion': 'gini',\n",
      " 'max_depth': 4,\n",
      " 'max_features': 'auto',\n",
      " 'max_leaf_nodes': None,\n",
      " 'max_samples': None,\n",
      " 'min_impurity_decrease': 0.0,\n",
      " 'min_samples_leaf': 1,\n",
      " 'min_samples_split': 2,\n",
      " 'min_weight_fraction_leaf': 0.0,\n",
      " 'n_estimators': 100,\n",
      " 'n_jobs': None,\n",
      " 'oob_score': False,\n",
      " 'random_state': None,\n",
      " 'verbose': 0,\n",
      " 'warm_start': False}\n"
     ]
    }
   ],
   "source": [
    "print(\"Parameters currently in use:\\n\")\n",
    "pprint(rf.get_params())"
   ],
   "metadata": {
    "collapsed": false,
    "ExecuteTime": {
     "end_time": "2023-12-01T18:09:28.223025300Z",
     "start_time": "2023-12-01T18:09:27.810792100Z"
    }
   },
   "id": "5c9055d3908279d3"
  },
  {
   "cell_type": "markdown",
   "source": [
    "<h2>Betrachtung der 10 Features, die bei diesem Random Forest Classifier am stärksten zur Klassifizierung beigetragen haben. Erstellen von Arrays mit Hyperparameterwerten, die für die GridSearch genutzt werden sollen<h2>"
   ],
   "metadata": {
    "collapsed": false
   },
   "id": "57254422ef4dc19f"
  },
  {
   "cell_type": "code",
   "execution_count": 61,
   "outputs": [
    {
     "name": "stderr",
     "output_type": "stream",
     "text": [
      "C:\\Users\\svenb\\AppData\\Local\\Temp\\ipykernel_11252\\3536805271.py:8: SettingWithCopyWarning: \n",
      "A value is trying to be set on a copy of a slice from a DataFrame.\n",
      "Try using .loc[row_indexer,col_indexer] = value instead\n",
      "\n",
      "See the caveats in the documentation: https://pandas.pydata.org/pandas-docs/stable/user_guide/indexing.html#returning-a-view-versus-a-copy\n",
      "  df_important_features[\"RESP\"] = df[\"RESP\"]\n"
     ]
    },
    {
     "name": "stdout",
     "output_type": "stream",
     "text": [
      "{'max_depth': [5, 50, None], 'n_estimators': [100, 1000]}\n"
     ]
    },
    {
     "data": {
      "text/plain": "<Figure size 640x480 with 1 Axes>",
      "image/png": "[encoded data removed]"
     },
     "metadata": {},
     "output_type": "display_data"
    }
   ],
   "source": [
    "# top 10 features werden für das TRaining der kommenden Random Forest Classifier genutzt\n",
    "feat_importances = pd.Series(rf.feature_importances_, index=X_train.columns)\n",
    "feat_importances.nlargest(10).plot(kind='barh')\n",
    "important_features = feat_importances.nlargest(10).index\n",
    "\n",
    "\n",
    "df_important_features = df[important_features]\n",
    "df_important_features[\"RESP\"] = df[\"RESP\"]\n",
    "X_train, X_test_2, y_train, y_test_2, X_test_1, y_test_1 = split_train_test(df_important_features)\n",
    "\n",
    "# Hyperparameter werden für die GridSearch herausgesucht. Auskommentierte Zeilen können hinzugefügt werden:\n",
    "# Allgemein gilt: Es müssen nicht extrem viele Werte und Hyperparameter durchlaufen werden, wichtig ist, dass der Sinn einer GridSearch verstanden wurde!\n",
    "\n",
    "# Number of trees in random forest\n",
    "n_estimators = [int(x) for x in np.linspace(start=100, stop=1000, num=2)]\n",
    "# Number of features to consider at every split\n",
    "#max_features = [\"auto\", \"sqrt\"]\n",
    "# Maximum number of levels in tree\n",
    "max_depth = [int(x) for x in np.linspace(5, 50, num = 2)]\n",
    "max_depth.append(None)\n",
    "# Minimum number of samples required to split a node\n",
    "\"\"\"min_samples_split = [2,5,10]\"\"\"\n",
    "# Minimum number of samples required at each leaf node\n",
    "\"\"\"min_samples_leaf = [1,2,4]\"\"\"\n",
    "# Method of selecting samples for training each tree\n",
    "\"\"\"bootstrap = [True, False]\"\"\"\n",
    "\n",
    "# Create the random grid\n",
    "random_grid = {\"n_estimators\":n_estimators,\n",
    "               #\"max_features\":max_features,\n",
    "               \"max_depth\":max_depth}\n",
    "#\"min_samples_split\":min_samples_split,\n",
    "#\"min_samples_leaf\":min_samples_leaf,\n",
    "#\"bootstrap\":bootstrap}\n",
    "pprint(random_grid)"
   ],
   "metadata": {
    "collapsed": false,
    "ExecuteTime": {
     "end_time": "2023-12-01T18:10:11.242966300Z",
     "start_time": "2023-12-01T18:09:27.877343700Z"
    }
   },
   "id": "95e7bd21b6ce2e8a"
  },
  {
   "cell_type": "markdown",
   "source": [
    "<h2>Funktion (Scorefunction) zur Berechnung des Gewinns/Verlustes gemäß der Aufgabenstellung (Gewinnmatrix)<h2>"
   ],
   "metadata": {
    "collapsed": false
   },
   "id": "9a2be7d64f473e72"
  },
  {
   "cell_type": "code",
   "execution_count": 62,
   "outputs": [],
   "source": [
    "def get_result_score(y_test, y_predicted):\n",
    "\n",
    "    TP = 0\n",
    "    FP = 0\n",
    "    TN = 0\n",
    "    FN = 0\n",
    "\n",
    "    y_true = y_test.to_list()\n",
    "    y_predicted = y_predicted.tolist()\n",
    "\n",
    "    for i in range(len(y_predicted)):\n",
    "        if y_true[i]==y_predicted[i]==1:\n",
    "            TP += 1\n",
    "        if y_predicted[i]==1 and y_true[i]!=y_predicted[i]:\n",
    "            FP += 1\n",
    "        if y_true[i]==y_predicted[i]==0:\n",
    "            TN += 1\n",
    "        if y_predicted[i]==0 and y_true[i]!=y_predicted[i]:\n",
    "            FN += 1\n",
    "\n",
    "\n",
    "    return (TP*16+FP*(-2)+TN*(0)+FN*(-16))"
   ],
   "metadata": {
    "collapsed": false,
    "ExecuteTime": {
     "end_time": "2023-12-01T18:10:11.242966300Z",
     "start_time": "2023-12-01T18:09:29.175630800Z"
    }
   },
   "id": "975e43974ad4b961"
  },
  {
   "cell_type": "markdown",
   "source": [
    "<h2>Klassifizierung erneut anhand eines Random Forest Classifiers, diesmal mit vorangegangener GridSearch mit oben bestimmten Hyperparameter(werten) und Optimierung auf Grundlage der Ergebnisse der definierten individuellen Scorer Funktion<h2>"
   ],
   "metadata": {
    "collapsed": false
   },
   "id": "fc1f413e03e4647d"
  },
  {
   "cell_type": "code",
   "execution_count": 63,
   "outputs": [
    {
     "name": "stdout",
     "output_type": "stream",
     "text": [
      "Fitting 3 folds for each of 6 candidates, totalling 18 fits\n",
      "Fitting 3 folds for each of 6 candidates, totalling 18 fits\n",
      "Fitting 3 folds for each of 6 candidates, totalling 18 fits\n",
      "Best Score mit eigener Funktion:  -6382.0\n",
      "Mit besten Parametern:  {'max_depth': 50, 'n_estimators': 1000}\n",
      "Best Score nach Accuracy:  0.8560706522720999\n",
      "Mit besten Parametern:  {'max_depth': 5, 'n_estimators': 1000}\n",
      "Best Score nach Recall:  0.2915291529152915\n",
      "Mit besten Parametern:  {'max_depth': 50, 'n_estimators': 1000}\n"
     ]
    }
   ],
   "source": [
    "# Use the random grid to search for best hyperparameters\n",
    "# First create the base model to tune\n",
    "# Create new base model\n",
    "rf = RandomForestClassifier(random_state = 4711)\n",
    "\n",
    "\"\"\"#rf.fit(X_train, y_train)\n",
    "#y_predict = rf.predict(X_test)\"\"\"\n",
    "\n",
    "result_scorer = make_scorer(get_result_score)       #eigenen Scorer für GridSearch\n",
    "\n",
    "# Random search for parameters, using 3 fold cross validation,\n",
    "# search across 100 different combinations, and use all available cores\n",
    "rf_random_result_score = GridSearchCV(estimator = rf, param_grid = random_grid,\n",
    "                                      cv = 3, verbose = 2,\n",
    "                                      n_jobs = -1, scoring = result_scorer)\n",
    "\n",
    "rf_random_result_accuracy = GridSearchCV(estimator = rf, param_grid = random_grid,\n",
    "                                         cv = 3, verbose = 2,\n",
    "                                         n_jobs = -1)\n",
    "rf_random_result_recall = GridSearchCV(estimator = rf, param_grid = random_grid, \n",
    "                                       cv = 3, verbose = 2, \n",
    "                                       n_jobs = -1, scoring = \"recall\")\n",
    "\n",
    "\"\"\"Andere Scorer Funktionen prüfen!!!\"\"\"\n",
    "\n",
    "rf_random_result_score_res = rf_random_result_score.fit(X_train, y_train)\n",
    "rf_random_result_accuracy_res = rf_random_result_accuracy.fit(X_train, y_train)\n",
    "rf_random_result_recall_res = rf_random_result_recall.fit(X_train, y_train)\n",
    "\n",
    "print(\"Best Score mit eigener Funktion: \",rf_random_result_score_res.best_score_)\n",
    "print(\"Mit besten Parametern: \",rf_random_result_score_res.best_params_)\n",
    "print(\"Best Score nach Accuracy: \",rf_random_result_accuracy_res.best_score_)\n",
    "print(\"Mit besten Parametern: \",rf_random_result_accuracy_res.best_params_)\n",
    "print(\"Best Score nach Recall: \",rf_random_result_recall_res.best_score_)\n",
    "print(\"Mit besten Parametern: \",rf_random_result_recall_res.best_params_)\n",
    "# Ausgabe des besten Scores (auf Grundlage der durchlaufenden Hyperparameter)"
   ],
   "metadata": {
    "collapsed": false,
    "ExecuteTime": {
     "end_time": "2023-12-01T18:28:22.424452300Z",
     "start_time": "2023-12-01T18:09:29.208411800Z"
    }
   },
   "id": "3433a94c05e8d825"
  },
  {
   "cell_type": "code",
   "execution_count": 64,
   "outputs": [
    {
     "name": "stdout",
     "output_type": "stream",
     "text": [
      "Accuracy:  85.47567175018156 %\n",
      "Recall:  27.030812324929972 %\n",
      "Precision:  70.95588235294117 %\n",
      "F1 Score:  39.14807302231237 %\n",
      "Score:  -5406\n"
     ]
    }
   ],
   "source": [
    "rf = RandomForestClassifier(random_state=4711, max_depth=5, n_estimators=1000)\n",
    "rf.fit(X_train,y_train)\n",
    "y_predicted = rf.predict(X_test_1)\n",
    "\n",
    "accuracy = accuracy_score(y_test_1, y_predicted)\n",
    "precision = precision_score(y_test_1, y_predicted)\n",
    "recall = recall_score(y_test_1, y_predicted)\n",
    "f1score = f1_score(y_test_1, y_predicted)\n",
    "score = get_result_score(y_test_1, y_predicted)\n",
    "\n",
    "print(\"Accuracy: \",accuracy*100, \"%\")\n",
    "print(\"Recall: \", recall*100, \"%\")\n",
    "print(\"Precision: \", precision*100, \"%\")\n",
    "print(\"F1 Score: \", f1score*100, \"%\")\n",
    "print(\"Score: \", score)"
   ],
   "metadata": {
    "collapsed": false,
    "ExecuteTime": {
     "end_time": "2023-12-01T18:29:17.410082600Z",
     "start_time": "2023-12-01T18:28:22.394651100Z"
    }
   },
   "id": "992e41eb07cb01b6"
  },
  {
   "cell_type": "markdown",
   "source": [
    "<h2>Threshold Tuning<h2>"
   ],
   "metadata": {
    "collapsed": false
   },
   "id": "19cce95bc8a8b872"
  },
  {
   "cell_type": "code",
   "execution_count": 65,
   "outputs": [
    {
     "name": "stdout",
     "output_type": "stream",
     "text": [
      "Threshold=0.100, Score-Wert=1384.00000\n"
     ]
    },
    {
     "data": {
      "text/plain": "<Figure size 640x480 with 1 Axes>",
      "image/png": "[encoded data removed]"
     },
     "metadata": {},
     "output_type": "display_data"
    }
   ],
   "source": [
    "def to_labels(probabilities, threshold):\n",
    "    return(probabilities >= threshold).astype(\"int\")\n",
    "\n",
    "rf = RandomForestClassifier(random_state=4711, max_depth=5, n_estimators=1000)\n",
    "\n",
    "\n",
    "#Thresholds evaluieren\n",
    "rf.fit(X_train,y_train)\n",
    "yhat = rf.predict_proba(X_test_1)\n",
    "probs = yhat[:,1]\n",
    "thresholds = np.arange(0,1,0.001)\n",
    "scores = [get_result_score(y_test_1,to_labels(probs,t)) for t in thresholds]\n",
    "ix = np.argmax(scores)\n",
    "print(\"Threshold=%.3f, Score-Wert=%.5f\"%(thresholds[ix],scores[ix]))\n",
    "plt.plot(np.arange(0,1,0.001), scores)\n",
    "plt.xticks(np.arange(0,1,0.1))\n",
    "plt.title(\"Score-Wert in Abhängigkeit vom Classification Threshold\")\n",
    "plt.xlabel(\"Threshold\")\n",
    "plt.ylabel('Score')\n",
    "plt.show()"
   ],
   "metadata": {
    "collapsed": false,
    "ExecuteTime": {
     "end_time": "2023-12-01T18:29:49.358868800Z",
     "start_time": "2023-12-01T18:29:17.366375900Z"
    }
   },
   "id": "871fc42424441e03"
  },
  {
   "cell_type": "markdown",
   "source": [],
   "metadata": {
    "collapsed": false
   },
   "id": "71ce6de05c0777e5"
  }
 ],
 "metadata": {
  "kernelspec": {
   "display_name": "Python 3",
   "language": "python",
   "name": "python3"
  },
  "language_info": {
   "codemirror_mode": {
    "name": "ipython",
    "version": 2
   },
   "file_extension": ".py",
   "mimetype": "text/x-python",
   "name": "python",
   "nbconvert_exporter": "python",
   "pygments_lexer": "ipython2",
   "version": "2.7.6"
  }
 },
 "nbformat": 4,
 "nbformat_minor": 5
}
