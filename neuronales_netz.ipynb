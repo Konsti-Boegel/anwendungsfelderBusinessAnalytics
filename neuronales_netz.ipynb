{
 "cells": [
  {
   "cell_type": "markdown",
   "source": [
    "# Neural network model"
   ],
   "metadata": {
    "collapsed": false
   },
   "id": "6496a5c88df1721"
  },
  {
   "cell_type": "markdown",
   "source": [
    "The objective of this notebook is to design a neural network model to predict customer churn. Keras library is used for designing and training the neural network."
   ],
   "metadata": {
    "collapsed": false
   },
   "id": "8364fbf1a89a56a2"
  },
  {
   "cell_type": "markdown",
   "source": [
    "## Import libraries"
   ],
   "metadata": {
    "collapsed": false
   },
   "id": "fc8f4ec03a2c6199"
  },
  {
   "cell_type": "code",
   "execution_count": 33,
   "id": "initial_id",
   "metadata": {
    "collapsed": true,
    "ExecuteTime": {
     "end_time": "2023-11-28T17:58:03.970034500Z",
     "start_time": "2023-11-28T17:58:03.936681700Z"
    }
   },
   "outputs": [],
   "source": [
    "import pandas as pd\n",
    "import numpy as np\n",
    "\n",
    "import seaborn as sn\n",
    "import matplotlib.pyplot as plt\n",
    "\n",
    "from sklearn.model_selection import train_test_split\n",
    "from sklearn.preprocessing import StandardScaler\n",
    "from sklearn.metrics import accuracy_score\n",
    "from sklearn.metrics import confusion_matrix\n",
    "from sklearn.metrics import classification_report\n",
    "\n",
    "import keras\n",
    "from keras.models import Sequential\n",
    "from keras.layers import Dense"
   ]
  },
  {
   "cell_type": "markdown",
   "source": [
    "## Load data"
   ],
   "metadata": {
    "collapsed": false
   },
   "id": "6b1821c4dc563359"
  },
  {
   "cell_type": "code",
   "execution_count": 34,
   "outputs": [],
   "source": [
    "path = r'./out/df_clean.csv'"
   ],
   "metadata": {
    "collapsed": false,
    "ExecuteTime": {
     "end_time": "2023-11-28T17:58:04.014518300Z",
     "start_time": "2023-11-28T17:58:03.941020400Z"
    }
   },
   "id": "37042b7893873594"
  },
  {
   "cell_type": "code",
   "execution_count": 35,
   "outputs": [],
   "source": [
    "df = pd.read_csv(path, sep=';', decimal=',')"
   ],
   "metadata": {
    "collapsed": false,
    "ExecuteTime": {
     "end_time": "2023-11-28T17:58:04.017024400Z",
     "start_time": "2023-11-28T17:58:03.955984800Z"
    }
   },
   "id": "315532a40ea7e6df"
  },
  {
   "cell_type": "markdown",
   "source": [
    "## EDA"
   ],
   "metadata": {
    "collapsed": false
   },
   "id": "3ea04263a9d82bcf"
  },
  {
   "cell_type": "code",
   "execution_count": 36,
   "outputs": [
    {
     "name": "stdout",
     "output_type": "stream",
     "text": [
      "<class 'pandas.core.frame.DataFrame'>\n",
      "RangeIndex: 21740 entries, 0 to 21739\n",
      "Data columns (total 33 columns):\n",
      " #   Column               Non-Null Count  Dtype  \n",
      "---  ------               --------------  -----  \n",
      " 0   ZIP_CODE             21740 non-null  int64  \n",
      " 1   DAYS_SINCE_PURCHASE  21740 non-null  int64  \n",
      " 2   PURCHASE_VISITS      21740 non-null  int64  \n",
      " 3   TOTAL_NET_SALES      21740 non-null  float64\n",
      " 4   CC_CARD              21740 non-null  int64  \n",
      " 5   AVE_AMOUNT_SPENT     21740 non-null  float64\n",
      " 6   AMSPEND              21740 non-null  float64\n",
      " 7   PSSPEND              21740 non-null  float64\n",
      " 8   CCSPEND              21740 non-null  float64\n",
      " 9   AXSPEND              21740 non-null  float64\n",
      " 10  TMONSPEND            21740 non-null  float64\n",
      " 11  OMONSPEND            21740 non-null  float64\n",
      " 12  SMONSPEND            21740 non-null  float64\n",
      " 13  PREVPD               21740 non-null  float64\n",
      " 14  GMP                  21740 non-null  float64\n",
      " 15  PROMOS               21740 non-null  int64  \n",
      " 16  DAYS                 21740 non-null  int64  \n",
      " 17  FREDAYS              21740 non-null  float64\n",
      " 18  MARKDOWN             21740 non-null  float64\n",
      " 19  CLASSES              21740 non-null  int64  \n",
      " 20  COUPONS              21740 non-null  int64  \n",
      " 21  STYLES               21740 non-null  int64  \n",
      " 22  STORES               21740 non-null  int64  \n",
      " 23  VALPHON              21740 non-null  int64  \n",
      " 24  WEB                  21740 non-null  int64  \n",
      " 25  MAILED               21740 non-null  int64  \n",
      " 26  RESPONDED            21740 non-null  int64  \n",
      " 27  RESPONSERATE         21740 non-null  float64\n",
      " 28  HI                   21740 non-null  float64\n",
      " 29  LTFREDAY             21740 non-null  float64\n",
      " 30  CLUSTYPE             21740 non-null  object \n",
      " 31  PERCRET              21740 non-null  float64\n",
      " 32  RESP                 21740 non-null  int64  \n",
      "dtypes: float64(17), int64(15), object(1)\n",
      "memory usage: 5.5+ MB\n"
     ]
    }
   ],
   "source": [
    "df.info()"
   ],
   "metadata": {
    "collapsed": false,
    "ExecuteTime": {
     "end_time": "2023-11-28T17:58:04.017024400Z",
     "start_time": "2023-11-28T17:58:04.000014300Z"
    }
   },
   "id": "caea1b897c3cf212"
  },
  {
   "cell_type": "code",
   "execution_count": 37,
   "outputs": [
    {
     "data": {
      "text/plain": "ZIP_CODE               0\nDAYS_SINCE_PURCHASE    0\nPURCHASE_VISITS        0\nTOTAL_NET_SALES        0\nCC_CARD                0\nAVE_AMOUNT_SPENT       0\nAMSPEND                0\nPSSPEND                0\nCCSPEND                0\nAXSPEND                0\nTMONSPEND              0\nOMONSPEND              0\nSMONSPEND              0\nPREVPD                 0\nGMP                    0\nPROMOS                 0\nDAYS                   0\nFREDAYS                0\nMARKDOWN               0\nCLASSES                0\nCOUPONS                0\nSTYLES                 0\nSTORES                 0\nVALPHON                0\nWEB                    0\nMAILED                 0\nRESPONDED              0\nRESPONSERATE           0\nHI                     0\nLTFREDAY               0\nCLUSTYPE               0\nPERCRET                0\nRESP                   0\ndtype: int64"
     },
     "execution_count": 37,
     "metadata": {},
     "output_type": "execute_result"
    }
   ],
   "source": [
    "# Check for null values\n",
    "df.isnull().sum()"
   ],
   "metadata": {
    "collapsed": false,
    "ExecuteTime": {
     "end_time": "2023-11-28T17:58:04.026044100Z",
     "start_time": "2023-11-28T17:58:04.007455900Z"
    }
   },
   "id": "6379033caad07f55"
  },
  {
   "cell_type": "markdown",
   "source": [
    "## Data preparation"
   ],
   "metadata": {
    "collapsed": false
   },
   "id": "f8fb6613940720e9"
  },
  {
   "cell_type": "code",
   "execution_count": 38,
   "outputs": [],
   "source": [
    "# Create new 'prepared' dataframe\n",
    "df_prep = df.copy()"
   ],
   "metadata": {
    "collapsed": false,
    "ExecuteTime": {
     "end_time": "2023-11-28T17:58:04.041937400Z",
     "start_time": "2023-11-28T17:58:04.019538Z"
    }
   },
   "id": "2f5e9f2d91c30e77"
  },
  {
   "cell_type": "code",
   "execution_count": 39,
   "outputs": [],
   "source": [
    "# Create dummy-columns for object-columns\n",
    "df_prep = pd.get_dummies(df_prep, columns=['CLUSTYPE'])\n",
    "df_prep = pd.get_dummies(df_prep, columns=['CC_CARD'])"
   ],
   "metadata": {
    "collapsed": false,
    "ExecuteTime": {
     "end_time": "2023-11-28T17:58:04.077978500Z",
     "start_time": "2023-11-28T17:58:04.029559900Z"
    }
   },
   "id": "232ed89dbdcca08a"
  },
  {
   "cell_type": "markdown",
   "source": [
    "# Train and test"
   ],
   "metadata": {
    "collapsed": false
   },
   "id": "b0be7796de98152a"
  },
  {
   "cell_type": "code",
   "execution_count": 41,
   "outputs": [],
   "source": [
    "y = df_prep['RESP']\n",
    "x = df_prep.drop(columns='RESP')"
   ],
   "metadata": {
    "collapsed": false,
    "ExecuteTime": {
     "end_time": "2023-11-28T17:58:04.085486300Z",
     "start_time": "2023-11-28T17:58:04.066658600Z"
    }
   },
   "id": "4681052443faa8d8"
  },
  {
   "cell_type": "code",
   "execution_count": 42,
   "outputs": [
    {
     "name": "stdout",
     "output_type": "stream",
     "text": [
      "(17392, 83) (4348, 83) (17392,) (4348,)\n"
     ]
    }
   ],
   "source": [
    "x_train, x_test, y_train, y_test = train_test_split(x, y, test_size = 0.2, random_state = 0)\n",
    "print(x_train.shape, x_test.shape, y_train.shape, y_test.shape)"
   ],
   "metadata": {
    "collapsed": false,
    "ExecuteTime": {
     "end_time": "2023-11-28T17:58:04.095403100Z",
     "start_time": "2023-11-28T17:58:04.073472500Z"
    }
   },
   "id": "c43de5a80d13b191"
  },
  {
   "cell_type": "markdown",
   "source": [
    "## Feature scaling"
   ],
   "metadata": {
    "collapsed": false
   },
   "id": "7c384c46d17daeba"
  },
  {
   "cell_type": "code",
   "execution_count": 43,
   "outputs": [],
   "source": [
    "sc = StandardScaler()\n",
    "x_train = sc.fit_transform(x_train)\n",
    "x_test = sc.transform(x_test)"
   ],
   "metadata": {
    "collapsed": false,
    "ExecuteTime": {
     "end_time": "2023-11-28T17:58:04.199012100Z",
     "start_time": "2023-11-28T17:58:04.090403Z"
    }
   },
   "id": "8711e0eecf7a72e4"
  },
  {
   "cell_type": "markdown",
   "source": [
    "## Neural network building and model training"
   ],
   "metadata": {
    "collapsed": false
   },
   "id": "31dceec4476e8fca"
  },
  {
   "cell_type": "code",
   "execution_count": 48,
   "outputs": [],
   "source": [
    "#create an object of sequential model\n",
    "nn_classifier = Sequential()\n",
    "\n",
    "# Add the first hidden layer\n",
    "nn_classifier.add(Dense(units=16, activation='relu', input_dim = 83))\n",
    "\n",
    "# Adding the second hidden layer\n",
    "nn_classifier.add(Dense(units=16, activation='relu'))\n",
    "\n",
    "# Adding the output layer\n",
    "nn_classifier.add(Dense(units=1, activation='sigmoid'))"
   ],
   "metadata": {
    "collapsed": false,
    "ExecuteTime": {
     "end_time": "2023-11-28T18:10:46.484985700Z",
     "start_time": "2023-11-28T18:10:46.461188Z"
    }
   },
   "id": "2d2aa117fd33380a"
  },
  {
   "cell_type": "code",
   "execution_count": 49,
   "outputs": [
    {
     "name": "stdout",
     "output_type": "stream",
     "text": [
      "Epoch 1/100\n",
      "WARNING:tensorflow:From C:\\Users\\konbo\\anaconda3\\Lib\\site-packages\\keras\\src\\utils\\tf_utils.py:492: The name tf.ragged.RaggedTensorValue is deprecated. Please use tf.compat.v1.ragged.RaggedTensorValue instead.\n",
      "WARNING:tensorflow:From C:\\Users\\konbo\\anaconda3\\Lib\\site-packages\\keras\\src\\engine\\base_layer_utils.py:384: The name tf.executing_eagerly_outside_functions is deprecated. Please use tf.compat.v1.executing_eagerly_outside_functions instead.\n",
      "1166/1166 [==============================] - 2s 1ms/step - loss: 0.4282 - accuracy: 0.8259 - val_loss: 0.3769 - val_accuracy: 0.8456\n",
      "Epoch 2/100\n",
      "1166/1166 [==============================] - 1s 903us/step - loss: 0.3686 - accuracy: 0.8478 - val_loss: 0.3672 - val_accuracy: 0.8472\n",
      "Epoch 3/100\n",
      "1166/1166 [==============================] - 1s 906us/step - loss: 0.3586 - accuracy: 0.8496 - val_loss: 0.3628 - val_accuracy: 0.8483\n",
      "Epoch 4/100\n",
      "1166/1166 [==============================] - 1s 900us/step - loss: 0.3526 - accuracy: 0.8518 - val_loss: 0.3602 - val_accuracy: 0.8486\n",
      "Epoch 5/100\n",
      "1166/1166 [==============================] - 1s 893us/step - loss: 0.3480 - accuracy: 0.8516 - val_loss: 0.3574 - val_accuracy: 0.8507\n",
      "Epoch 6/100\n",
      "1166/1166 [==============================] - 1s 887us/step - loss: 0.3444 - accuracy: 0.8529 - val_loss: 0.3563 - val_accuracy: 0.8503\n",
      "Epoch 7/100\n",
      "1166/1166 [==============================] - 1s 896us/step - loss: 0.3410 - accuracy: 0.8524 - val_loss: 0.3555 - val_accuracy: 0.8498\n",
      "Epoch 8/100\n",
      "1166/1166 [==============================] - 1s 900us/step - loss: 0.3383 - accuracy: 0.8540 - val_loss: 0.3543 - val_accuracy: 0.8497\n",
      "Epoch 9/100\n",
      "1166/1166 [==============================] - 1s 899us/step - loss: 0.3352 - accuracy: 0.8548 - val_loss: 0.3541 - val_accuracy: 0.8479\n",
      "Epoch 10/100\n",
      "1166/1166 [==============================] - 1s 900us/step - loss: 0.3333 - accuracy: 0.8549 - val_loss: 0.3534 - val_accuracy: 0.8486\n",
      "Epoch 11/100\n",
      "1166/1166 [==============================] - 1s 896us/step - loss: 0.3311 - accuracy: 0.8565 - val_loss: 0.3522 - val_accuracy: 0.8488\n",
      "Epoch 12/100\n",
      "1166/1166 [==============================] - 1s 892us/step - loss: 0.3290 - accuracy: 0.8568 - val_loss: 0.3523 - val_accuracy: 0.8497\n",
      "Epoch 13/100\n",
      "1166/1166 [==============================] - 1s 940us/step - loss: 0.3273 - accuracy: 0.8568 - val_loss: 0.3515 - val_accuracy: 0.8497\n",
      "Epoch 14/100\n",
      "1166/1166 [==============================] - 1s 914us/step - loss: 0.3254 - accuracy: 0.8562 - val_loss: 0.3517 - val_accuracy: 0.8491\n",
      "Epoch 15/100\n",
      "1166/1166 [==============================] - 1s 947us/step - loss: 0.3237 - accuracy: 0.8573 - val_loss: 0.3520 - val_accuracy: 0.8474\n",
      "Epoch 16/100\n",
      "1166/1166 [==============================] - 1s 919us/step - loss: 0.3222 - accuracy: 0.8585 - val_loss: 0.3510 - val_accuracy: 0.8476\n",
      "Epoch 17/100\n",
      "1166/1166 [==============================] - 1s 901us/step - loss: 0.3203 - accuracy: 0.8571 - val_loss: 0.3520 - val_accuracy: 0.8493\n",
      "Epoch 18/100\n",
      "1166/1166 [==============================] - 1s 901us/step - loss: 0.3193 - accuracy: 0.8583 - val_loss: 0.3525 - val_accuracy: 0.8493\n",
      "Epoch 19/100\n",
      "1166/1166 [==============================] - 1s 900us/step - loss: 0.3181 - accuracy: 0.8574 - val_loss: 0.3540 - val_accuracy: 0.8483\n",
      "Epoch 20/100\n",
      "1166/1166 [==============================] - 1s 910us/step - loss: 0.3177 - accuracy: 0.8592 - val_loss: 0.3526 - val_accuracy: 0.8490\n",
      "Epoch 21/100\n",
      "1166/1166 [==============================] - 1s 936us/step - loss: 0.3158 - accuracy: 0.8600 - val_loss: 0.3530 - val_accuracy: 0.8479\n",
      "Epoch 22/100\n",
      "1166/1166 [==============================] - 1s 913us/step - loss: 0.3159 - accuracy: 0.8601 - val_loss: 0.3527 - val_accuracy: 0.8512\n",
      "Epoch 23/100\n",
      "1166/1166 [==============================] - 1s 903us/step - loss: 0.3142 - accuracy: 0.8598 - val_loss: 0.3522 - val_accuracy: 0.8495\n",
      "Epoch 24/100\n",
      "1166/1166 [==============================] - 1s 905us/step - loss: 0.3130 - accuracy: 0.8596 - val_loss: 0.3558 - val_accuracy: 0.8451\n",
      "Epoch 25/100\n",
      "1166/1166 [==============================] - 1s 908us/step - loss: 0.3125 - accuracy: 0.8603 - val_loss: 0.3543 - val_accuracy: 0.8519\n",
      "Epoch 26/100\n",
      "1166/1166 [==============================] - 1s 924us/step - loss: 0.3113 - accuracy: 0.8611 - val_loss: 0.3541 - val_accuracy: 0.8500\n",
      "Epoch 27/100\n",
      "1166/1166 [==============================] - 1s 901us/step - loss: 0.3110 - accuracy: 0.8608 - val_loss: 0.3559 - val_accuracy: 0.8469\n",
      "Epoch 28/100\n",
      "1166/1166 [==============================] - 1s 902us/step - loss: 0.3098 - accuracy: 0.8605 - val_loss: 0.3558 - val_accuracy: 0.8463\n",
      "Epoch 29/100\n",
      "1166/1166 [==============================] - 1s 902us/step - loss: 0.3091 - accuracy: 0.8616 - val_loss: 0.3563 - val_accuracy: 0.8488\n",
      "Epoch 30/100\n",
      "1166/1166 [==============================] - 1s 962us/step - loss: 0.3091 - accuracy: 0.8620 - val_loss: 0.3553 - val_accuracy: 0.8467\n",
      "Epoch 31/100\n",
      "1166/1166 [==============================] - 1s 903us/step - loss: 0.3080 - accuracy: 0.8622 - val_loss: 0.3572 - val_accuracy: 0.8463\n",
      "Epoch 32/100\n",
      "1166/1166 [==============================] - 1s 904us/step - loss: 0.3069 - accuracy: 0.8614 - val_loss: 0.3580 - val_accuracy: 0.8449\n",
      "Epoch 33/100\n",
      "1166/1166 [==============================] - 1s 900us/step - loss: 0.3067 - accuracy: 0.8617 - val_loss: 0.3572 - val_accuracy: 0.8484\n",
      "Epoch 34/100\n",
      "1166/1166 [==============================] - 1s 908us/step - loss: 0.3060 - accuracy: 0.8630 - val_loss: 0.3558 - val_accuracy: 0.8481\n",
      "Epoch 35/100\n",
      "1166/1166 [==============================] - 1s 900us/step - loss: 0.3049 - accuracy: 0.8615 - val_loss: 0.3585 - val_accuracy: 0.8481\n",
      "Epoch 36/100\n",
      "1166/1166 [==============================] - 1s 929us/step - loss: 0.3049 - accuracy: 0.8623 - val_loss: 0.3599 - val_accuracy: 0.8453\n",
      "Epoch 37/100\n",
      "1166/1166 [==============================] - 1s 978us/step - loss: 0.3038 - accuracy: 0.8629 - val_loss: 0.3577 - val_accuracy: 0.8441\n",
      "Epoch 38/100\n",
      "1166/1166 [==============================] - 1s 926us/step - loss: 0.3030 - accuracy: 0.8633 - val_loss: 0.3605 - val_accuracy: 0.8413\n",
      "Epoch 39/100\n",
      "1166/1166 [==============================] - 1s 1ms/step - loss: 0.3023 - accuracy: 0.8649 - val_loss: 0.3591 - val_accuracy: 0.8484\n",
      "Epoch 40/100\n",
      "1166/1166 [==============================] - 1s 1ms/step - loss: 0.3023 - accuracy: 0.8647 - val_loss: 0.3592 - val_accuracy: 0.8456\n",
      "Epoch 41/100\n",
      "1166/1166 [==============================] - 1s 1ms/step - loss: 0.3009 - accuracy: 0.8643 - val_loss: 0.3621 - val_accuracy: 0.8413\n",
      "Epoch 42/100\n",
      "1166/1166 [==============================] - 1s 1ms/step - loss: 0.3008 - accuracy: 0.8636 - val_loss: 0.3602 - val_accuracy: 0.8427\n",
      "Epoch 43/100\n",
      "1166/1166 [==============================] - 1s 988us/step - loss: 0.3000 - accuracy: 0.8655 - val_loss: 0.3629 - val_accuracy: 0.8425\n",
      "Epoch 44/100\n",
      "1166/1166 [==============================] - 1s 1ms/step - loss: 0.2995 - accuracy: 0.8660 - val_loss: 0.3599 - val_accuracy: 0.8441\n",
      "Epoch 45/100\n",
      "1166/1166 [==============================] - 1s 987us/step - loss: 0.2984 - accuracy: 0.8644 - val_loss: 0.3627 - val_accuracy: 0.8463\n",
      "Epoch 46/100\n",
      "1166/1166 [==============================] - 1s 947us/step - loss: 0.2984 - accuracy: 0.8634 - val_loss: 0.3618 - val_accuracy: 0.8483\n",
      "Epoch 47/100\n",
      "1166/1166 [==============================] - 1s 998us/step - loss: 0.2976 - accuracy: 0.8656 - val_loss: 0.3610 - val_accuracy: 0.8455\n",
      "Epoch 48/100\n",
      "1166/1166 [==============================] - 1s 953us/step - loss: 0.2965 - accuracy: 0.8658 - val_loss: 0.3627 - val_accuracy: 0.8446\n",
      "Epoch 49/100\n",
      "1166/1166 [==============================] - 1s 1ms/step - loss: 0.2953 - accuracy: 0.8666 - val_loss: 0.3691 - val_accuracy: 0.8366\n",
      "Epoch 50/100\n",
      "1166/1166 [==============================] - 1s 997us/step - loss: 0.2956 - accuracy: 0.8636 - val_loss: 0.3649 - val_accuracy: 0.8390\n",
      "Epoch 51/100\n",
      "1166/1166 [==============================] - 1s 1ms/step - loss: 0.2944 - accuracy: 0.8651 - val_loss: 0.3623 - val_accuracy: 0.8446\n",
      "Epoch 52/100\n",
      "1166/1166 [==============================] - 1s 965us/step - loss: 0.2940 - accuracy: 0.8665 - val_loss: 0.3686 - val_accuracy: 0.8439\n",
      "Epoch 53/100\n",
      "1166/1166 [==============================] - 1s 944us/step - loss: 0.2936 - accuracy: 0.8674 - val_loss: 0.3684 - val_accuracy: 0.8416\n",
      "Epoch 54/100\n",
      "1166/1166 [==============================] - 1s 933us/step - loss: 0.2929 - accuracy: 0.8681 - val_loss: 0.3666 - val_accuracy: 0.8392\n",
      "Epoch 55/100\n",
      "1166/1166 [==============================] - 1s 956us/step - loss: 0.2920 - accuracy: 0.8672 - val_loss: 0.3679 - val_accuracy: 0.8361\n",
      "Epoch 56/100\n",
      "1166/1166 [==============================] - 1s 945us/step - loss: 0.2915 - accuracy: 0.8668 - val_loss: 0.3704 - val_accuracy: 0.8340\n",
      "Epoch 57/100\n",
      "1166/1166 [==============================] - 1s 957us/step - loss: 0.2909 - accuracy: 0.8692 - val_loss: 0.3691 - val_accuracy: 0.8352\n",
      "Epoch 58/100\n",
      "1166/1166 [==============================] - 1s 1ms/step - loss: 0.2904 - accuracy: 0.8701 - val_loss: 0.3704 - val_accuracy: 0.8345\n",
      "Epoch 59/100\n",
      "1166/1166 [==============================] - 1s 1ms/step - loss: 0.2897 - accuracy: 0.8667 - val_loss: 0.3702 - val_accuracy: 0.8345\n",
      "Epoch 60/100\n",
      "1166/1166 [==============================] - 1s 952us/step - loss: 0.2895 - accuracy: 0.8707 - val_loss: 0.3735 - val_accuracy: 0.8382\n",
      "Epoch 61/100\n",
      "1166/1166 [==============================] - 1s 957us/step - loss: 0.2891 - accuracy: 0.8700 - val_loss: 0.3714 - val_accuracy: 0.8354\n",
      "Epoch 62/100\n",
      "1166/1166 [==============================] - 1s 997us/step - loss: 0.2881 - accuracy: 0.8700 - val_loss: 0.3713 - val_accuracy: 0.8366\n",
      "Epoch 63/100\n",
      "1166/1166 [==============================] - 1s 1ms/step - loss: 0.2869 - accuracy: 0.8691 - val_loss: 0.3779 - val_accuracy: 0.8282\n",
      "Epoch 64/100\n",
      "1166/1166 [==============================] - 1s 1ms/step - loss: 0.2871 - accuracy: 0.8692 - val_loss: 0.3743 - val_accuracy: 0.8347\n",
      "Epoch 65/100\n",
      "1166/1166 [==============================] - 1s 985us/step - loss: 0.2865 - accuracy: 0.8708 - val_loss: 0.3744 - val_accuracy: 0.8364\n",
      "Epoch 66/100\n",
      "1166/1166 [==============================] - 1s 998us/step - loss: 0.2861 - accuracy: 0.8718 - val_loss: 0.3754 - val_accuracy: 0.8350\n",
      "Epoch 67/100\n",
      "1166/1166 [==============================] - 1s 945us/step - loss: 0.2864 - accuracy: 0.8701 - val_loss: 0.3745 - val_accuracy: 0.8392\n",
      "Epoch 68/100\n",
      "1166/1166 [==============================] - 1s 947us/step - loss: 0.2849 - accuracy: 0.8727 - val_loss: 0.3792 - val_accuracy: 0.8279\n",
      "Epoch 69/100\n",
      "1166/1166 [==============================] - 1s 982us/step - loss: 0.2851 - accuracy: 0.8734 - val_loss: 0.3779 - val_accuracy: 0.8336\n",
      "Epoch 70/100\n",
      "1166/1166 [==============================] - 1s 1ms/step - loss: 0.2842 - accuracy: 0.8714 - val_loss: 0.3783 - val_accuracy: 0.8385\n",
      "Epoch 71/100\n",
      "1166/1166 [==============================] - 1s 993us/step - loss: 0.2844 - accuracy: 0.8733 - val_loss: 0.3841 - val_accuracy: 0.8265\n",
      "Epoch 72/100\n",
      "1166/1166 [==============================] - 1s 1ms/step - loss: 0.2836 - accuracy: 0.8727 - val_loss: 0.3791 - val_accuracy: 0.8322\n",
      "Epoch 73/100\n",
      "1166/1166 [==============================] - 1s 961us/step - loss: 0.2832 - accuracy: 0.8728 - val_loss: 0.3817 - val_accuracy: 0.8314\n",
      "Epoch 74/100\n",
      "1166/1166 [==============================] - 1s 974us/step - loss: 0.2827 - accuracy: 0.8714 - val_loss: 0.3844 - val_accuracy: 0.8322\n",
      "Epoch 75/100\n",
      "1166/1166 [==============================] - 1s 951us/step - loss: 0.2817 - accuracy: 0.8732 - val_loss: 0.3848 - val_accuracy: 0.8355\n",
      "Epoch 76/100\n",
      "1166/1166 [==============================] - 1s 943us/step - loss: 0.2822 - accuracy: 0.8730 - val_loss: 0.3858 - val_accuracy: 0.8312\n",
      "Epoch 77/100\n",
      "1166/1166 [==============================] - 1s 964us/step - loss: 0.2815 - accuracy: 0.8757 - val_loss: 0.3873 - val_accuracy: 0.8331\n",
      "Epoch 78/100\n",
      "1166/1166 [==============================] - 1s 957us/step - loss: 0.2814 - accuracy: 0.8737 - val_loss: 0.3862 - val_accuracy: 0.8315\n",
      "Epoch 79/100\n",
      "1166/1166 [==============================] - 1s 942us/step - loss: 0.2805 - accuracy: 0.8737 - val_loss: 0.3847 - val_accuracy: 0.8336\n",
      "Epoch 80/100\n",
      "1166/1166 [==============================] - 1s 933us/step - loss: 0.2806 - accuracy: 0.8746 - val_loss: 0.3864 - val_accuracy: 0.8361\n",
      "Epoch 81/100\n",
      "1166/1166 [==============================] - 1s 919us/step - loss: 0.2802 - accuracy: 0.8747 - val_loss: 0.3856 - val_accuracy: 0.8321\n",
      "Epoch 82/100\n",
      "1166/1166 [==============================] - 1s 920us/step - loss: 0.2800 - accuracy: 0.8764 - val_loss: 0.3859 - val_accuracy: 0.8331\n",
      "Epoch 83/100\n",
      "1166/1166 [==============================] - 1s 928us/step - loss: 0.2793 - accuracy: 0.8752 - val_loss: 0.3919 - val_accuracy: 0.8359\n",
      "Epoch 84/100\n",
      "1166/1166 [==============================] - 1s 932us/step - loss: 0.2793 - accuracy: 0.8747 - val_loss: 0.3871 - val_accuracy: 0.8352\n",
      "Epoch 85/100\n",
      "1166/1166 [==============================] - 1s 946us/step - loss: 0.2781 - accuracy: 0.8762 - val_loss: 0.3937 - val_accuracy: 0.8322\n",
      "Epoch 86/100\n",
      "1166/1166 [==============================] - 1s 985us/step - loss: 0.2784 - accuracy: 0.8739 - val_loss: 0.3923 - val_accuracy: 0.8319\n",
      "Epoch 87/100\n",
      "1166/1166 [==============================] - 1s 1ms/step - loss: 0.2773 - accuracy: 0.8762 - val_loss: 0.3898 - val_accuracy: 0.8338\n",
      "Epoch 88/100\n",
      "1166/1166 [==============================] - 1s 941us/step - loss: 0.2772 - accuracy: 0.8754 - val_loss: 0.3927 - val_accuracy: 0.8308\n",
      "Epoch 89/100\n",
      "1166/1166 [==============================] - 1s 969us/step - loss: 0.2775 - accuracy: 0.8756 - val_loss: 0.3934 - val_accuracy: 0.8322\n",
      "Epoch 90/100\n",
      "1166/1166 [==============================] - 1s 974us/step - loss: 0.2765 - accuracy: 0.8768 - val_loss: 0.3948 - val_accuracy: 0.8334\n",
      "Epoch 91/100\n",
      "1166/1166 [==============================] - 1s 960us/step - loss: 0.2757 - accuracy: 0.8746 - val_loss: 0.3988 - val_accuracy: 0.8199\n",
      "Epoch 92/100\n",
      "1166/1166 [==============================] - 1s 963us/step - loss: 0.2756 - accuracy: 0.8759 - val_loss: 0.3967 - val_accuracy: 0.8334\n",
      "Epoch 93/100\n",
      "1166/1166 [==============================] - 1s 952us/step - loss: 0.2747 - accuracy: 0.8781 - val_loss: 0.3987 - val_accuracy: 0.8321\n",
      "Epoch 94/100\n",
      "1166/1166 [==============================] - 1s 959us/step - loss: 0.2750 - accuracy: 0.8780 - val_loss: 0.3978 - val_accuracy: 0.8338\n",
      "Epoch 95/100\n",
      "1166/1166 [==============================] - 1s 972us/step - loss: 0.2755 - accuracy: 0.8780 - val_loss: 0.4048 - val_accuracy: 0.8336\n",
      "Epoch 96/100\n",
      "1166/1166 [==============================] - 1s 958us/step - loss: 0.2749 - accuracy: 0.8776 - val_loss: 0.3994 - val_accuracy: 0.8270\n",
      "Epoch 97/100\n",
      "1166/1166 [==============================] - 1s 942us/step - loss: 0.2739 - accuracy: 0.8794 - val_loss: 0.4020 - val_accuracy: 0.8343\n",
      "Epoch 98/100\n",
      "1166/1166 [==============================] - 1s 938us/step - loss: 0.2743 - accuracy: 0.8769 - val_loss: 0.4027 - val_accuracy: 0.8240\n",
      "Epoch 99/100\n",
      "1166/1166 [==============================] - 1s 942us/step - loss: 0.2735 - accuracy: 0.8786 - val_loss: 0.4080 - val_accuracy: 0.8277\n",
      "Epoch 100/100\n",
      "1166/1166 [==============================] - 1s 934us/step - loss: 0.2725 - accuracy: 0.8804 - val_loss: 0.4090 - val_accuracy: 0.8223\n"
     ]
    }
   ],
   "source": [
    "nn_classifier.compile(optimizer='sgd', loss='binary_crossentropy', metrics=['accuracy'])\n",
    "\n",
    "# Model is trained over 100 epochs\n",
    "model = nn_classifier.fit(x_train, y_train, validation_split=0.33, batch_size=10, epochs=100)"
   ],
   "metadata": {
    "collapsed": false,
    "ExecuteTime": {
     "end_time": "2023-11-28T18:12:40.481236Z",
     "start_time": "2023-11-28T18:10:49.096195900Z"
    }
   },
   "id": "e36d2965dc933870"
  },
  {
   "cell_type": "markdown",
   "source": [
    "## Predictions"
   ],
   "metadata": {
    "collapsed": false
   },
   "id": "a27998b45f4137b6"
  },
  {
   "cell_type": "code",
   "execution_count": 72,
   "outputs": [
    {
     "name": "stdout",
     "output_type": "stream",
     "text": [
      "136/136 [==============================] - 0s 574us/step\n"
     ]
    }
   ],
   "source": [
    "# Predictions\n",
    "y_pred = nn_classifier.predict(x_test)\n",
    "\n",
    "# Threshold\n",
    "threshold = 0.7\n",
    "y_pred_binary = (y_pred > threshold).astype(int)"
   ],
   "metadata": {
    "collapsed": false,
    "ExecuteTime": {
     "end_time": "2023-11-28T18:30:09.204852500Z",
     "start_time": "2023-11-28T18:30:09.054256500Z"
    }
   },
   "id": "f366b73e16186548"
  },
  {
   "cell_type": "markdown",
   "source": [
    "## Classification report and confusion matrix plotting"
   ],
   "metadata": {
    "collapsed": false
   },
   "id": "449cea54cc561d8e"
  },
  {
   "cell_type": "code",
   "execution_count": 74,
   "outputs": [
    {
     "name": "stdout",
     "output_type": "stream",
     "text": [
      "              precision    recall  f1-score   support\n",
      "\n",
      "           0       0.85      0.97      0.91      3589\n",
      "           1       0.62      0.21      0.32       759\n",
      "\n",
      "    accuracy                           0.84      4348\n",
      "   macro avg       0.74      0.59      0.61      4348\n",
      "weighted avg       0.81      0.84      0.81      4348\n"
     ]
    }
   ],
   "source": [
    "print(classification_report(y_test.astype('int'), y_pred_binary.astype('int')))"
   ],
   "metadata": {
    "collapsed": false,
    "ExecuteTime": {
     "end_time": "2023-11-28T18:30:21.498112500Z",
     "start_time": "2023-11-28T18:30:21.485603100Z"
    }
   },
   "id": "570c55898a671e33"
  },
  {
   "cell_type": "code",
   "execution_count": 73,
   "outputs": [
    {
     "data": {
      "text/plain": "<Figure size 640x480 with 2 Axes>",
      "image/png": "[encoded data removed]"
     },
     "metadata": {},
     "output_type": "display_data"
    }
   ],
   "source": [
    "conf_matrix = confusion_matrix(y_test.astype('int'), y_pred_binary.astype('int'))\n",
    "sn.heatmap(conf_matrix, annot=True,fmt='d', square=True, xticklabels=['not churn', 'churn'], yticklabels=['not churn', 'churn'], linewidths=2, linecolor='w', cmap='Set1')\n",
    "plt.subplots_adjust(wspace=.3, hspace=.3)"
   ],
   "metadata": {
    "collapsed": false,
    "ExecuteTime": {
     "end_time": "2023-11-28T18:30:11.172806600Z",
     "start_time": "2023-11-28T18:30:11.049326600Z"
    }
   },
   "id": "9ab6668ecaa404cd"
  },
  {
   "cell_type": "markdown",
   "source": [
    "## Visualize Loss and Accuracy"
   ],
   "metadata": {
    "collapsed": false
   },
   "id": "5acdcb1d17263eb1"
  },
  {
   "cell_type": "code",
   "execution_count": 54,
   "outputs": [
    {
     "name": "stdout",
     "output_type": "stream",
     "text": [
      "dict_keys(['loss', 'accuracy', 'val_loss', 'val_accuracy'])\n"
     ]
    }
   ],
   "source": [
    "print(model.history.keys())"
   ],
   "metadata": {
    "collapsed": false,
    "ExecuteTime": {
     "end_time": "2023-11-28T18:21:20.067341100Z",
     "start_time": "2023-11-28T18:21:20.062405700Z"
    }
   },
   "id": "f480f5e8ca8e5659"
  },
  {
   "cell_type": "code",
   "execution_count": 55,
   "outputs": [
    {
     "data": {
      "text/plain": "<Figure size 640x480 with 1 Axes>",
      "image/png": "[encoded data removed]"
     },
     "metadata": {},
     "output_type": "display_data"
    }
   ],
   "source": [
    "#Accuracy vs Value Accuracy\n",
    "model.history.keys()\n",
    "\n",
    "# summarize history for accuracy\n",
    "plt.plot(model.history['accuracy'])\n",
    "plt.plot(model.history['val_accuracy'])\n",
    "plt.title('model accuracy')\n",
    "plt.ylabel('Accuracy')\n",
    "plt.xlabel('Epoch')\n",
    "plt.legend(['train', 'test'], loc='upper left')\n",
    "plt.show()"
   ],
   "metadata": {
    "collapsed": false,
    "ExecuteTime": {
     "end_time": "2023-11-28T18:21:32.202178400Z",
     "start_time": "2023-11-28T18:21:32.058103900Z"
    }
   },
   "id": "cb478f47e82af096"
  },
  {
   "cell_type": "code",
   "execution_count": 56,
   "outputs": [
    {
     "data": {
      "text/plain": "<Figure size 640x480 with 1 Axes>",
      "image/png": "[encoded data removed]"
     },
     "metadata": {},
     "output_type": "display_data"
    }
   ],
   "source": [
    "#loss vs value loss\n",
    "plt.plot(model.history['loss'])\n",
    "plt.plot(model.history['val_loss'])\n",
    "plt.title('model loss')\n",
    "plt.ylabel('Loss')\n",
    "plt.xlabel('Epoch')\n",
    "plt.legend(['train', 'test'], loc='upper left')\n",
    "plt.show()"
   ],
   "metadata": {
    "collapsed": false,
    "ExecuteTime": {
     "end_time": "2023-11-28T18:22:57.269536500Z",
     "start_time": "2023-11-28T18:22:57.126024200Z"
    }
   },
   "id": "3a670c53c9f70d9b"
  },
  {
   "cell_type": "markdown",
   "source": [
    "## Prediction and Model Score/Accuracy"
   ],
   "metadata": {
    "collapsed": false
   },
   "id": "24c1b1091d75d338"
  },
  {
   "cell_type": "code",
   "execution_count": 57,
   "outputs": [
    {
     "name": "stdout",
     "output_type": "stream",
     "text": [
      "0.8254369825206992\n"
     ]
    }
   ],
   "source": [
    "#Model score calculation\n",
    "score = accuracy_score(y_pred.astype('int'),y_test.astype('int'))\n",
    "print(score)"
   ],
   "metadata": {
    "collapsed": false,
    "ExecuteTime": {
     "end_time": "2023-11-28T18:24:03.302844200Z",
     "start_time": "2023-11-28T18:24:03.295079700Z"
    }
   },
   "id": "942c827a66cede4c"
  }
 ],
 "metadata": {
  "kernelspec": {
   "display_name": "Python 3",
   "language": "python",
   "name": "python3"
  },
  "language_info": {
   "codemirror_mode": {
    "name": "ipython",
    "version": 2
   },
   "file_extension": ".py",
   "mimetype": "text/x-python",
   "name": "python",
   "nbconvert_exporter": "python",
   "pygments_lexer": "ipython2",
   "version": "2.7.6"
  }
 },
 "nbformat": 4,
 "nbformat_minor": 5
}
