{
 "cells": [
  {
   "cell_type": "markdown",
   "source": [
    "# Import libraries"
   ],
   "metadata": {
    "collapsed": false
   },
   "id": "46be9040df759cb3"
  },
  {
   "cell_type": "code",
   "execution_count": 1,
   "id": "initial_id",
   "metadata": {
    "collapsed": true,
    "ExecuteTime": {
     "end_time": "2023-11-28T17:54:09.655577400Z",
     "start_time": "2023-11-28T17:54:09.654066700Z"
    }
   },
   "outputs": [],
   "source": [
    "import pandas as pd"
   ]
  },
  {
   "cell_type": "markdown",
   "source": [
    "# Load data"
   ],
   "metadata": {
    "collapsed": false
   },
   "id": "410e0254f1ca62a1"
  },
  {
   "cell_type": "code",
   "execution_count": 2,
   "outputs": [],
   "source": [
    "path = r'./in/Case_Mailing_2022.csv'\n",
    "df = pd.read_csv(path, sep=';', decimal=',')"
   ],
   "metadata": {
    "collapsed": false,
    "ExecuteTime": {
     "end_time": "2023-11-28T17:54:10.043618900Z",
     "start_time": "2023-11-28T17:54:09.655577400Z"
    }
   },
   "id": "6bfaa80b25e3e693"
  },
  {
   "cell_type": "markdown",
   "source": [
    "# Column description"
   ],
   "metadata": {
    "collapsed": false
   },
   "id": "bcd149761ff215b5"
  },
  {
   "cell_type": "markdown",
   "source": [
    "*   ZIP_CODE -> *Postleitzahl*\n",
    "*   DAYS_SINCE_PURCHASE -> *Tage seit Kaufdatum*\n",
    "*   PURCHASE_VISITS -> *Anzahl der Kaufbesuche*\n",
    "*   TOTAL_NET_SALES -> *Gesamtnettoumsatz*\n",
    "*   CC_CARD -> *Kreditkartenbenutzung*\n",
    "*   AVE_AMOUNT_SPENT -> *Durchschnittlicher Betrag, der pro Besuch ausgegeben wird*\n",
    "*   AMSPEND -> *im Franchise AM ausgegebener Betrag*\n",
    "*   PSSPEND -> *im Franchise PS ausgegebener Betrag*\n",
    "*   CCSPEND -> *im Franchise CC ausgegebener Betrag*\n",
    "*   AXSPEND -> *im Franchise AX ausgegebener Betrag*\n",
    "*   OMONSPEND -> *im letzten Monat ausgegebener Betrag*\n",
    "*   TMONSPEND -> *in den letzten drei Monaten ausgegebener Betrag*\n",
    "*   SMONSPEND -> *in den letzten sechs Monaten ausgegebener Betrag*\n",
    "*   PREVPD -> *im gleichen Zeitraum des letzten Jahres ausgegebener Betrag*\n",
    "*   GMP -> *Prozentsatz der Bruttomarge*\n",
    "*   PROMOS -> *Anzahl der gespeicherten Marketingaktionen*\n",
    "*   DAYS -> *Anzahl der Tage, in denen der Kunde registriert war*\n",
    "*   FREDAYS -> *Anzahl der Tage zwischen den Käufen*\n",
    "*   MARKDOWN -> *Abschlagsprozentsatz auf Kundenkäufe*\n",
    "*   CLASSES -> *Anzahl der gekauften unterschiedlichen Produktklassen*\n",
    "*   COUPONS -> *Anzahl der vom Kunden verwendeten Coupons*\n",
    "*   STYLES -> *Gesamtzahl der vom Kunden gekauften Einzalartikel*\n",
    "*   STORES -> *Anzahl der Geschäfte, in denen der Kunde eingekauft hat*\n",
    "*   VALPHON -> *gültige Telefonnummer hinterlegt*\n",
    "*   WEB -> *WEB-Shopper*\n",
    "*   MAILED -> *Anzahl der im vergangenen Jahr verschickten Werbeaktionen*\n",
    "*   RESPONDED -> *Anzahl der Werbeaktion, auf die im vergangenen Jahr reagiert wurde*\n",
    "*   RESPONSERATE -> *Aktionsrücklauf für das vergangene Jahr*\n",
    "*   HI -> *Produkteinheitlichkeit (niedriger Wert = unterschiedlicher Ausgabemuster)*\n",
    "*   LTFREDAY -> *Lebenslage durchschnittliche Zeit zwischen Besuchen*\n",
    "*   CLUSTYPE -> *Clusterzugehörigkeit*\n",
    "*   PERCRET -> *Prozentsatz an Rückläufern*\n",
    "*   RESP -> *Reaktion auf Promo*"
   ],
   "metadata": {
    "collapsed": false
   },
   "id": "f898a7406917bde8"
  },
  {
   "cell_type": "markdown",
   "source": [
    "# EDA"
   ],
   "metadata": {
    "collapsed": false
   },
   "id": "d4c7ba5f59c8d2b0"
  },
  {
   "cell_type": "code",
   "execution_count": 3,
   "outputs": [
    {
     "name": "stdout",
     "output_type": "stream",
     "text": [
      "Shape: \n",
      "(21740, 33)\n",
      "----------\n",
      "Info: \n",
      "<class 'pandas.core.frame.DataFrame'>\n",
      "RangeIndex: 21740 entries, 0 to 21739\n",
      "Data columns (total 33 columns):\n",
      " #   Column               Non-Null Count  Dtype  \n",
      "---  ------               --------------  -----  \n",
      " 0   ZIP_CODE             21740 non-null  object \n",
      " 1   DAYS_SINCE_PURCHASE  21740 non-null  int64  \n",
      " 2   PURCHASE_VISITS      21740 non-null  int64  \n",
      " 3   TOTAL_NET_SALES      21740 non-null  float64\n",
      " 4   CC_CARD              21740 non-null  int64  \n",
      " 5   AVE_AMOUNT_SPENT     21740 non-null  float64\n",
      " 6   AMSPEND              21740 non-null  float64\n",
      " 7   PSSPEND              21740 non-null  float64\n",
      " 8   CCSPEND              21740 non-null  float64\n",
      " 9   AXSPEND              21740 non-null  float64\n",
      " 10  TMONSPEND            21740 non-null  float64\n",
      " 11  OMONSPEND            21740 non-null  float64\n",
      " 12  SMONSPEND            21740 non-null  float64\n",
      " 13  PREVPD               21740 non-null  float64\n",
      " 14  GMP                  21740 non-null  float64\n",
      " 15  PROMOS               21740 non-null  int64  \n",
      " 16  DAYS                 21740 non-null  int64  \n",
      " 17  FREDAYS              21740 non-null  float64\n",
      " 18  MARKDOWN             21740 non-null  float64\n",
      " 19  CLASSES              21740 non-null  int64  \n",
      " 20  COUPONS              21740 non-null  int64  \n",
      " 21  STYLES               21740 non-null  int64  \n",
      " 22  STORES               21740 non-null  int64  \n",
      " 23  VALPHON              21740 non-null  int64  \n",
      " 24  WEB                  21740 non-null  int64  \n",
      " 25  MAILED               21740 non-null  int64  \n",
      " 26  RESPONDED            21740 non-null  int64  \n",
      " 27  RESPONSERATE         21740 non-null  float64\n",
      " 28  HI                   21740 non-null  float64\n",
      " 29  LTFREDAY             21740 non-null  float64\n",
      " 30  CLUSTYPE             21740 non-null  object \n",
      " 31  PERCRET              21740 non-null  float64\n",
      " 32  RESP                 21740 non-null  int64  \n",
      "dtypes: float64(17), int64(14), object(2)\n",
      "memory usage: 5.5+ MB\n",
      "None\n",
      "----------\n"
     ]
    }
   ],
   "source": [
    "print('Shape: ')\n",
    "print(df.shape)\n",
    "print('----------')\n",
    "print('Info: ')\n",
    "print(df.info())\n",
    "print('----------')"
   ],
   "metadata": {
    "collapsed": false,
    "ExecuteTime": {
     "end_time": "2023-11-28T17:54:10.053899300Z",
     "start_time": "2023-11-28T17:54:10.044619300Z"
    }
   },
   "id": "de44a37b3a91e9a6"
  },
  {
   "cell_type": "code",
   "execution_count": 4,
   "outputs": [
    {
     "name": "stdout",
     "output_type": "stream",
     "text": [
      "Head: \n"
     ]
    },
    {
     "data": {
      "text/plain": "   ZIP_CODE  DAYS_SINCE_PURCHASE  PURCHASE_VISITS  TOTAL_NET_SALES  CC_CARD  \\\n0  ZIP_1001                  208                2           368.46        0   \n1  ZIP_1028                    6                4           258.00        1   \n2  ZIP_1056                  327                2            77.00        0   \n3  ZIP_1118                   66                8           846.06        1   \n4  ZIP_1107                   49                1            87.44        0   \n\n   AVE_AMOUNT_SPENT  AMSPEND  PSSPEND  CCSPEND  AXSPEND  ...  VALPHON  WEB  \\\n0            184.23      0.0      0.0   368.46      0.0  ...        0    0   \n1             64.50      0.0      0.0   258.00      0.0  ...        1    0   \n2             38.50      0.0      0.0    77.00      0.0  ...        0    0   \n3            105.75      0.0      0.0   846.06      0.0  ...        1    0   \n4             87.44      0.0      0.0    87.44      0.0  ...        1    0   \n\n   MAILED  RESPONDED  RESPONSERATE      HI  LTFREDAY    CLUSTYPE  \\\n0       5          0        0.0000  0.3181    111.00  Cluster_10   \n1       4          2        0.5000  0.3272     43.50  Cluster_10   \n2       4          0        0.0000  1.0000     68.60  Cluster_16   \n3       9          6        0.6667  0.2327     26.96  Cluster_10   \n4       0          0        0.0000  0.2852     24.50  Cluster_20   \n\n        PERCRET  RESP  \n0  0.000000e+00     0  \n1  3.000000e-08     1  \n2  0.000000e+00     0  \n3  0.000000e+00     0  \n4  0.000000e+00     0  \n\n[5 rows x 33 columns]",
      "text/html": "<div>\n<style scoped>\n    .dataframe tbody tr th:only-of-type {\n        vertical-align: middle;\n    }\n\n    .dataframe tbody tr th {\n        vertical-align: top;\n    }\n\n    .dataframe thead th {\n        text-align: right;\n    }\n</style>\n<table border=\"1\" class=\"dataframe\">\n  <thead>\n    <tr style=\"text-align: right;\">\n      <th></th>\n      <th>ZIP_CODE</th>\n      <th>DAYS_SINCE_PURCHASE</th>\n      <th>PURCHASE_VISITS</th>\n      <th>TOTAL_NET_SALES</th>\n      <th>CC_CARD</th>\n      <th>AVE_AMOUNT_SPENT</th>\n      <th>AMSPEND</th>\n      <th>PSSPEND</th>\n      <th>CCSPEND</th>\n      <th>AXSPEND</th>\n      <th>...</th>\n      <th>VALPHON</th>\n      <th>WEB</th>\n      <th>MAILED</th>\n      <th>RESPONDED</th>\n      <th>RESPONSERATE</th>\n      <th>HI</th>\n      <th>LTFREDAY</th>\n      <th>CLUSTYPE</th>\n      <th>PERCRET</th>\n      <th>RESP</th>\n    </tr>\n  </thead>\n  <tbody>\n    <tr>\n      <th>0</th>\n      <td>ZIP_1001</td>\n      <td>208</td>\n      <td>2</td>\n      <td>368.46</td>\n      <td>0</td>\n      <td>184.23</td>\n      <td>0.0</td>\n      <td>0.0</td>\n      <td>368.46</td>\n      <td>0.0</td>\n      <td>...</td>\n      <td>0</td>\n      <td>0</td>\n      <td>5</td>\n      <td>0</td>\n      <td>0.0000</td>\n      <td>0.3181</td>\n      <td>111.00</td>\n      <td>Cluster_10</td>\n      <td>0.000000e+00</td>\n      <td>0</td>\n    </tr>\n    <tr>\n      <th>1</th>\n      <td>ZIP_1028</td>\n      <td>6</td>\n      <td>4</td>\n      <td>258.00</td>\n      <td>1</td>\n      <td>64.50</td>\n      <td>0.0</td>\n      <td>0.0</td>\n      <td>258.00</td>\n      <td>0.0</td>\n      <td>...</td>\n      <td>1</td>\n      <td>0</td>\n      <td>4</td>\n      <td>2</td>\n      <td>0.5000</td>\n      <td>0.3272</td>\n      <td>43.50</td>\n      <td>Cluster_10</td>\n      <td>3.000000e-08</td>\n      <td>1</td>\n    </tr>\n    <tr>\n      <th>2</th>\n      <td>ZIP_1056</td>\n      <td>327</td>\n      <td>2</td>\n      <td>77.00</td>\n      <td>0</td>\n      <td>38.50</td>\n      <td>0.0</td>\n      <td>0.0</td>\n      <td>77.00</td>\n      <td>0.0</td>\n      <td>...</td>\n      <td>0</td>\n      <td>0</td>\n      <td>4</td>\n      <td>0</td>\n      <td>0.0000</td>\n      <td>1.0000</td>\n      <td>68.60</td>\n      <td>Cluster_16</td>\n      <td>0.000000e+00</td>\n      <td>0</td>\n    </tr>\n    <tr>\n      <th>3</th>\n      <td>ZIP_1118</td>\n      <td>66</td>\n      <td>8</td>\n      <td>846.06</td>\n      <td>1</td>\n      <td>105.75</td>\n      <td>0.0</td>\n      <td>0.0</td>\n      <td>846.06</td>\n      <td>0.0</td>\n      <td>...</td>\n      <td>1</td>\n      <td>0</td>\n      <td>9</td>\n      <td>6</td>\n      <td>0.6667</td>\n      <td>0.2327</td>\n      <td>26.96</td>\n      <td>Cluster_10</td>\n      <td>0.000000e+00</td>\n      <td>0</td>\n    </tr>\n    <tr>\n      <th>4</th>\n      <td>ZIP_1107</td>\n      <td>49</td>\n      <td>1</td>\n      <td>87.44</td>\n      <td>0</td>\n      <td>87.44</td>\n      <td>0.0</td>\n      <td>0.0</td>\n      <td>87.44</td>\n      <td>0.0</td>\n      <td>...</td>\n      <td>1</td>\n      <td>0</td>\n      <td>0</td>\n      <td>0</td>\n      <td>0.0000</td>\n      <td>0.2852</td>\n      <td>24.50</td>\n      <td>Cluster_20</td>\n      <td>0.000000e+00</td>\n      <td>0</td>\n    </tr>\n  </tbody>\n</table>\n<p>5 rows × 33 columns</p>\n</div>"
     },
     "execution_count": 4,
     "metadata": {},
     "output_type": "execute_result"
    }
   ],
   "source": [
    "print('Head: ')\n",
    "df.head(5)"
   ],
   "metadata": {
    "collapsed": false,
    "ExecuteTime": {
     "end_time": "2023-11-28T17:54:10.086544600Z",
     "start_time": "2023-11-28T17:54:10.054898800Z"
    }
   },
   "id": "988d8e02cdfe07f3"
  },
  {
   "cell_type": "markdown",
   "source": [
    "# Data preparation"
   ],
   "metadata": {
    "collapsed": false
   },
   "id": "cd24fd3c5e82fcd3"
  },
  {
   "cell_type": "code",
   "execution_count": 5,
   "outputs": [],
   "source": [
    "# Create new 'prepared' df\n",
    "df_clean = df.copy()"
   ],
   "metadata": {
    "collapsed": false,
    "ExecuteTime": {
     "end_time": "2023-11-28T17:54:10.087544900Z",
     "start_time": "2023-11-28T17:54:10.071747700Z"
    }
   },
   "id": "69389916debfd049"
  },
  {
   "cell_type": "code",
   "execution_count": 6,
   "outputs": [
    {
     "name": "stdout",
     "output_type": "stream",
     "text": [
      "<class 'pandas.core.frame.DataFrame'>\n",
      "RangeIndex: 21740 entries, 0 to 21739\n",
      "Data columns (total 33 columns):\n",
      " #   Column               Non-Null Count  Dtype  \n",
      "---  ------               --------------  -----  \n",
      " 0   ZIP_CODE             21740 non-null  object \n",
      " 1   DAYS_SINCE_PURCHASE  21740 non-null  int64  \n",
      " 2   PURCHASE_VISITS      21740 non-null  int64  \n",
      " 3   TOTAL_NET_SALES      21740 non-null  float64\n",
      " 4   CC_CARD              21740 non-null  int64  \n",
      " 5   AVE_AMOUNT_SPENT     21740 non-null  float64\n",
      " 6   AMSPEND              21740 non-null  float64\n",
      " 7   PSSPEND              21740 non-null  float64\n",
      " 8   CCSPEND              21740 non-null  float64\n",
      " 9   AXSPEND              21740 non-null  float64\n",
      " 10  TMONSPEND            21740 non-null  float64\n",
      " 11  OMONSPEND            21740 non-null  float64\n",
      " 12  SMONSPEND            21740 non-null  float64\n",
      " 13  PREVPD               21740 non-null  float64\n",
      " 14  GMP                  21740 non-null  float64\n",
      " 15  PROMOS               21740 non-null  int64  \n",
      " 16  DAYS                 21740 non-null  int64  \n",
      " 17  FREDAYS              21740 non-null  float64\n",
      " 18  MARKDOWN             21740 non-null  float64\n",
      " 19  CLASSES              21740 non-null  int64  \n",
      " 20  COUPONS              21740 non-null  int64  \n",
      " 21  STYLES               21740 non-null  int64  \n",
      " 22  STORES               21740 non-null  int64  \n",
      " 23  VALPHON              21740 non-null  int64  \n",
      " 24  WEB                  21740 non-null  int64  \n",
      " 25  MAILED               21740 non-null  int64  \n",
      " 26  RESPONDED            21740 non-null  int64  \n",
      " 27  RESPONSERATE         21740 non-null  float64\n",
      " 28  HI                   21740 non-null  float64\n",
      " 29  LTFREDAY             21740 non-null  float64\n",
      " 30  CLUSTYPE             21740 non-null  object \n",
      " 31  PERCRET              21740 non-null  float64\n",
      " 32  RESP                 21740 non-null  int64  \n",
      "dtypes: float64(17), int64(14), object(2)\n",
      "memory usage: 5.5+ MB\n"
     ]
    }
   ],
   "source": [
    "df_clean.info()"
   ],
   "metadata": {
    "collapsed": false,
    "ExecuteTime": {
     "end_time": "2023-11-28T17:54:10.087544900Z",
     "start_time": "2023-11-28T17:54:10.075587300Z"
    }
   },
   "id": "ccf0cf5dd77d9529"
  },
  {
   "cell_type": "code",
   "execution_count": 7,
   "outputs": [],
   "source": [
    "# Remove prefix from ZIP_CODE column\n",
    "df_clean[\"ZIP_CODE\"] = df_clean[\"ZIP_CODE\"].apply(lambda x:x.split(\"_\")[1])"
   ],
   "metadata": {
    "collapsed": false,
    "ExecuteTime": {
     "end_time": "2023-11-28T17:54:10.096900900Z",
     "start_time": "2023-11-28T17:54:10.086544600Z"
    }
   },
   "id": "abd7636b4ff9dc5f"
  },
  {
   "cell_type": "markdown",
   "source": [
    "# Export df_clean"
   ],
   "metadata": {
    "collapsed": false
   },
   "id": "f6121f059b2285db"
  },
  {
   "cell_type": "code",
   "execution_count": 8,
   "outputs": [],
   "source": [
    "path = r'./out/df_clean.csv'\n",
    "df_clean.to_csv(path, sep=';', decimal=',', index=False)"
   ],
   "metadata": {
    "collapsed": false,
    "ExecuteTime": {
     "end_time": "2023-11-28T17:54:10.524636900Z",
     "start_time": "2023-11-28T17:54:10.092900Z"
    }
   },
   "id": "aaf45de2dddec86d"
  }
 ],
 "metadata": {
  "kernelspec": {
   "display_name": "Python 3",
   "language": "python",
   "name": "python3"
  },
  "language_info": {
   "codemirror_mode": {
    "name": "ipython",
    "version": 2
   },
   "file_extension": ".py",
   "mimetype": "text/x-python",
   "name": "python",
   "nbconvert_exporter": "python",
   "pygments_lexer": "ipython2",
   "version": "2.7.6"
  }
 },
 "nbformat": 4,
 "nbformat_minor": 5
}
