{
 "cells": [
  {
   "cell_type": "markdown",
   "source": [
    "<h1> KNeighborsClassifier <h1>"
   ],
   "metadata": {
    "collapsed": false
   },
   "id": "b5d506e40910704a"
  },
  {
   "cell_type": "code",
   "execution_count": 422,
   "outputs": [],
   "source": [
    "import pandas as pd\n",
    "import numpy as np\n",
    "import matplotlib.pyplot as plt\n",
    "from sklearn.model_selection import train_test_split\n",
    "from sklearn.neighbors import KNeighborsClassifier\n",
    "from sklearn.model_selection import GridSearchCV\n",
    "from sklearn.feature_selection import SelectKBest, f_classif\n",
    "from sklearn import preprocessing\n",
    "from sklearn import metrics\n",
    "from sklearn.metrics import make_scorer\n",
    "from sklearn.pipeline import Pipeline\n",
    "from sklearn.metrics import accuracy_score, precision_score, recall_score, f1_score\n",
    "from sklearn.metrics import confusion_matrix, ConfusionMatrixDisplay\n",
    "from sklearn import set_config\n",
    "import warnings"
   ],
   "metadata": {
    "collapsed": false,
    "ExecuteTime": {
     "end_time": "2024-01-07T10:47:50.418613600Z",
     "start_time": "2024-01-07T10:47:49.421323200Z"
    }
   },
   "id": "bc0faac835412add"
  },
  {
   "cell_type": "code",
   "execution_count": 423,
   "outputs": [],
   "source": [
    "warnings.filterwarnings(\"ignore\", category=FutureWarning)\n",
    "set_config(display = \"diagram\")"
   ],
   "metadata": {
    "collapsed": false,
    "ExecuteTime": {
     "end_time": "2024-01-07T10:47:50.473244Z",
     "start_time": "2024-01-07T10:47:49.469003200Z"
    }
   },
   "id": "3a447bee322c4b97"
  },
  {
   "cell_type": "markdown",
   "source": [
    "<h1>Datensatz einlesen<h1>"
   ],
   "metadata": {
    "collapsed": false
   },
   "id": "a75944758c8ef3e3"
  },
  {
   "cell_type": "code",
   "execution_count": 424,
   "outputs": [],
   "source": [
    "path = r'./out/df_clean.csv'\n",
    "df = pd.read_csv(path, sep=';', decimal=',')"
   ],
   "metadata": {
    "collapsed": false,
    "ExecuteTime": {
     "end_time": "2024-01-07T10:47:51.068889700Z",
     "start_time": "2024-01-07T10:47:49.541513900Z"
    }
   },
   "id": "79a41fd9c6232a6"
  },
  {
   "cell_type": "code",
   "execution_count": 425,
   "outputs": [
    {
     "data": {
      "text/plain": "   ZIP_CODE  DAYS_SINCE_PURCHASE  PURCHASE_VISITS  TOTAL_NET_SALES  CC_CARD  \\\n0      1001                  208                2           368.46        0   \n1      1028                    6                4           258.00        1   \n2      1056                  327                2            77.00        0   \n3      1118                   66                8           846.06        1   \n4      1107                   49                1            87.44        0   \n\n   AVE_AMOUNT_SPENT  AMSPEND  PSSPEND  CCSPEND  AXSPEND  TMONSPEND  OMONSPEND  \\\n0            184.23      0.0      0.0   368.46      0.0       0.00       0.00   \n1             64.50      0.0      0.0   258.00      0.0     138.00      55.99   \n2             38.50      0.0      0.0    77.00      0.0       0.00       0.00   \n3            105.75      0.0      0.0   846.06      0.0     104.94       0.00   \n4             87.44      0.0      0.0    87.44      0.0      87.44       0.00   \n\n   SMONSPEND  PREVPD   GMP  PROMOS  DAYS  FREDAYS  MARKDOWN  CLASSES  COUPONS  \\\n0       0.00    0.00  0.60      17   666   333.00      0.08        9        1   \n1     258.00    0.00  0.54      14   696   174.00      0.33        6        0   \n2       0.00   39.00  0.62      10   343   171.50      0.11        1        0   \n3     373.87  166.25  0.43      24   701    87.62      0.29       15        3   \n4      87.44    0.00  0.22       0    49    49.00      0.42        4        0   \n\n   STYLES  STORES  VALPHON  WEB  MAILED  RESPONDED  RESPONSERATE      HI  \\\n0      11       1        0    0       5          0        0.0000  0.3181   \n1      14       1        1    0       4          2        0.5000  0.3272   \n2       2       1        0    0       4          0        0.0000  1.0000   \n3      35       1        1    0       9          6        0.6667  0.2327   \n4       8       1        1    0       0          0        0.0000  0.2852   \n\n   LTFREDAY       PERCRET  RESP  CLUSTYPE_Cluster_0  CLUSTYPE_Cluster_1  \\\n0    111.00  0.000000e+00     0                   0                   0   \n1     43.50  3.000000e-08     1                   0                   0   \n2     68.60  0.000000e+00     0                   0                   0   \n3     26.96  0.000000e+00     0                   0                   0   \n4     24.50  0.000000e+00     0                   0                   0   \n\n   CLUSTYPE_Cluster_10  CLUSTYPE_Cluster_11  CLUSTYPE_Cluster_12  \\\n0                    1                    0                    0   \n1                    1                    0                    0   \n2                    0                    0                    0   \n3                    1                    0                    0   \n4                    0                    0                    0   \n\n   CLUSTYPE_Cluster_13  CLUSTYPE_Cluster_14  CLUSTYPE_Cluster_15  \\\n0                    0                    0                    0   \n1                    0                    0                    0   \n2                    0                    0                    0   \n3                    0                    0                    0   \n4                    0                    0                    0   \n\n   CLUSTYPE_Cluster_16  CLUSTYPE_Cluster_17  CLUSTYPE_Cluster_18  \\\n0                    0                    0                    0   \n1                    0                    0                    0   \n2                    1                    0                    0   \n3                    0                    0                    0   \n4                    0                    0                    0   \n\n   CLUSTYPE_Cluster_19  CLUSTYPE_Cluster_2  CLUSTYPE_Cluster_20  \\\n0                    0                   0                    0   \n1                    0                   0                    0   \n2                    0                   0                    0   \n3                    0                   0                    0   \n4                    0                   0                    1   \n\n   CLUSTYPE_Cluster_21  CLUSTYPE_Cluster_22  CLUSTYPE_Cluster_23  \\\n0                    0                    0                    0   \n1                    0                    0                    0   \n2                    0                    0                    0   \n3                    0                    0                    0   \n4                    0                    0                    0   \n\n   CLUSTYPE_Cluster_24  CLUSTYPE_Cluster_25  CLUSTYPE_Cluster_26  \\\n0                    0                    0                    0   \n1                    0                    0                    0   \n2                    0                    0                    0   \n3                    0                    0                    0   \n4                    0                    0                    0   \n\n   CLUSTYPE_Cluster_27  CLUSTYPE_Cluster_28  CLUSTYPE_Cluster_29  \\\n0                    0                    0                    0   \n1                    0                    0                    0   \n2                    0                    0                    0   \n3                    0                    0                    0   \n4                    0                    0                    0   \n\n   CLUSTYPE_Cluster_3  CLUSTYPE_Cluster_30  CLUSTYPE_Cluster_31  \\\n0                   0                    0                    0   \n1                   0                    0                    0   \n2                   0                    0                    0   \n3                   0                    0                    0   \n4                   0                    0                    0   \n\n   CLUSTYPE_Cluster_32  CLUSTYPE_Cluster_33  CLUSTYPE_Cluster_34  \\\n0                    0                    0                    0   \n1                    0                    0                    0   \n2                    0                    0                    0   \n3                    0                    0                    0   \n4                    0                    0                    0   \n\n   CLUSTYPE_Cluster_35  CLUSTYPE_Cluster_36  CLUSTYPE_Cluster_37  \\\n0                    0                    0                    0   \n1                    0                    0                    0   \n2                    0                    0                    0   \n3                    0                    0                    0   \n4                    0                    0                    0   \n\n   CLUSTYPE_Cluster_38  CLUSTYPE_Cluster_39  CLUSTYPE_Cluster_4  \\\n0                    0                    0                   0   \n1                    0                    0                   0   \n2                    0                    0                   0   \n3                    0                    0                   0   \n4                    0                    0                   0   \n\n   CLUSTYPE_Cluster_40  CLUSTYPE_Cluster_41  CLUSTYPE_Cluster_42  \\\n0                    0                    0                    0   \n1                    0                    0                    0   \n2                    0                    0                    0   \n3                    0                    0                    0   \n4                    0                    0                    0   \n\n   CLUSTYPE_Cluster_43  CLUSTYPE_Cluster_44  CLUSTYPE_Cluster_45  \\\n0                    0                    0                    0   \n1                    0                    0                    0   \n2                    0                    0                    0   \n3                    0                    0                    0   \n4                    0                    0                    0   \n\n   CLUSTYPE_Cluster_46  CLUSTYPE_Cluster_47  CLUSTYPE_Cluster_48  \\\n0                    0                    0                    0   \n1                    0                    0                    0   \n2                    0                    0                    0   \n3                    0                    0                    0   \n4                    0                    0                    0   \n\n   CLUSTYPE_Cluster_49  CLUSTYPE_Cluster_5  CLUSTYPE_Cluster_50  \\\n0                    0                   0                    0   \n1                    0                   0                    0   \n2                    0                   0                    0   \n3                    0                   0                    0   \n4                    0                   0                    0   \n\n   CLUSTYPE_Cluster_6  CLUSTYPE_Cluster_7  CLUSTYPE_Cluster_8  \\\n0                   0                   0                   0   \n1                   0                   0                   0   \n2                   0                   0                   0   \n3                   0                   0                   0   \n4                   0                   0                   0   \n\n   CLUSTYPE_Cluster_9  \n0                   0  \n1                   0  \n2                   0  \n3                   0  \n4                   0  ",
      "text/html": "<div>\n<style scoped>\n    .dataframe tbody tr th:only-of-type {\n        vertical-align: middle;\n    }\n\n    .dataframe tbody tr th {\n        vertical-align: top;\n    }\n\n    .dataframe thead th {\n        text-align: right;\n    }\n</style>\n<table border=\"1\" class=\"dataframe\">\n  <thead>\n    <tr style=\"text-align: right;\">\n      <th></th>\n      <th>ZIP_CODE</th>\n      <th>DAYS_SINCE_PURCHASE</th>\n      <th>PURCHASE_VISITS</th>\n      <th>TOTAL_NET_SALES</th>\n      <th>CC_CARD</th>\n      <th>AVE_AMOUNT_SPENT</th>\n      <th>AMSPEND</th>\n      <th>PSSPEND</th>\n      <th>CCSPEND</th>\n      <th>AXSPEND</th>\n      <th>TMONSPEND</th>\n      <th>OMONSPEND</th>\n      <th>SMONSPEND</th>\n      <th>PREVPD</th>\n      <th>GMP</th>\n      <th>PROMOS</th>\n      <th>DAYS</th>\n      <th>FREDAYS</th>\n      <th>MARKDOWN</th>\n      <th>CLASSES</th>\n      <th>COUPONS</th>\n      <th>STYLES</th>\n      <th>STORES</th>\n      <th>VALPHON</th>\n      <th>WEB</th>\n      <th>MAILED</th>\n      <th>RESPONDED</th>\n      <th>RESPONSERATE</th>\n      <th>HI</th>\n      <th>LTFREDAY</th>\n      <th>PERCRET</th>\n      <th>RESP</th>\n      <th>CLUSTYPE_Cluster_0</th>\n      <th>CLUSTYPE_Cluster_1</th>\n      <th>CLUSTYPE_Cluster_10</th>\n      <th>CLUSTYPE_Cluster_11</th>\n      <th>CLUSTYPE_Cluster_12</th>\n      <th>CLUSTYPE_Cluster_13</th>\n      <th>CLUSTYPE_Cluster_14</th>\n      <th>CLUSTYPE_Cluster_15</th>\n      <th>CLUSTYPE_Cluster_16</th>\n      <th>CLUSTYPE_Cluster_17</th>\n      <th>CLUSTYPE_Cluster_18</th>\n      <th>CLUSTYPE_Cluster_19</th>\n      <th>CLUSTYPE_Cluster_2</th>\n      <th>CLUSTYPE_Cluster_20</th>\n      <th>CLUSTYPE_Cluster_21</th>\n      <th>CLUSTYPE_Cluster_22</th>\n      <th>CLUSTYPE_Cluster_23</th>\n      <th>CLUSTYPE_Cluster_24</th>\n      <th>CLUSTYPE_Cluster_25</th>\n      <th>CLUSTYPE_Cluster_26</th>\n      <th>CLUSTYPE_Cluster_27</th>\n      <th>CLUSTYPE_Cluster_28</th>\n      <th>CLUSTYPE_Cluster_29</th>\n      <th>CLUSTYPE_Cluster_3</th>\n      <th>CLUSTYPE_Cluster_30</th>\n      <th>CLUSTYPE_Cluster_31</th>\n      <th>CLUSTYPE_Cluster_32</th>\n      <th>CLUSTYPE_Cluster_33</th>\n      <th>CLUSTYPE_Cluster_34</th>\n      <th>CLUSTYPE_Cluster_35</th>\n      <th>CLUSTYPE_Cluster_36</th>\n      <th>CLUSTYPE_Cluster_37</th>\n      <th>CLUSTYPE_Cluster_38</th>\n      <th>CLUSTYPE_Cluster_39</th>\n      <th>CLUSTYPE_Cluster_4</th>\n      <th>CLUSTYPE_Cluster_40</th>\n      <th>CLUSTYPE_Cluster_41</th>\n      <th>CLUSTYPE_Cluster_42</th>\n      <th>CLUSTYPE_Cluster_43</th>\n      <th>CLUSTYPE_Cluster_44</th>\n      <th>CLUSTYPE_Cluster_45</th>\n      <th>CLUSTYPE_Cluster_46</th>\n      <th>CLUSTYPE_Cluster_47</th>\n      <th>CLUSTYPE_Cluster_48</th>\n      <th>CLUSTYPE_Cluster_49</th>\n      <th>CLUSTYPE_Cluster_5</th>\n      <th>CLUSTYPE_Cluster_50</th>\n      <th>CLUSTYPE_Cluster_6</th>\n      <th>CLUSTYPE_Cluster_7</th>\n      <th>CLUSTYPE_Cluster_8</th>\n      <th>CLUSTYPE_Cluster_9</th>\n    </tr>\n  </thead>\n  <tbody>\n    <tr>\n      <th>0</th>\n      <td>1001</td>\n      <td>208</td>\n      <td>2</td>\n      <td>368.46</td>\n      <td>0</td>\n      <td>184.23</td>\n      <td>0.0</td>\n      <td>0.0</td>\n      <td>368.46</td>\n      <td>0.0</td>\n      <td>0.00</td>\n      <td>0.00</td>\n      <td>0.00</td>\n      <td>0.00</td>\n      <td>0.60</td>\n      <td>17</td>\n      <td>666</td>\n      <td>333.00</td>\n      <td>0.08</td>\n      <td>9</td>\n      <td>1</td>\n      <td>11</td>\n      <td>1</td>\n      <td>0</td>\n      <td>0</td>\n      <td>5</td>\n      <td>0</td>\n      <td>0.0000</td>\n      <td>0.3181</td>\n      <td>111.00</td>\n      <td>0.000000e+00</td>\n      <td>0</td>\n      <td>0</td>\n      <td>0</td>\n      <td>1</td>\n      <td>0</td>\n      <td>0</td>\n      <td>0</td>\n      <td>0</td>\n      <td>0</td>\n      <td>0</td>\n      <td>0</td>\n      <td>0</td>\n      <td>0</td>\n      <td>0</td>\n      <td>0</td>\n      <td>0</td>\n      <td>0</td>\n      <td>0</td>\n      <td>0</td>\n      <td>0</td>\n      <td>0</td>\n      <td>0</td>\n      <td>0</td>\n      <td>0</td>\n      <td>0</td>\n      <td>0</td>\n      <td>0</td>\n      <td>0</td>\n      <td>0</td>\n      <td>0</td>\n      <td>0</td>\n      <td>0</td>\n      <td>0</td>\n      <td>0</td>\n      <td>0</td>\n      <td>0</td>\n      <td>0</td>\n      <td>0</td>\n      <td>0</td>\n      <td>0</td>\n      <td>0</td>\n      <td>0</td>\n      <td>0</td>\n      <td>0</td>\n      <td>0</td>\n      <td>0</td>\n      <td>0</td>\n      <td>0</td>\n      <td>0</td>\n      <td>0</td>\n      <td>0</td>\n      <td>0</td>\n    </tr>\n    <tr>\n      <th>1</th>\n      <td>1028</td>\n      <td>6</td>\n      <td>4</td>\n      <td>258.00</td>\n      <td>1</td>\n      <td>64.50</td>\n      <td>0.0</td>\n      <td>0.0</td>\n      <td>258.00</td>\n      <td>0.0</td>\n      <td>138.00</td>\n      <td>55.99</td>\n      <td>258.00</td>\n      <td>0.00</td>\n      <td>0.54</td>\n      <td>14</td>\n      <td>696</td>\n      <td>174.00</td>\n      <td>0.33</td>\n      <td>6</td>\n      <td>0</td>\n      <td>14</td>\n      <td>1</td>\n      <td>1</td>\n      <td>0</td>\n      <td>4</td>\n      <td>2</td>\n      <td>0.5000</td>\n      <td>0.3272</td>\n      <td>43.50</td>\n      <td>3.000000e-08</td>\n      <td>1</td>\n      <td>0</td>\n      <td>0</td>\n      <td>1</td>\n      <td>0</td>\n      <td>0</td>\n      <td>0</td>\n      <td>0</td>\n      <td>0</td>\n      <td>0</td>\n      <td>0</td>\n      <td>0</td>\n      <td>0</td>\n      <td>0</td>\n      <td>0</td>\n      <td>0</td>\n      <td>0</td>\n      <td>0</td>\n      <td>0</td>\n      <td>0</td>\n      <td>0</td>\n      <td>0</td>\n      <td>0</td>\n      <td>0</td>\n      <td>0</td>\n      <td>0</td>\n      <td>0</td>\n      <td>0</td>\n      <td>0</td>\n      <td>0</td>\n      <td>0</td>\n      <td>0</td>\n      <td>0</td>\n      <td>0</td>\n      <td>0</td>\n      <td>0</td>\n      <td>0</td>\n      <td>0</td>\n      <td>0</td>\n      <td>0</td>\n      <td>0</td>\n      <td>0</td>\n      <td>0</td>\n      <td>0</td>\n      <td>0</td>\n      <td>0</td>\n      <td>0</td>\n      <td>0</td>\n      <td>0</td>\n      <td>0</td>\n      <td>0</td>\n      <td>0</td>\n    </tr>\n    <tr>\n      <th>2</th>\n      <td>1056</td>\n      <td>327</td>\n      <td>2</td>\n      <td>77.00</td>\n      <td>0</td>\n      <td>38.50</td>\n      <td>0.0</td>\n      <td>0.0</td>\n      <td>77.00</td>\n      <td>0.0</td>\n      <td>0.00</td>\n      <td>0.00</td>\n      <td>0.00</td>\n      <td>39.00</td>\n      <td>0.62</td>\n      <td>10</td>\n      <td>343</td>\n      <td>171.50</td>\n      <td>0.11</td>\n      <td>1</td>\n      <td>0</td>\n      <td>2</td>\n      <td>1</td>\n      <td>0</td>\n      <td>0</td>\n      <td>4</td>\n      <td>0</td>\n      <td>0.0000</td>\n      <td>1.0000</td>\n      <td>68.60</td>\n      <td>0.000000e+00</td>\n      <td>0</td>\n      <td>0</td>\n      <td>0</td>\n      <td>0</td>\n      <td>0</td>\n      <td>0</td>\n      <td>0</td>\n      <td>0</td>\n      <td>0</td>\n      <td>1</td>\n      <td>0</td>\n      <td>0</td>\n      <td>0</td>\n      <td>0</td>\n      <td>0</td>\n      <td>0</td>\n      <td>0</td>\n      <td>0</td>\n      <td>0</td>\n      <td>0</td>\n      <td>0</td>\n      <td>0</td>\n      <td>0</td>\n      <td>0</td>\n      <td>0</td>\n      <td>0</td>\n      <td>0</td>\n      <td>0</td>\n      <td>0</td>\n      <td>0</td>\n      <td>0</td>\n      <td>0</td>\n      <td>0</td>\n      <td>0</td>\n      <td>0</td>\n      <td>0</td>\n      <td>0</td>\n      <td>0</td>\n      <td>0</td>\n      <td>0</td>\n      <td>0</td>\n      <td>0</td>\n      <td>0</td>\n      <td>0</td>\n      <td>0</td>\n      <td>0</td>\n      <td>0</td>\n      <td>0</td>\n      <td>0</td>\n      <td>0</td>\n      <td>0</td>\n      <td>0</td>\n    </tr>\n    <tr>\n      <th>3</th>\n      <td>1118</td>\n      <td>66</td>\n      <td>8</td>\n      <td>846.06</td>\n      <td>1</td>\n      <td>105.75</td>\n      <td>0.0</td>\n      <td>0.0</td>\n      <td>846.06</td>\n      <td>0.0</td>\n      <td>104.94</td>\n      <td>0.00</td>\n      <td>373.87</td>\n      <td>166.25</td>\n      <td>0.43</td>\n      <td>24</td>\n      <td>701</td>\n      <td>87.62</td>\n      <td>0.29</td>\n      <td>15</td>\n      <td>3</td>\n      <td>35</td>\n      <td>1</td>\n      <td>1</td>\n      <td>0</td>\n      <td>9</td>\n      <td>6</td>\n      <td>0.6667</td>\n      <td>0.2327</td>\n      <td>26.96</td>\n      <td>0.000000e+00</td>\n      <td>0</td>\n      <td>0</td>\n      <td>0</td>\n      <td>1</td>\n      <td>0</td>\n      <td>0</td>\n      <td>0</td>\n      <td>0</td>\n      <td>0</td>\n      <td>0</td>\n      <td>0</td>\n      <td>0</td>\n      <td>0</td>\n      <td>0</td>\n      <td>0</td>\n      <td>0</td>\n      <td>0</td>\n      <td>0</td>\n      <td>0</td>\n      <td>0</td>\n      <td>0</td>\n      <td>0</td>\n      <td>0</td>\n      <td>0</td>\n      <td>0</td>\n      <td>0</td>\n      <td>0</td>\n      <td>0</td>\n      <td>0</td>\n      <td>0</td>\n      <td>0</td>\n      <td>0</td>\n      <td>0</td>\n      <td>0</td>\n      <td>0</td>\n      <td>0</td>\n      <td>0</td>\n      <td>0</td>\n      <td>0</td>\n      <td>0</td>\n      <td>0</td>\n      <td>0</td>\n      <td>0</td>\n      <td>0</td>\n      <td>0</td>\n      <td>0</td>\n      <td>0</td>\n      <td>0</td>\n      <td>0</td>\n      <td>0</td>\n      <td>0</td>\n      <td>0</td>\n    </tr>\n    <tr>\n      <th>4</th>\n      <td>1107</td>\n      <td>49</td>\n      <td>1</td>\n      <td>87.44</td>\n      <td>0</td>\n      <td>87.44</td>\n      <td>0.0</td>\n      <td>0.0</td>\n      <td>87.44</td>\n      <td>0.0</td>\n      <td>87.44</td>\n      <td>0.00</td>\n      <td>87.44</td>\n      <td>0.00</td>\n      <td>0.22</td>\n      <td>0</td>\n      <td>49</td>\n      <td>49.00</td>\n      <td>0.42</td>\n      <td>4</td>\n      <td>0</td>\n      <td>8</td>\n      <td>1</td>\n      <td>1</td>\n      <td>0</td>\n      <td>0</td>\n      <td>0</td>\n      <td>0.0000</td>\n      <td>0.2852</td>\n      <td>24.50</td>\n      <td>0.000000e+00</td>\n      <td>0</td>\n      <td>0</td>\n      <td>0</td>\n      <td>0</td>\n      <td>0</td>\n      <td>0</td>\n      <td>0</td>\n      <td>0</td>\n      <td>0</td>\n      <td>0</td>\n      <td>0</td>\n      <td>0</td>\n      <td>0</td>\n      <td>0</td>\n      <td>1</td>\n      <td>0</td>\n      <td>0</td>\n      <td>0</td>\n      <td>0</td>\n      <td>0</td>\n      <td>0</td>\n      <td>0</td>\n      <td>0</td>\n      <td>0</td>\n      <td>0</td>\n      <td>0</td>\n      <td>0</td>\n      <td>0</td>\n      <td>0</td>\n      <td>0</td>\n      <td>0</td>\n      <td>0</td>\n      <td>0</td>\n      <td>0</td>\n      <td>0</td>\n      <td>0</td>\n      <td>0</td>\n      <td>0</td>\n      <td>0</td>\n      <td>0</td>\n      <td>0</td>\n      <td>0</td>\n      <td>0</td>\n      <td>0</td>\n      <td>0</td>\n      <td>0</td>\n      <td>0</td>\n      <td>0</td>\n      <td>0</td>\n      <td>0</td>\n      <td>0</td>\n      <td>0</td>\n    </tr>\n  </tbody>\n</table>\n</div>"
     },
     "execution_count": 425,
     "metadata": {},
     "output_type": "execute_result"
    }
   ],
   "source": [
    "df.head()"
   ],
   "metadata": {
    "collapsed": false,
    "ExecuteTime": {
     "end_time": "2024-01-07T10:47:52.823085200Z",
     "start_time": "2024-01-07T10:47:51.049025100Z"
    }
   },
   "id": "17217e83689c4207"
  },
  {
   "cell_type": "markdown",
   "source": [
    "<h2>Funktionen<h2>"
   ],
   "metadata": {
    "collapsed": false
   },
   "id": "bf81173e31424074"
  },
  {
   "cell_type": "markdown",
   "source": [
    "<h3>Funktion für den Train Test Validation Split<h3>"
   ],
   "metadata": {
    "collapsed": false
   },
   "id": "e2b3d1d37fcc594d"
  },
  {
   "cell_type": "code",
   "execution_count": 426,
   "outputs": [],
   "source": [
    "#nimmt Dataframe entgegen und gibt Trainings-, Test- und Validationdataframes im Verhältnins (80%,20%,5%) zurück\n",
    "def split_train_test(df):\n",
    "    random_state = 4711\n",
    "    features = [x for x in df.columns if x!= \"RESP\"]\n",
    "    X = df[features]\n",
    "    y = df[\"RESP\"]\n",
    "    X_train, X_test_2, y_train, y_test_2 = train_test_split(X, y, test_size = 0.05, random_state=random_state)\n",
    "    X_train, X_test_1, y_train, y_test_1 = train_test_split(X_train, y_train, test_size = 0.2, random_state=random_state)\n",
    "    return X_train, X_test_2, y_train, y_test_2, X_test_1, y_test_1"
   ],
   "metadata": {
    "collapsed": false,
    "ExecuteTime": {
     "end_time": "2024-01-07T10:47:52.908509400Z",
     "start_time": "2024-01-07T10:47:51.425491300Z"
    }
   },
   "id": "73d7ac0ef3eb1f4a"
  },
  {
   "cell_type": "markdown",
   "source": [
    "<h3>Funktion für die Errechnung des Gewinns/Verlustes auf Grundlage der Gewinn-/Verlustmatrix<h3>"
   ],
   "metadata": {
    "collapsed": false
   },
   "id": "ffb80fd4cd627cfc"
  },
  {
   "cell_type": "code",
   "execution_count": 427,
   "outputs": [],
   "source": [
    "#nimmt die tatsächlichen und die vorhergesagten Werte als Series entgegen und gibt den auf Grundlage der Aufgabenstellung errechneten Gewinn/Verlust zurück\n",
    "def get_result_score(y_test, y_predicted):\n",
    "\n",
    "    TP = 0\n",
    "    FP = 0\n",
    "    TN = 0\n",
    "    FN = 0\n",
    "\n",
    "    y_true = y_test.to_list()\n",
    "    y_predicted = y_predicted.tolist()\n",
    "\n",
    "    for i in range(len(y_predicted)):\n",
    "        if y_true[i]==y_predicted[i]==1:\n",
    "            TP += 1\n",
    "        if y_predicted[i]==1 and y_true[i]!=y_predicted[i]:\n",
    "            FP += 1\n",
    "        if y_true[i]==y_predicted[i]==0:\n",
    "            TN += 1\n",
    "        if y_predicted[i]==0 and y_true[i]!=y_predicted[i]:\n",
    "            FN += 1\n",
    "\n",
    "\n",
    "    return (TP*16+FP*(-2)+TN*(0)+FN*(-16))"
   ],
   "metadata": {
    "collapsed": false,
    "ExecuteTime": {
     "end_time": "2024-01-07T10:47:52.908509400Z",
     "start_time": "2024-01-07T10:47:51.507935400Z"
    }
   },
   "id": "4b2df18c6e51bc2b"
  },
  {
   "cell_type": "code",
   "execution_count": 428,
   "outputs": [],
   "source": [
    "# Trainings-,Test- und Vaildationsdaten erstellen\n",
    "X_train, X_test_2, y_train, y_test_2, X_test_1, y_test_1 = split_train_test(df)"
   ],
   "metadata": {
    "collapsed": false,
    "ExecuteTime": {
     "end_time": "2024-01-07T10:47:52.909504800Z",
     "start_time": "2024-01-07T10:47:51.540716Z"
    }
   },
   "id": "5afb076e209c247c"
  },
  {
   "cell_type": "markdown",
   "source": [
    "<h2>KNearstNeighbor Classifier<h2>"
   ],
   "metadata": {
    "collapsed": false
   },
   "id": "d608876ad252be04"
  },
  {
   "cell_type": "markdown",
   "source": [
    "**Betrachtete Hyperparameter KNearst Neighbor**\n",
    "\n",
    "*  n_neighbors: Anzahl betrachteter Nachbarn\n",
    "*  weights: Gewichtung der nächsten Nachbarn [uniform, distance]\n",
    "*  metric: Metrik für die Distanzberechnung [euclidean, minkowski]"
   ],
   "metadata": {
    "collapsed": false
   },
   "id": "bc42258beaf12f00"
  },
  {
   "cell_type": "markdown",
   "source": [
    "<h3>Feature Selection der 10 wichtigsten Features über ANOVA F-Werte<h3>"
   ],
   "metadata": {
    "collapsed": false
   },
   "id": "728c55c6c1b0abca"
  },
  {
   "cell_type": "code",
   "execution_count": 429,
   "outputs": [],
   "source": [
    "# Betrachtung der ANOVA F-Werte statt der Chi Quadrat Werte für die Feature Selection, das negative Werte im Datensatz enthalten sind https://stackoverflow.com/questions/25792012/feature-selection-using-scikit-learn\"\"\"\n",
    "skBest_classif = SelectKBest(f_classif, k=10)\n",
    "std_slc = preprocessing.StandardScaler()\n",
    "knn = KNeighborsClassifier()"
   ],
   "metadata": {
    "collapsed": false,
    "ExecuteTime": {
     "end_time": "2024-01-07T10:47:52.909504800Z",
     "start_time": "2024-01-07T10:47:51.661899100Z"
    }
   },
   "id": "ff3da0e2ee5ce5db"
  },
  {
   "cell_type": "markdown",
   "source": [
    "<h3>Erstellen einer Pipeline mit Standardisierung (z-Values), Feature Selection (ANOVA F-Werte) und KNearstNeighbor Modell<h3>"
   ],
   "metadata": {
    "collapsed": false
   },
   "id": "a3cf448d7e327b9c"
  },
  {
   "cell_type": "code",
   "execution_count": 430,
   "outputs": [
    {
     "data": {
      "text/plain": "Pipeline(steps=[('scaler', StandardScaler()), ('skBest_classif', SelectKBest()),\n                ('knn', KNeighborsClassifier())])",
      "text/html": "<style>#sk-75d8fe73-9502-4edf-9c3f-599cacf61f3c {color: black;background-color: white;}#sk-75d8fe73-9502-4edf-9c3f-599cacf61f3c pre{padding: 0;}#sk-75d8fe73-9502-4edf-9c3f-599cacf61f3c div.sk-toggleable {background-color: white;}#sk-75d8fe73-9502-4edf-9c3f-599cacf61f3c label.sk-toggleable__label {cursor: pointer;display: block;width: 100%;margin-bottom: 0;padding: 0.3em;box-sizing: border-box;text-align: center;}#sk-75d8fe73-9502-4edf-9c3f-599cacf61f3c label.sk-toggleable__label-arrow:before {content: \"▸\";float: left;margin-right: 0.25em;color: #696969;}#sk-75d8fe73-9502-4edf-9c3f-599cacf61f3c label.sk-toggleable__label-arrow:hover:before {color: black;}#sk-75d8fe73-9502-4edf-9c3f-599cacf61f3c div.sk-estimator:hover label.sk-toggleable__label-arrow:before {color: black;}#sk-75d8fe73-9502-4edf-9c3f-599cacf61f3c div.sk-toggleable__content {max-height: 0;max-width: 0;overflow: hidden;text-align: left;background-color: #f0f8ff;}#sk-75d8fe73-9502-4edf-9c3f-599cacf61f3c div.sk-toggleable__content pre {margin: 0.2em;color: black;border-radius: 0.25em;background-color: #f0f8ff;}#sk-75d8fe73-9502-4edf-9c3f-599cacf61f3c input.sk-toggleable__control:checked~div.sk-toggleable__content {max-height: 200px;max-width: 100%;overflow: auto;}#sk-75d8fe73-9502-4edf-9c3f-599cacf61f3c input.sk-toggleable__control:checked~label.sk-toggleable__label-arrow:before {content: \"▾\";}#sk-75d8fe73-9502-4edf-9c3f-599cacf61f3c div.sk-estimator input.sk-toggleable__control:checked~label.sk-toggleable__label {background-color: #d4ebff;}#sk-75d8fe73-9502-4edf-9c3f-599cacf61f3c div.sk-label input.sk-toggleable__control:checked~label.sk-toggleable__label {background-color: #d4ebff;}#sk-75d8fe73-9502-4edf-9c3f-599cacf61f3c input.sk-hidden--visually {border: 0;clip: rect(1px 1px 1px 1px);clip: rect(1px, 1px, 1px, 1px);height: 1px;margin: -1px;overflow: hidden;padding: 0;position: absolute;width: 1px;}#sk-75d8fe73-9502-4edf-9c3f-599cacf61f3c div.sk-estimator {font-family: monospace;background-color: #f0f8ff;border: 1px dotted black;border-radius: 0.25em;box-sizing: border-box;margin-bottom: 0.5em;}#sk-75d8fe73-9502-4edf-9c3f-599cacf61f3c div.sk-estimator:hover {background-color: #d4ebff;}#sk-75d8fe73-9502-4edf-9c3f-599cacf61f3c div.sk-parallel-item::after {content: \"\";width: 100%;border-bottom: 1px solid gray;flex-grow: 1;}#sk-75d8fe73-9502-4edf-9c3f-599cacf61f3c div.sk-label:hover label.sk-toggleable__label {background-color: #d4ebff;}#sk-75d8fe73-9502-4edf-9c3f-599cacf61f3c div.sk-serial::before {content: \"\";position: absolute;border-left: 1px solid gray;box-sizing: border-box;top: 2em;bottom: 0;left: 50%;}#sk-75d8fe73-9502-4edf-9c3f-599cacf61f3c div.sk-serial {display: flex;flex-direction: column;align-items: center;background-color: white;padding-right: 0.2em;padding-left: 0.2em;}#sk-75d8fe73-9502-4edf-9c3f-599cacf61f3c div.sk-item {z-index: 1;}#sk-75d8fe73-9502-4edf-9c3f-599cacf61f3c div.sk-parallel {display: flex;align-items: stretch;justify-content: center;background-color: white;}#sk-75d8fe73-9502-4edf-9c3f-599cacf61f3c div.sk-parallel::before {content: \"\";position: absolute;border-left: 1px solid gray;box-sizing: border-box;top: 2em;bottom: 0;left: 50%;}#sk-75d8fe73-9502-4edf-9c3f-599cacf61f3c div.sk-parallel-item {display: flex;flex-direction: column;position: relative;background-color: white;}#sk-75d8fe73-9502-4edf-9c3f-599cacf61f3c div.sk-parallel-item:first-child::after {align-self: flex-end;width: 50%;}#sk-75d8fe73-9502-4edf-9c3f-599cacf61f3c div.sk-parallel-item:last-child::after {align-self: flex-start;width: 50%;}#sk-75d8fe73-9502-4edf-9c3f-599cacf61f3c div.sk-parallel-item:only-child::after {width: 0;}#sk-75d8fe73-9502-4edf-9c3f-599cacf61f3c div.sk-dashed-wrapped {border: 1px dashed gray;margin: 0 0.4em 0.5em 0.4em;box-sizing: border-box;padding-bottom: 0.4em;background-color: white;position: relative;}#sk-75d8fe73-9502-4edf-9c3f-599cacf61f3c div.sk-label label {font-family: monospace;font-weight: bold;background-color: white;display: inline-block;line-height: 1.2em;}#sk-75d8fe73-9502-4edf-9c3f-599cacf61f3c div.sk-label-container {position: relative;z-index: 2;text-align: center;}#sk-75d8fe73-9502-4edf-9c3f-599cacf61f3c div.sk-container {/* jupyter's `normalize.less` sets `[hidden] { display: none; }` but bootstrap.min.css set `[hidden] { display: none !important; }` so we also need the `!important` here to be able to override the default hidden behavior on the sphinx rendered scikit-learn.org. See: https://github.com/scikit-learn/scikit-learn/issues/21755 */display: inline-block !important;position: relative;}#sk-75d8fe73-9502-4edf-9c3f-599cacf61f3c div.sk-text-repr-fallback {display: none;}</style><div id=\"sk-75d8fe73-9502-4edf-9c3f-599cacf61f3c\" class=\"sk-top-container\"><div class=\"sk-text-repr-fallback\"><pre>Pipeline(steps=[(&#x27;scaler&#x27;, StandardScaler()), (&#x27;skBest_classif&#x27;, SelectKBest()),\n                (&#x27;knn&#x27;, KNeighborsClassifier())])</pre><b>Please rerun this cell to show the HTML repr or trust the notebook.</b></div><div class=\"sk-container\" hidden><div class=\"sk-item sk-dashed-wrapped\"><div class=\"sk-label-container\"><div class=\"sk-label sk-toggleable\"><input class=\"sk-toggleable__control sk-hidden--visually\" id=\"931dc5c4-0210-4699-bd7d-a24b47e9bc96\" type=\"checkbox\" ><label for=\"931dc5c4-0210-4699-bd7d-a24b47e9bc96\" class=\"sk-toggleable__label sk-toggleable__label-arrow\">Pipeline</label><div class=\"sk-toggleable__content\"><pre>Pipeline(steps=[(&#x27;scaler&#x27;, StandardScaler()), (&#x27;skBest_classif&#x27;, SelectKBest()),\n                (&#x27;knn&#x27;, KNeighborsClassifier())])</pre></div></div></div><div class=\"sk-serial\"><div class=\"sk-item\"><div class=\"sk-estimator sk-toggleable\"><input class=\"sk-toggleable__control sk-hidden--visually\" id=\"804f7013-0dbf-441a-ad3d-ed31a445ed9d\" type=\"checkbox\" ><label for=\"804f7013-0dbf-441a-ad3d-ed31a445ed9d\" class=\"sk-toggleable__label sk-toggleable__label-arrow\">StandardScaler</label><div class=\"sk-toggleable__content\"><pre>StandardScaler()</pre></div></div></div><div class=\"sk-item\"><div class=\"sk-estimator sk-toggleable\"><input class=\"sk-toggleable__control sk-hidden--visually\" id=\"db786406-e80e-4fa7-8dd0-98649d70ff27\" type=\"checkbox\" ><label for=\"db786406-e80e-4fa7-8dd0-98649d70ff27\" class=\"sk-toggleable__label sk-toggleable__label-arrow\">SelectKBest</label><div class=\"sk-toggleable__content\"><pre>SelectKBest()</pre></div></div></div><div class=\"sk-item\"><div class=\"sk-estimator sk-toggleable\"><input class=\"sk-toggleable__control sk-hidden--visually\" id=\"9a8925af-d7cb-4c19-a36a-b09936bf294e\" type=\"checkbox\" ><label for=\"9a8925af-d7cb-4c19-a36a-b09936bf294e\" class=\"sk-toggleable__label sk-toggleable__label-arrow\">KNeighborsClassifier</label><div class=\"sk-toggleable__content\"><pre>KNeighborsClassifier()</pre></div></div></div></div></div></div></div>"
     },
     "execution_count": 430,
     "metadata": {},
     "output_type": "execute_result"
    }
   ],
   "source": [
    "step_order = [(\"scaler\",std_slc),(\"skBest_classif\",skBest_classif),(\"knn\",knn)]\n",
    "pipe = Pipeline(step_order)\n",
    "pipe"
   ],
   "metadata": {
    "collapsed": false,
    "ExecuteTime": {
     "end_time": "2024-01-07T10:47:52.930363500Z",
     "start_time": "2024-01-07T10:47:51.692692800Z"
    }
   },
   "id": "de1a54154ea8cc9c"
  },
  {
   "cell_type": "code",
   "execution_count": 431,
   "outputs": [
    {
     "data": {
      "text/plain": "Index(['PURCHASE_VISITS', 'TOTAL_NET_SALES', 'SMONSPEND', 'CLASSES', 'COUPONS',\n       'STYLES', 'STORES', 'RESPONDED', 'RESPONSERATE', 'LTFREDAY'],\n      dtype='object')"
     },
     "execution_count": 431,
     "metadata": {},
     "output_type": "execute_result"
    }
   ],
   "source": [
    "#zeigt die auf Grundlage des ANOVA F-Werts wichtigsten features\n",
    "pipe.fit(X_train,y_train)\n",
    "features = pipe.named_steps['skBest_classif']\n",
    "X_train.columns[features.get_support()]"
   ],
   "metadata": {
    "collapsed": false,
    "ExecuteTime": {
     "end_time": "2024-01-07T10:47:52.931355800Z",
     "start_time": "2024-01-07T10:47:51.743353100Z"
    }
   },
   "id": "47c49e6efe335b60"
  },
  {
   "cell_type": "code",
   "execution_count": 432,
   "outputs": [
    {
     "ename": "KeyboardInterrupt",
     "evalue": "",
     "output_type": "error",
     "traceback": [
      "\u001B[1;31m---------------------------------------------------------------------------\u001B[0m",
      "\u001B[1;31mKeyboardInterrupt\u001B[0m                         Traceback (most recent call last)",
      "\u001B[1;32m~\\AppData\\Local\\Temp\\ipykernel_884\\1056577681.py\u001B[0m in \u001B[0;36m<module>\u001B[1;34m\u001B[0m\n\u001B[0;32m      7\u001B[0m     \u001B[0mpipe\u001B[0m\u001B[1;33m.\u001B[0m\u001B[0mset_params\u001B[0m\u001B[1;33m(\u001B[0m\u001B[0mknn__n_neighbors\u001B[0m\u001B[1;33m=\u001B[0m\u001B[0mi\u001B[0m\u001B[1;33m)\u001B[0m\u001B[1;33m.\u001B[0m\u001B[0mfit\u001B[0m\u001B[1;33m(\u001B[0m\u001B[0mX_train\u001B[0m\u001B[1;33m,\u001B[0m \u001B[0my_train\u001B[0m\u001B[1;33m)\u001B[0m\u001B[1;33m\u001B[0m\u001B[1;33m\u001B[0m\u001B[0m\n\u001B[0;32m      8\u001B[0m     \u001B[1;31m# Vorhersage der Klasse auf Grundlage der Test1 Daten\u001B[0m\u001B[1;33m\u001B[0m\u001B[1;33m\u001B[0m\u001B[0m\n\u001B[1;32m----> 9\u001B[1;33m     \u001B[0my_predicted\u001B[0m \u001B[1;33m=\u001B[0m \u001B[0mpipe\u001B[0m\u001B[1;33m.\u001B[0m\u001B[0mpredict\u001B[0m\u001B[1;33m(\u001B[0m\u001B[0mX_test_1\u001B[0m\u001B[1;33m)\u001B[0m\u001B[1;33m\u001B[0m\u001B[1;33m\u001B[0m\u001B[0m\n\u001B[0m\u001B[0;32m     10\u001B[0m     \u001B[1;31m# Füllen der Listen mit der so erzielten Accuracy und Gewinn/Verlusts\u001B[0m\u001B[1;33m\u001B[0m\u001B[1;33m\u001B[0m\u001B[0m\n\u001B[0;32m     11\u001B[0m     \u001B[0mmean_acc\u001B[0m\u001B[1;33m[\u001B[0m\u001B[0mi\u001B[0m\u001B[1;33m-\u001B[0m\u001B[1;36m1\u001B[0m\u001B[1;33m]\u001B[0m \u001B[1;33m=\u001B[0m \u001B[0mmetrics\u001B[0m\u001B[1;33m.\u001B[0m\u001B[0maccuracy_score\u001B[0m\u001B[1;33m(\u001B[0m\u001B[0my_test_1\u001B[0m\u001B[1;33m,\u001B[0m \u001B[0my_predicted\u001B[0m\u001B[1;33m)\u001B[0m\u001B[1;33m\u001B[0m\u001B[1;33m\u001B[0m\u001B[0m\n",
      "\u001B[1;32m~\\anaconda3\\lib\\site-packages\\sklearn\\utils\\metaestimators.py\u001B[0m in \u001B[0;36m<lambda>\u001B[1;34m(*args, **kwargs)\u001B[0m\n\u001B[0;32m    111\u001B[0m \u001B[1;33m\u001B[0m\u001B[0m\n\u001B[0;32m    112\u001B[0m             \u001B[1;31m# lambda, but not partial, allows help() to work with update_wrapper\u001B[0m\u001B[1;33m\u001B[0m\u001B[1;33m\u001B[0m\u001B[0m\n\u001B[1;32m--> 113\u001B[1;33m             \u001B[0mout\u001B[0m \u001B[1;33m=\u001B[0m \u001B[1;32mlambda\u001B[0m \u001B[1;33m*\u001B[0m\u001B[0margs\u001B[0m\u001B[1;33m,\u001B[0m \u001B[1;33m**\u001B[0m\u001B[0mkwargs\u001B[0m\u001B[1;33m:\u001B[0m \u001B[0mself\u001B[0m\u001B[1;33m.\u001B[0m\u001B[0mfn\u001B[0m\u001B[1;33m(\u001B[0m\u001B[0mobj\u001B[0m\u001B[1;33m,\u001B[0m \u001B[1;33m*\u001B[0m\u001B[0margs\u001B[0m\u001B[1;33m,\u001B[0m \u001B[1;33m**\u001B[0m\u001B[0mkwargs\u001B[0m\u001B[1;33m)\u001B[0m  \u001B[1;31m# noqa\u001B[0m\u001B[1;33m\u001B[0m\u001B[1;33m\u001B[0m\u001B[0m\n\u001B[0m\u001B[0;32m    114\u001B[0m         \u001B[1;32melse\u001B[0m\u001B[1;33m:\u001B[0m\u001B[1;33m\u001B[0m\u001B[1;33m\u001B[0m\u001B[0m\n\u001B[0;32m    115\u001B[0m \u001B[1;33m\u001B[0m\u001B[0m\n",
      "\u001B[1;32m~\\anaconda3\\lib\\site-packages\\sklearn\\pipeline.py\u001B[0m in \u001B[0;36mpredict\u001B[1;34m(self, X, **predict_params)\u001B[0m\n\u001B[0;32m    468\u001B[0m         \u001B[1;32mfor\u001B[0m \u001B[0m_\u001B[0m\u001B[1;33m,\u001B[0m \u001B[0mname\u001B[0m\u001B[1;33m,\u001B[0m \u001B[0mtransform\u001B[0m \u001B[1;32min\u001B[0m \u001B[0mself\u001B[0m\u001B[1;33m.\u001B[0m\u001B[0m_iter\u001B[0m\u001B[1;33m(\u001B[0m\u001B[0mwith_final\u001B[0m\u001B[1;33m=\u001B[0m\u001B[1;32mFalse\u001B[0m\u001B[1;33m)\u001B[0m\u001B[1;33m:\u001B[0m\u001B[1;33m\u001B[0m\u001B[1;33m\u001B[0m\u001B[0m\n\u001B[0;32m    469\u001B[0m             \u001B[0mXt\u001B[0m \u001B[1;33m=\u001B[0m \u001B[0mtransform\u001B[0m\u001B[1;33m.\u001B[0m\u001B[0mtransform\u001B[0m\u001B[1;33m(\u001B[0m\u001B[0mXt\u001B[0m\u001B[1;33m)\u001B[0m\u001B[1;33m\u001B[0m\u001B[1;33m\u001B[0m\u001B[0m\n\u001B[1;32m--> 470\u001B[1;33m         \u001B[1;32mreturn\u001B[0m \u001B[0mself\u001B[0m\u001B[1;33m.\u001B[0m\u001B[0msteps\u001B[0m\u001B[1;33m[\u001B[0m\u001B[1;33m-\u001B[0m\u001B[1;36m1\u001B[0m\u001B[1;33m]\u001B[0m\u001B[1;33m[\u001B[0m\u001B[1;36m1\u001B[0m\u001B[1;33m]\u001B[0m\u001B[1;33m.\u001B[0m\u001B[0mpredict\u001B[0m\u001B[1;33m(\u001B[0m\u001B[0mXt\u001B[0m\u001B[1;33m,\u001B[0m \u001B[1;33m**\u001B[0m\u001B[0mpredict_params\u001B[0m\u001B[1;33m)\u001B[0m\u001B[1;33m\u001B[0m\u001B[1;33m\u001B[0m\u001B[0m\n\u001B[0m\u001B[0;32m    471\u001B[0m \u001B[1;33m\u001B[0m\u001B[0m\n\u001B[0;32m    472\u001B[0m     \u001B[1;33m@\u001B[0m\u001B[0mavailable_if\u001B[0m\u001B[1;33m(\u001B[0m\u001B[0m_final_estimator_has\u001B[0m\u001B[1;33m(\u001B[0m\u001B[1;34m\"fit_predict\"\u001B[0m\u001B[1;33m)\u001B[0m\u001B[1;33m)\u001B[0m\u001B[1;33m\u001B[0m\u001B[1;33m\u001B[0m\u001B[0m\n",
      "\u001B[1;32m~\\anaconda3\\lib\\site-packages\\sklearn\\neighbors\\_classification.py\u001B[0m in \u001B[0;36mpredict\u001B[1;34m(self, X)\u001B[0m\n\u001B[0;32m    226\u001B[0m         \u001B[1;32mfor\u001B[0m \u001B[0mk\u001B[0m\u001B[1;33m,\u001B[0m \u001B[0mclasses_k\u001B[0m \u001B[1;32min\u001B[0m \u001B[0menumerate\u001B[0m\u001B[1;33m(\u001B[0m\u001B[0mclasses_\u001B[0m\u001B[1;33m)\u001B[0m\u001B[1;33m:\u001B[0m\u001B[1;33m\u001B[0m\u001B[1;33m\u001B[0m\u001B[0m\n\u001B[0;32m    227\u001B[0m             \u001B[1;32mif\u001B[0m \u001B[0mweights\u001B[0m \u001B[1;32mis\u001B[0m \u001B[1;32mNone\u001B[0m\u001B[1;33m:\u001B[0m\u001B[1;33m\u001B[0m\u001B[1;33m\u001B[0m\u001B[0m\n\u001B[1;32m--> 228\u001B[1;33m                 \u001B[0mmode\u001B[0m\u001B[1;33m,\u001B[0m \u001B[0m_\u001B[0m \u001B[1;33m=\u001B[0m \u001B[0mstats\u001B[0m\u001B[1;33m.\u001B[0m\u001B[0mmode\u001B[0m\u001B[1;33m(\u001B[0m\u001B[0m_y\u001B[0m\u001B[1;33m[\u001B[0m\u001B[0mneigh_ind\u001B[0m\u001B[1;33m,\u001B[0m \u001B[0mk\u001B[0m\u001B[1;33m]\u001B[0m\u001B[1;33m,\u001B[0m \u001B[0maxis\u001B[0m\u001B[1;33m=\u001B[0m\u001B[1;36m1\u001B[0m\u001B[1;33m)\u001B[0m\u001B[1;33m\u001B[0m\u001B[1;33m\u001B[0m\u001B[0m\n\u001B[0m\u001B[0;32m    229\u001B[0m             \u001B[1;32melse\u001B[0m\u001B[1;33m:\u001B[0m\u001B[1;33m\u001B[0m\u001B[1;33m\u001B[0m\u001B[0m\n\u001B[0;32m    230\u001B[0m                 \u001B[0mmode\u001B[0m\u001B[1;33m,\u001B[0m \u001B[0m_\u001B[0m \u001B[1;33m=\u001B[0m \u001B[0mweighted_mode\u001B[0m\u001B[1;33m(\u001B[0m\u001B[0m_y\u001B[0m\u001B[1;33m[\u001B[0m\u001B[0mneigh_ind\u001B[0m\u001B[1;33m,\u001B[0m \u001B[0mk\u001B[0m\u001B[1;33m]\u001B[0m\u001B[1;33m,\u001B[0m \u001B[0mweights\u001B[0m\u001B[1;33m,\u001B[0m \u001B[0maxis\u001B[0m\u001B[1;33m=\u001B[0m\u001B[1;36m1\u001B[0m\u001B[1;33m)\u001B[0m\u001B[1;33m\u001B[0m\u001B[1;33m\u001B[0m\u001B[0m\n",
      "\u001B[1;32m~\\anaconda3\\lib\\site-packages\\scipy\\stats\\_stats_py.py\u001B[0m in \u001B[0;36mmode\u001B[1;34m(a, axis, nan_policy, keepdims)\u001B[0m\n\u001B[0;32m    673\u001B[0m     \u001B[0mcounts\u001B[0m \u001B[1;33m=\u001B[0m \u001B[0mnp\u001B[0m\u001B[1;33m.\u001B[0m\u001B[0mempty\u001B[0m\u001B[1;33m(\u001B[0m\u001B[0ma_view\u001B[0m\u001B[1;33m.\u001B[0m\u001B[0mshape\u001B[0m\u001B[1;33m[\u001B[0m\u001B[1;33m:\u001B[0m\u001B[1;33m-\u001B[0m\u001B[1;36m1\u001B[0m\u001B[1;33m]\u001B[0m\u001B[1;33m,\u001B[0m \u001B[0mdtype\u001B[0m\u001B[1;33m=\u001B[0m\u001B[0mnp\u001B[0m\u001B[1;33m.\u001B[0m\u001B[0mint_\u001B[0m\u001B[1;33m)\u001B[0m\u001B[1;33m\u001B[0m\u001B[1;33m\u001B[0m\u001B[0m\n\u001B[0;32m    674\u001B[0m     \u001B[1;32mfor\u001B[0m \u001B[0mind\u001B[0m \u001B[1;32min\u001B[0m \u001B[0minds\u001B[0m\u001B[1;33m:\u001B[0m\u001B[1;33m\u001B[0m\u001B[1;33m\u001B[0m\u001B[0m\n\u001B[1;32m--> 675\u001B[1;33m         \u001B[0mmodes\u001B[0m\u001B[1;33m[\u001B[0m\u001B[0mind\u001B[0m\u001B[1;33m]\u001B[0m\u001B[1;33m,\u001B[0m \u001B[0mcounts\u001B[0m\u001B[1;33m[\u001B[0m\u001B[0mind\u001B[0m\u001B[1;33m]\u001B[0m \u001B[1;33m=\u001B[0m \u001B[0m_mode1D\u001B[0m\u001B[1;33m(\u001B[0m\u001B[0ma_view\u001B[0m\u001B[1;33m[\u001B[0m\u001B[0mind\u001B[0m\u001B[1;33m]\u001B[0m\u001B[1;33m)\u001B[0m\u001B[1;33m\u001B[0m\u001B[1;33m\u001B[0m\u001B[0m\n\u001B[0m\u001B[0;32m    676\u001B[0m \u001B[1;33m\u001B[0m\u001B[0m\n\u001B[0;32m    677\u001B[0m     \u001B[1;32mif\u001B[0m \u001B[0mkeepdims\u001B[0m \u001B[1;32mis\u001B[0m \u001B[1;32mNone\u001B[0m \u001B[1;32mor\u001B[0m \u001B[0mkeepdims\u001B[0m\u001B[1;33m:\u001B[0m\u001B[1;33m\u001B[0m\u001B[1;33m\u001B[0m\u001B[0m\n",
      "\u001B[1;32m~\\anaconda3\\lib\\site-packages\\scipy\\stats\\_stats_py.py\u001B[0m in \u001B[0;36m_mode1D\u001B[1;34m(a)\u001B[0m\n\u001B[0;32m    660\u001B[0m     \u001B[1;32melse\u001B[0m\u001B[1;33m:\u001B[0m\u001B[1;33m\u001B[0m\u001B[1;33m\u001B[0m\u001B[0m\n\u001B[0;32m    661\u001B[0m         \u001B[1;32mdef\u001B[0m \u001B[0m_mode1D\u001B[0m\u001B[1;33m(\u001B[0m\u001B[0ma\u001B[0m\u001B[1;33m)\u001B[0m\u001B[1;33m:\u001B[0m\u001B[1;33m\u001B[0m\u001B[1;33m\u001B[0m\u001B[0m\n\u001B[1;32m--> 662\u001B[1;33m             \u001B[0mvals\u001B[0m\u001B[1;33m,\u001B[0m \u001B[0mcnts\u001B[0m \u001B[1;33m=\u001B[0m \u001B[0mnp\u001B[0m\u001B[1;33m.\u001B[0m\u001B[0munique\u001B[0m\u001B[1;33m(\u001B[0m\u001B[0ma\u001B[0m\u001B[1;33m,\u001B[0m \u001B[0mreturn_counts\u001B[0m\u001B[1;33m=\u001B[0m\u001B[1;32mTrue\u001B[0m\u001B[1;33m)\u001B[0m\u001B[1;33m\u001B[0m\u001B[1;33m\u001B[0m\u001B[0m\n\u001B[0m\u001B[0;32m    663\u001B[0m             \u001B[1;32mreturn\u001B[0m \u001B[0mvals\u001B[0m\u001B[1;33m[\u001B[0m\u001B[0mcnts\u001B[0m\u001B[1;33m.\u001B[0m\u001B[0margmax\u001B[0m\u001B[1;33m(\u001B[0m\u001B[1;33m)\u001B[0m\u001B[1;33m]\u001B[0m\u001B[1;33m,\u001B[0m \u001B[0mcnts\u001B[0m\u001B[1;33m.\u001B[0m\u001B[0mmax\u001B[0m\u001B[1;33m(\u001B[0m\u001B[1;33m)\u001B[0m\u001B[1;33m\u001B[0m\u001B[1;33m\u001B[0m\u001B[0m\n\u001B[0;32m    664\u001B[0m \u001B[1;33m\u001B[0m\u001B[0m\n",
      "\u001B[1;32m~\\anaconda3\\lib\\site-packages\\numpy\\core\\overrides.py\u001B[0m in \u001B[0;36munique\u001B[1;34m(*args, **kwargs)\u001B[0m\n",
      "\u001B[1;32m~\\anaconda3\\lib\\site-packages\\numpy\\lib\\arraysetops.py\u001B[0m in \u001B[0;36munique\u001B[1;34m(ar, return_index, return_inverse, return_counts, axis, equal_nan)\u001B[0m\n\u001B[0;32m    272\u001B[0m     \u001B[0mar\u001B[0m \u001B[1;33m=\u001B[0m \u001B[0mnp\u001B[0m\u001B[1;33m.\u001B[0m\u001B[0masanyarray\u001B[0m\u001B[1;33m(\u001B[0m\u001B[0mar\u001B[0m\u001B[1;33m)\u001B[0m\u001B[1;33m\u001B[0m\u001B[1;33m\u001B[0m\u001B[0m\n\u001B[0;32m    273\u001B[0m     \u001B[1;32mif\u001B[0m \u001B[0maxis\u001B[0m \u001B[1;32mis\u001B[0m \u001B[1;32mNone\u001B[0m\u001B[1;33m:\u001B[0m\u001B[1;33m\u001B[0m\u001B[1;33m\u001B[0m\u001B[0m\n\u001B[1;32m--> 274\u001B[1;33m         ret = _unique1d(ar, return_index, return_inverse, return_counts, \n\u001B[0m\u001B[0;32m    275\u001B[0m                         equal_nan=equal_nan)\n\u001B[0;32m    276\u001B[0m         \u001B[1;32mreturn\u001B[0m \u001B[0m_unpack_tuple\u001B[0m\u001B[1;33m(\u001B[0m\u001B[0mret\u001B[0m\u001B[1;33m)\u001B[0m\u001B[1;33m\u001B[0m\u001B[1;33m\u001B[0m\u001B[0m\n",
      "\u001B[1;32m~\\anaconda3\\lib\\site-packages\\numpy\\lib\\arraysetops.py\u001B[0m in \u001B[0;36m_unique1d\u001B[1;34m(ar, return_index, return_inverse, return_counts, equal_nan)\u001B[0m\n\u001B[0;32m    361\u001B[0m         \u001B[0mret\u001B[0m \u001B[1;33m+=\u001B[0m \u001B[1;33m(\u001B[0m\u001B[0minv_idx\u001B[0m\u001B[1;33m,\u001B[0m\u001B[1;33m)\u001B[0m\u001B[1;33m\u001B[0m\u001B[1;33m\u001B[0m\u001B[0m\n\u001B[0;32m    362\u001B[0m     \u001B[1;32mif\u001B[0m \u001B[0mreturn_counts\u001B[0m\u001B[1;33m:\u001B[0m\u001B[1;33m\u001B[0m\u001B[1;33m\u001B[0m\u001B[0m\n\u001B[1;32m--> 363\u001B[1;33m         \u001B[0midx\u001B[0m \u001B[1;33m=\u001B[0m \u001B[0mnp\u001B[0m\u001B[1;33m.\u001B[0m\u001B[0mconcatenate\u001B[0m\u001B[1;33m(\u001B[0m\u001B[0mnp\u001B[0m\u001B[1;33m.\u001B[0m\u001B[0mnonzero\u001B[0m\u001B[1;33m(\u001B[0m\u001B[0mmask\u001B[0m\u001B[1;33m)\u001B[0m \u001B[1;33m+\u001B[0m \u001B[1;33m(\u001B[0m\u001B[1;33m[\u001B[0m\u001B[0mmask\u001B[0m\u001B[1;33m.\u001B[0m\u001B[0msize\u001B[0m\u001B[1;33m]\u001B[0m\u001B[1;33m,\u001B[0m\u001B[1;33m)\u001B[0m\u001B[1;33m)\u001B[0m\u001B[1;33m\u001B[0m\u001B[1;33m\u001B[0m\u001B[0m\n\u001B[0m\u001B[0;32m    364\u001B[0m         \u001B[0mret\u001B[0m \u001B[1;33m+=\u001B[0m \u001B[1;33m(\u001B[0m\u001B[0mnp\u001B[0m\u001B[1;33m.\u001B[0m\u001B[0mdiff\u001B[0m\u001B[1;33m(\u001B[0m\u001B[0midx\u001B[0m\u001B[1;33m)\u001B[0m\u001B[1;33m,\u001B[0m\u001B[1;33m)\u001B[0m\u001B[1;33m\u001B[0m\u001B[1;33m\u001B[0m\u001B[0m\n\u001B[0;32m    365\u001B[0m     \u001B[1;32mreturn\u001B[0m \u001B[0mret\u001B[0m\u001B[1;33m\u001B[0m\u001B[1;33m\u001B[0m\u001B[0m\n",
      "\u001B[1;32m~\\anaconda3\\lib\\site-packages\\numpy\\core\\overrides.py\u001B[0m in \u001B[0;36mconcatenate\u001B[1;34m(*args, **kwargs)\u001B[0m\n",
      "\u001B[1;31mKeyboardInterrupt\u001B[0m: "
     ]
    }
   ],
   "source": [
    "# Listen mit 20 Einträgen ertsellen\n",
    "mean_acc = np.zeros(20)\n",
    "mean_score = np.zeros(20)\n",
    "# Schleife mit 20 Iterationen\n",
    "for i in range(1,21):\n",
    "    # Je Iteration erstellen und Trainieren eines Knn Modells mit einer Anzahl nächster Nachbarn von 1-20\n",
    "    pipe.set_params(knn__n_neighbors=i).fit(X_train, y_train)\n",
    "    # Vorhersage der Klasse auf Grundlage der Test1 Daten\n",
    "    y_predicted = pipe.predict(X_test_1)\n",
    "    # Füllen der Listen mit der so erzielten Accuracy und Gewinn/Verlusts\n",
    "    mean_acc[i-1] = metrics.accuracy_score(y_test_1, y_predicted)\n",
    "    mean_score[i-1] = get_result_score(y_test_1, y_predicted)"
   ],
   "metadata": {
    "collapsed": false,
    "ExecuteTime": {
     "end_time": "2024-01-07T10:48:04.772662100Z",
     "start_time": "2024-01-07T10:47:52.111871300Z"
    }
   },
   "id": "6415aaf542ac3691"
  },
  {
   "cell_type": "code",
   "execution_count": null,
   "outputs": [],
   "source": [
    "# Darstellung der Accuracy in Abhängigkeit von der Anzahl nächster Nachbarn\n",
    "loc = np.arange(1,21,step=1.0)\n",
    "plt.figure(figsize = (15, 6))\n",
    "plt.plot(range(1,21), mean_acc)\n",
    "plt.xticks(loc)\n",
    "plt.xlabel('Number of Neighbors ')\n",
    "plt.ylabel('Accuracy')\n",
    "plt.title(\"Accuracy Score in Abhängigkeit von der Anzahl berücksichtigter Nachbarn\")\n",
    "plt.show()"
   ],
   "metadata": {
    "collapsed": false,
    "ExecuteTime": {
     "end_time": "2024-01-07T10:48:04.860074Z",
     "start_time": "2024-01-07T10:48:04.781602800Z"
    }
   },
   "id": "1a69c974a3e162fb"
  },
  {
   "cell_type": "code",
   "execution_count": null,
   "outputs": [],
   "source": [
    "# Darstellung des Gewinns/Verlusts in Abhängigkeit von der Anzahl nächster Nachbarn\n",
    "loc = np.arange(1, 21, step=1.0)\n",
    "plt.figure(figsize=(15, 6))\n",
    "plt.plot(range(1, 21), mean_score)\n",
    "plt.xticks(loc)\n",
    "plt.xlabel('Number of Neighbors ')\n",
    "plt.ylabel('Gewinn/Erlös ')\n",
    "plt.title(\"Gewinn/Erlös in Abhängigkeit von der Anzahl berücksichtigter Nachbarn\")\n",
    "plt.show()"
   ],
   "metadata": {
    "collapsed": false,
    "ExecuteTime": {
     "start_time": "2024-01-07T10:48:04.800476300Z"
    }
   },
   "id": "3bae6bcb5ca2a7ac"
  },
  {
   "cell_type": "code",
   "execution_count": null,
   "outputs": [],
   "source": [
    "# Lösungsraum für die Hyperparameteroptimierung festlegen\n",
    "grid_params = {\"knn__n_neighbors\" : [2,3,4,5,6,7,8,9,10,11,12,13,14,15,16,17,18,19,20],\n",
    "              \"knn__weights\" : [\"uniform\",\"distance\"],\n",
    "              \"knn__metric\": [\"euclidean\",\"minkowski\"]\n",
    "              }\n",
    "\n",
    "#eigene Funktion als Scorer für die GridSearch\n",
    "result_scorer = make_scorer(get_result_score)\n",
    "\n",
    "# GirdSearch mit 3 fold cross validation, Suche über die zuvor definierten Parameter\n",
    "\n",
    "#Suche nach optimalen Parametern unter Berücksichtigung des Gewinns/Erlöses\n",
    "knn_random_result_score = GridSearchCV(estimator = pipe, param_grid = grid_params,\n",
    "                                       cv = 3, n_jobs = -1, scoring = result_scorer, error_score=\"raise\")\n",
    "\n",
    "#Suche nach optimalen Parametern unter Berücksichtigung der Accuracy\n",
    "knn_random_result_accuracy = GridSearchCV(estimator=pipe,param_grid = grid_params, cv = 3, n_jobs = -1,error_score=\"raise\")\n",
    "\n",
    "#Suche nach optimalen Parametern unter Berücksichtigung des Recalls\n",
    "knn_random_result_recall = GridSearchCV(estimator = pipe, param_grid = grid_params,\n",
    "                                        cv = 3, n_jobs = -1, scoring = \"recall\", error_score=\"raise\")"
   ],
   "metadata": {
    "collapsed": false,
    "ExecuteTime": {
     "start_time": "2024-01-07T10:48:04.823321700Z"
    }
   },
   "id": "634935d17c4e2e31"
  },
  {
   "cell_type": "code",
   "execution_count": null,
   "outputs": [],
   "source": [
    "# GridSearch Instanzen mit Trainingsdaten fitten\n",
    "knn_random_result_score_res = knn_random_result_score.fit(X_train, y_train)\n",
    "knn_random_result_accuracy_res = knn_random_result_accuracy.fit(X_train, y_train)\n",
    "knn_random_result_recall_res = knn_random_result_recall.fit(X_train, y_train)\n",
    "\n",
    "# Ausgabe des jeweils besten Scores und der optimalen dafür genutzten Parameter\n",
    "print(\"Bester Score: \",knn_random_result_score_res.best_score_)\n",
    "print(\"Mit Parametern: \",knn_random_result_score_res.best_params_)\n",
    "print(\"Beste Accuracy: \",knn_random_result_accuracy_res.best_score_)\n",
    "print(\"Mit Parametern: \",knn_random_result_accuracy_res.best_params_)\n",
    "print(\"Bester Recall: \",knn_random_result_recall_res.best_score_)\n",
    "print(\"Mit Parametern: \",knn_random_result_recall_res.best_params_)"
   ],
   "metadata": {
    "collapsed": false,
    "ExecuteTime": {
     "start_time": "2024-01-07T10:48:04.839214100Z"
    }
   },
   "id": "8133777e2510902e"
  },
  {
   "cell_type": "code",
   "execution_count": null,
   "outputs": [],
   "source": [
    "# Funktion die der Threshold Wert und die Wahrscheinlichkeit der Klassenzugehörigkeit 1 entgegennimmt und einen diesen zurückgibt, solange die Wahrscheinlichkeit der Klassenzugehörigkeit über dem Threshold liegt (sonst 0)\n",
    "def to_labels(probabilities, threshold):\n",
    "    return(probabilities >= threshold).astype(\"int\")\n",
    "\n",
    "#Thresholds evaluieren\n",
    "# Erstellen und Trainieren einer neuen Modellinstanz mit den zuvor ermittelten besten Hyperparametern bei Berücksichtung des Gewinns/Verlusts\n",
    "pipe.set_params(knn__n_neighbors=2, knn__metric = \"euclidiean\", knn__weights=\"uniform\").fit(X_train, y_train)\n",
    "# Vorhersage der Zielvariablen auf für die Test1 Daten\n",
    "y_predicted = (pipe.predict_proba(X_test_1))\n",
    "# Ermitteln der Wahrscheinlichkeiten mit denen eine Klassifikation der Klasse 1 (Kunde reagiert) erfolgt\n",
    "probs = y_predicted[:,1]\n",
    "# Darstellung der Wahrscheinlichkeiten in einem Histogramm\n",
    "plt.hist(probs, bins=25, edgecolor='black')\n",
    "plt.xlabel('Wahrscheinlichkeit der Klassenzugehörigkeit 1')\n",
    "plt.ylabel('Anzahl Predictions')\n",
    "plt.title('Wahrscheinlichkeiten der Predictions unter Berücksichtigung der 2 nächsten Nachbarn')\n",
    "plt.show()\n",
    "\n",
    "# Liste mit Thresholds von 0 bis 1 in 0.001 Steps\n",
    "thresholds = np.arange(0,1,0.001)\n",
    "# Ermitteln der Scores unter Berücksichtigung der unterschiedlichen Thresholds\n",
    "scores = [get_result_score(y_test_1,to_labels(probs,t)) for t in thresholds]\n",
    "# Ermitteln des List Indexes an dem der Gewinn/Erlös am größten ist\n",
    "max_threshold = np.argmax(scores)\n",
    "# Ausgabe des besten Gewinns/Verlusts mit optimalen Threshold\n",
    "print(\"Threshold= \",thresholds[max_threshold],\"Score-Wert= \",scores[max_threshold], \"€\")\n",
    "# Darstellung des Gewinns/Verlusts unter Berücksichtigung der Thresholds\n",
    "plt.plot(np.arange(0,1,0.001), scores)\n",
    "plt.xticks(np.arange(0,1,0.1))\n",
    "plt.title(\"Score-Wert in Abhängigkeit vom Classification Threshold\")\n",
    "plt.xlabel(\"Threshold\")\n",
    "plt.ylabel('Score')\n",
    "plt.show()\n",
    "\n",
    "# Erstellen und Trainieren einer neuen Modellinstanz mit den zuvor ermittelten besten Hyperparametern bei Berücksichtung der Accuracy\n",
    "pipe.set_params(knn__n_neighbors=20, knn_metric = \"euclidean\", knn__weights=\"uniform\").fit(X_train, y_train)\n",
    "# Vorhersage der Zielvariablen auf für die Test1 Daten\n",
    "y_predicted = (pipe.predict_proba(X_test_1))\n",
    "# Ermitteln der Wahrscheinlichkeiten mit denen eine Klassifiaktion der Klasse 1 (Kunde reagiert) erfolgt\n",
    "probs = y_predicted[:,1]\n",
    "# Darstellung der Wahrscheinlichkeiten in einem Histogramm\n",
    "plt.hist(probs, bins=25, edgecolor='black')\n",
    "plt.xlabel('Wahrscheinlichkeit der Klassenzugehörigkeit 1')\n",
    "plt.ylabel('Anzahl Predictions')\n",
    "plt.title('Wahrscheinlichkeiten der Predictions unter Berücksichtigung der 20 nächsten Nachbarn')\n",
    "plt.show()\n",
    "\n",
    "# Liste mit Thresholds von 0 bis 1 in 0.001 Steps\n",
    "thresholds = np.arange(0,1,0.001)\n",
    "# Ermitteln der Scores unter Berücksichtigung der unterschiedlichen Thresholds\n",
    "scores = [get_result_score(y_test_1,to_labels(probs,t)) for t in thresholds]\n",
    "# Ermitteln des List Indexes an dem der Gewinn/Erlös am größten ist\n",
    "max_threshold = np.argmax(scores)\n",
    "# Ausgabe des besten Gewinns/Verlusts mit optimalen Threshold\n",
    "print(\"Threshold= \",thresholds[max_threshold],\"Score-Wert= \",scores[max_threshold], \"€\")\n",
    "# Darstellung des Gewinns/Verlusts unter Berücksichtigung der Thresholds\n",
    "plt.plot(np.arange(0,1,0.001), scores)\n",
    "plt.xticks(np.arange(0,1,0.1))\n",
    "plt.title(\"Score-Wert in Abhängigkeit vom Classification Threshold\")\n",
    "plt.xlabel(\"Threshold\")\n",
    "plt.ylabel('Score')\n",
    "plt.show()"
   ],
   "metadata": {
    "collapsed": false,
    "ExecuteTime": {
     "end_time": "2024-01-07T10:48:04.985232100Z",
     "start_time": "2024-01-07T10:48:04.878949500Z"
    }
   },
   "id": "12a768c3bc63ecf1"
  },
  {
   "cell_type": "code",
   "execution_count": null,
   "outputs": [],
   "source": [
    "# Erstellen und Trainieren einer neuen Modellinstanz\n",
    "pipe.set_params(knn__n_neighbors=2, knn__metric = \"euclidiean\", knn__weights=\"uniform\").fit(X_train, y_train)\n",
    "# Vorhersage der Klasse für die finalen Test2 Daten unter Berücksichtigung eines Classification Thresholds von 5%\n",
    "y_predicted = (pipe.predict_proba(X_test_2)[:,1]>=0.05).astype(bool)\n",
    "# Ermitteln der Accuracy, Precision, Recall, F1Score und Gewinn/Erlös\n",
    "accuracy = accuracy_score(y_test_2, y_predicted)\n",
    "precision = precision_score(y_test_2, y_predicted)\n",
    "recall = recall_score(y_test_2, y_predicted)\n",
    "f1score = f1_score(y_test_2, y_predicted)\n",
    "score = get_result_score(y_test_2, y_predicted)\n",
    "\n",
    "# Ausgabe der Scores\n",
    "print(\"Accuracy: \",accuracy*100, \"%\")\n",
    "print(\"Recall: \", recall*100, \"%\")\n",
    "print(\"Precision: \", precision*100, \"%\")\n",
    "print(\"F1 Score: \", f1score*100, \"%\")\n",
    "print(\"Score: \", score, \"€\")\n",
    "\n",
    "# Darstellung der Confusion Matrix\n",
    "matrix = confusion_matrix(y_test_2,y_predicted,labels=knn.classes_)\n",
    "disp = ConfusionMatrixDisplay(confusion_matrix=matrix, display_labels=knn.classes_)\n",
    "disp.plot()\n",
    "plt.grid(False)\n",
    "plt.show()"
   ],
   "metadata": {
    "collapsed": false,
    "ExecuteTime": {
     "start_time": "2024-01-07T10:48:04.903780700Z"
    }
   },
   "id": "a9bf7142d5574da5"
  },
  {
   "cell_type": "code",
   "execution_count": null,
   "outputs": [],
   "source": [
    "# Erstellen und Trainieren einer neuen Modellinstanz\n",
    "pipe.set_params(knn__n_neighbors=17, knn__metric = \"euclidiean\", knn__weights=\"uniform\").fit(X_train, y_train)\n",
    "# Vorhersage der Klasse für die finalen Test2 Daten unter Berücksichtigung eines Classification Thresholds von 5%\n",
    "y_predicted = (pipe.predict_proba(X_test_2)[:,1]>=0.05).astype(bool)\n",
    "# Ermitteln der Accuracy, Precision, Recall, F1Score und Gewinn/Erlös\n",
    "accuracy = accuracy_score(y_test_2, y_predicted)\n",
    "precision = precision_score(y_test_2, y_predicted)\n",
    "recall = recall_score(y_test_2, y_predicted)\n",
    "f1score = f1_score(y_test_2, y_predicted)\n",
    "score = get_result_score(y_test_2, y_predicted)\n",
    "\n",
    "# Ausgabe der Scores\n",
    "print(\"Accuracy: \",accuracy*100, \"%\")\n",
    "print(\"Recall: \", recall*100, \"%\")\n",
    "print(\"Precision: \", precision*100, \"%\")\n",
    "print(\"F1 Score: \", f1score*100, \"%\")\n",
    "print(\"Score: \", score, \"€\")\n",
    "\n",
    "# Darstellung der Confusion Matrix\n",
    "matrix = confusion_matrix(y_test_2,y_predicted,labels=knn.classes_)\n",
    "disp = ConfusionMatrixDisplay(confusion_matrix=matrix, display_labels=knn.classes_)\n",
    "disp.plot()\n",
    "plt.grid(False)\n",
    "plt.show()"
   ],
   "metadata": {
    "collapsed": false,
    "ExecuteTime": {
     "start_time": "2024-01-07T10:48:04.915700300Z"
    }
   },
   "id": "2e5278d502ae6c8"
  },
  {
   "cell_type": "markdown",
   "source": [
    "<h2>Baseline Strategie<h2>"
   ],
   "metadata": {
    "collapsed": false
   },
   "id": "741ff0fb149eb7a"
  },
  {
   "cell_type": "code",
   "execution_count": null,
   "outputs": [],
   "source": [
    "# Errechnung des Gewinn/Verlusts bei Befolgung der Baseline Strategie\n",
    "len(y_test_2)\n",
    "count_RESP_yes = sum(y_test_2)\n",
    "count_RESP_no = len(y_test_2) - sum(y_test_2)\n",
    "baseline = (count_RESP_yes*16)+(count_RESP_no*(-2))\n",
    "print(baseline)"
   ],
   "metadata": {
    "collapsed": false,
    "ExecuteTime": {
     "start_time": "2024-01-07T10:48:04.934574900Z"
    }
   },
   "id": "c34642528878c816"
  }
 ],
 "metadata": {
  "kernelspec": {
   "display_name": "Python 3",
   "language": "python",
   "name": "python3"
  },
  "language_info": {
   "codemirror_mode": {
    "name": "ipython",
    "version": 2
   },
   "file_extension": ".py",
   "mimetype": "text/x-python",
   "name": "python",
   "nbconvert_exporter": "python",
   "pygments_lexer": "ipython2",
   "version": "2.7.6"
  }
 },
 "nbformat": 4,
 "nbformat_minor": 5
}
